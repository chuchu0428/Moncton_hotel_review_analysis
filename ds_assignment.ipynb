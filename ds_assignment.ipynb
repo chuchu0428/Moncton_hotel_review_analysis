{
  "nbformat": 4,
  "nbformat_minor": 0,
  "metadata": {
    "kernelspec": {
      "display_name": "Python 3",
      "language": "python",
      "name": "python3"
    },
    "language_info": {
      "codemirror_mode": {
        "name": "ipython",
        "version": 3
      },
      "file_extension": ".py",
      "mimetype": "text/x-python",
      "name": "python",
      "nbconvert_exporter": "python",
      "pygments_lexer": "ipython3",
      "version": "3.5.2"
    },
    "colab": {
      "name": "ds_assignment-2.ipynb",
      "provenance": [],
      "collapsed_sections": []
    }
  },
  "cells": [
    {
      "cell_type": "markdown",
      "metadata": {
        "id": "NHlmc-vA1mG_",
        "colab_type": "text"
      },
      "source": [
        "# Moncton, New Brunswick Hotel Review Sentiment Analysis"
      ]
    },
    {
      "cell_type": "markdown",
      "metadata": {
        "id": "IuW5JdJqC5nu",
        "colab_type": "text"
      },
      "source": [
        "# Data "
      ]
    },
    {
      "cell_type": "code",
      "metadata": {
        "id": "3rlLEXArDM8z",
        "colab_type": "code",
        "outputId": "1e521c59-f21b-401a-d949-9d5abf6f7245",
        "colab": {
          "base_uri": "https://localhost:8080/",
          "height": 552
        }
      },
      "source": [
        "!pip install wget\n",
        "import wget\n",
        "!pip install twython\n",
        "!pip install whoosh"
      ],
      "execution_count": 0,
      "outputs": [
        {
          "output_type": "stream",
          "text": [
            "Collecting wget\n",
            "  Downloading https://files.pythonhosted.org/packages/47/6a/62e288da7bcda82b935ff0c6cfe542970f04e29c756b0e147251b2fb251f/wget-3.2.zip\n",
            "Building wheels for collected packages: wget\n",
            "  Building wheel for wget (setup.py) ... \u001b[?25l\u001b[?25hdone\n",
            "  Created wheel for wget: filename=wget-3.2-cp36-none-any.whl size=9682 sha256=8cce570d4c8467419d4f8508d432ec946338f90ee0d80be0f1488c95fbca447a\n",
            "  Stored in directory: /root/.cache/pip/wheels/40/15/30/7d8f7cea2902b4db79e3fea550d7d7b85ecb27ef992b618f3f\n",
            "Successfully built wget\n",
            "Installing collected packages: wget\n",
            "Successfully installed wget-3.2\n",
            "Collecting twython\n",
            "  Downloading https://files.pythonhosted.org/packages/24/80/579b96dfaa9b536efde883d4f0df7ea2598a6f3117a6dd572787f4a2bcfb/twython-3.8.2-py3-none-any.whl\n",
            "Requirement already satisfied: requests-oauthlib>=0.4.0 in /usr/local/lib/python3.6/dist-packages (from twython) (1.3.0)\n",
            "Requirement already satisfied: requests>=2.1.0 in /usr/local/lib/python3.6/dist-packages (from twython) (2.21.0)\n",
            "Requirement already satisfied: oauthlib>=3.0.0 in /usr/local/lib/python3.6/dist-packages (from requests-oauthlib>=0.4.0->twython) (3.1.0)\n",
            "Requirement already satisfied: idna<2.9,>=2.5 in /usr/local/lib/python3.6/dist-packages (from requests>=2.1.0->twython) (2.8)\n",
            "Requirement already satisfied: urllib3<1.25,>=1.21.1 in /usr/local/lib/python3.6/dist-packages (from requests>=2.1.0->twython) (1.24.3)\n",
            "Requirement already satisfied: certifi>=2017.4.17 in /usr/local/lib/python3.6/dist-packages (from requests>=2.1.0->twython) (2019.11.28)\n",
            "Requirement already satisfied: chardet<3.1.0,>=3.0.2 in /usr/local/lib/python3.6/dist-packages (from requests>=2.1.0->twython) (3.0.4)\n",
            "Installing collected packages: twython\n",
            "Successfully installed twython-3.8.2\n",
            "Collecting whoosh\n",
            "\u001b[?25l  Downloading https://files.pythonhosted.org/packages/ba/19/24d0f1f454a2c1eb689ca28d2f178db81e5024f42d82729a4ff6771155cf/Whoosh-2.7.4-py2.py3-none-any.whl (468kB)\n",
            "\u001b[K     |████████████████████████████████| 471kB 2.8MB/s \n",
            "\u001b[?25hInstalling collected packages: whoosh\n",
            "Successfully installed whoosh-2.7.4\n"
          ],
          "name": "stdout"
        }
      ]
    },
    {
      "cell_type": "code",
      "metadata": {
        "id": "8Imy-aN3Thz5",
        "colab_type": "code",
        "outputId": "261fa715-030c-4434-8530-54de28c2f6f1",
        "colab": {
          "base_uri": "https://localhost:8080/",
          "height": 227
        }
      },
      "source": [
        "#Plot\n",
        "import matplotlib.pyplot as plt\n",
        "import seaborn as sns\n",
        "%matplotlib inline\n",
        "\n",
        "#Data Packages\n",
        "import math\n",
        "import pandas\n",
        "import numpy as np\n",
        "\n",
        "#Progress bar\n",
        "from tqdm import tqdm\n",
        "\n",
        "#Counter\n",
        "from collections import Counter\n",
        "\n",
        "#Operation\n",
        "import operator\n",
        "\n",
        "#Natural Language Processing Packages\n",
        "import re\n",
        "import nltk\n",
        "from whoosh import index, writing\n",
        "from whoosh.fields import Schema, TEXT, KEYWORD, ID, STORED\n",
        "from whoosh.analysis import *\n",
        "from whoosh.qparser import QueryParser\n",
        "\n",
        "## Download Resources\n",
        "nltk.download(\"vader_lexicon\")\n",
        "nltk.download(\"stopwords\")\n",
        "nltk.download(\"averaged_perceptron_tagger\")\n",
        "nltk.download(\"wordnet\")\n",
        "\n",
        "from nltk.sentiment import SentimentAnalyzer\n",
        "from nltk.sentiment.vader import SentimentIntensityAnalyzer\n",
        "from nltk.sentiment.util import *\n",
        "from nltk import tokenize\n",
        "from nltk.corpus import stopwords\n",
        "from nltk.tag import PerceptronTagger\n",
        "from nltk.data import find\n",
        "from nltk.tokenize import RegexpTokenizer\n",
        "\n",
        "## Machine Learning\n",
        "import sklearn\n",
        "import sklearn.metrics as metrics\n",
        "\n",
        "import pandas as pd"
      ],
      "execution_count": 0,
      "outputs": [
        {
          "output_type": "stream",
          "text": [
            "/usr/local/lib/python3.6/dist-packages/statsmodels/tools/_testing.py:19: FutureWarning: pandas.util.testing is deprecated. Use the functions in the public API at pandas.testing instead.\n",
            "  import pandas.util.testing as tm\n"
          ],
          "name": "stderr"
        },
        {
          "output_type": "stream",
          "text": [
            "[nltk_data] Downloading package vader_lexicon to /root/nltk_data...\n",
            "[nltk_data] Downloading package stopwords to /root/nltk_data...\n",
            "[nltk_data]   Unzipping corpora/stopwords.zip.\n",
            "[nltk_data] Downloading package averaged_perceptron_tagger to\n",
            "[nltk_data]     /root/nltk_data...\n",
            "[nltk_data]   Unzipping taggers/averaged_perceptron_tagger.zip.\n",
            "[nltk_data] Downloading package wordnet to /root/nltk_data...\n",
            "[nltk_data]   Unzipping corpora/wordnet.zip.\n"
          ],
          "name": "stdout"
        }
      ]
    },
    {
      "cell_type": "code",
      "metadata": {
        "id": "KrlmMeXTwYEt",
        "colab_type": "code",
        "colab": {}
      },
      "source": [
        "random.seed(10)"
      ],
      "execution_count": 0,
      "outputs": []
    },
    {
      "cell_type": "markdown",
      "metadata": {
        "id": "X8ZVeEhUVKFg",
        "colab_type": "text"
      },
      "source": [
        "####This dataset has already been cleaned. The step is completed in the 'da_filter_data.ipynb' file. There are 18 hotels in total with 120 reviews for 17 hotels and 100 reviews for the other one. The dataset has 2140 rows in total."
      ]
    },
    {
      "cell_type": "code",
      "metadata": {
        "id": "-dG3khHFCvZR",
        "colab_type": "code",
        "outputId": "a25444be-f14c-421c-97db-ce0226eed0c4",
        "colab": {
          "base_uri": "https://localhost:8080/",
          "height": 530
        }
      },
      "source": [
        "df = pd.read_csv('https://github.com/chuchu0428/Moncton_hotel_review_analysis/blob/master/reviews_moncton_cleaned.csv?raw=true', index_col=0)\n",
        "df = df[['hotel','review','score','sentiment']]\n",
        "pd.set_option('display.max_colwidth',-1)\n",
        "df.head()"
      ],
      "execution_count": 0,
      "outputs": [
        {
          "output_type": "stream",
          "text": [
            "/usr/local/lib/python3.6/dist-packages/ipykernel_launcher.py:3: FutureWarning: Passing a negative integer is deprecated in version 1.0 and will not be supported in future version. Instead, use None to not limit the column width.\n",
            "  This is separate from the ipykernel package so we can avoid doing imports until\n"
          ],
          "name": "stderr"
        },
        {
          "output_type": "execute_result",
          "data": {
            "text/html": [
              "<div>\n",
              "<style scoped>\n",
              "    .dataframe tbody tr th:only-of-type {\n",
              "        vertical-align: middle;\n",
              "    }\n",
              "\n",
              "    .dataframe tbody tr th {\n",
              "        vertical-align: top;\n",
              "    }\n",
              "\n",
              "    .dataframe thead th {\n",
              "        text-align: right;\n",
              "    }\n",
              "</style>\n",
              "<table border=\"1\" class=\"dataframe\">\n",
              "  <thead>\n",
              "    <tr style=\"text-align: right;\">\n",
              "      <th></th>\n",
              "      <th>hotel</th>\n",
              "      <th>review</th>\n",
              "      <th>score</th>\n",
              "      <th>sentiment</th>\n",
              "    </tr>\n",
              "  </thead>\n",
              "  <tbody>\n",
              "    <tr>\n",
              "      <th>0</th>\n",
              "      <td>Amsterdam Inn &amp;amp; Suites Moncton</td>\n",
              "      <td>\"This time, the first thing I noticed about this hotel is a young staff that was friendly, courteous, knowledgeable and helpful.  One of the two best that I have ever encountered. We stayed in a front first floor room, which meant that we had an interior corridor, but also direct access to the outside and our car parked right in front of the room.  The room itself was well above average, very clean, comfortable, nice bathroom.  The (included) breakfast was quite good.  We can't speak to the WiFi, as we hooked up to our own mobile unit.</td>\n",
              "      <td>4</td>\n",
              "      <td>positive</td>\n",
              "    </tr>\n",
              "    <tr>\n",
              "      <th>1</th>\n",
              "      <td>Amsterdam Inn &amp;amp; Suites Moncton</td>\n",
              "      <td>\"I have no complaints about this hotel.  While nothing really stood out as being exceptional, it was clean and comfortable.  The service was OK, the breakfast was tasty with good selection for a continental, and while the location is somewhat out of the way, it's by no means inconvienent.\\n\\nThe price **may** have been a little high at $130\\u002Fnight, however i've paid more for worse!\\n\\nRecommended.</td>\n",
              "      <td>4</td>\n",
              "      <td>positive</td>\n",
              "    </tr>\n",
              "    <tr>\n",
              "      <th>2</th>\n",
              "      <td>Amsterdam Inn &amp;amp; Suites Moncton</td>\n",
              "      <td>\"hotel had all the items we needed for our stay including fridge, coffee maker and free breakfast and WIFI .  Two minute walk to the casino for booked entertainment, or gambling at the casino. car necessary for all the great shopping in Moncton area. Great place to stay.</td>\n",
              "      <td>4</td>\n",
              "      <td>positive</td>\n",
              "    </tr>\n",
              "    <tr>\n",
              "      <th>3</th>\n",
              "      <td>Amsterdam Inn &amp;amp; Suites Moncton</td>\n",
              "      <td>\"Navigating during this difficult time of covid-19 this hotel and their staff were nothing but Amazing. Welcoming with open arms but 6 feet away , their cleanliness to details and for the protection of their staff was exceptional. Their kindness goes beyond a 10\\u002F10 rating ... They were simply amazing, accommodating, kind and compassionate ... We recommend them 10 times over and it was our first time meeting them and visiting this hotel in beautiful Moncton . Cathy needs a little star on her nametag, as she was a blessing to deal with . We cannot wait to book the beautiful honeymoon suite once our world returns to normal, and we can visit Moncton, and all it has to offer !</td>\n",
              "      <td>5</td>\n",
              "      <td>positive</td>\n",
              "    </tr>\n",
              "    <tr>\n",
              "      <th>4</th>\n",
              "      <td>Amsterdam Inn &amp;amp; Suites Moncton</td>\n",
              "      <td>\"Our single room on the ground floor had an outside entrance with a cute little porch. This hotel has a lot of pros: convenient location (you don't have to drive hither and yon to find it from the highway), very clean rooms, super comfy bed, helpful &amp; friendly front desk staff, breakfast included, strong wifi. Would definitely recommend.</td>\n",
              "      <td>5</td>\n",
              "      <td>positive</td>\n",
              "    </tr>\n",
              "  </tbody>\n",
              "</table>\n",
              "</div>"
            ],
            "text/plain": [
              "                                hotel  ... sentiment\n",
              "0  Amsterdam Inn &amp; Suites Moncton  ...  positive\n",
              "1  Amsterdam Inn &amp; Suites Moncton  ...  positive\n",
              "2  Amsterdam Inn &amp; Suites Moncton  ...  positive\n",
              "3  Amsterdam Inn &amp; Suites Moncton  ...  positive\n",
              "4  Amsterdam Inn &amp; Suites Moncton  ...  positive\n",
              "\n",
              "[5 rows x 4 columns]"
            ]
          },
          "metadata": {
            "tags": []
          },
          "execution_count": 5
        }
      ]
    },
    {
      "cell_type": "markdown",
      "metadata": {
        "id": "eJIIuiXbV7PH",
        "colab_type": "text"
      },
      "source": [
        "##Q1. Sentiment Analysis and Aggregation\n",
        "###(a) Compute average Vader sentiment and average ground truth rating per hotel."
      ]
    },
    {
      "cell_type": "code",
      "metadata": {
        "id": "-zwFCVOTWHXl",
        "colab_type": "code",
        "colab": {}
      },
      "source": [
        "# Use vader to evaluated sentiment of reviews\n",
        "def evalSentences(sentences, to_df=False, columns=[]):\n",
        "    #Instantiate an instance to access SentimentIntensityAnalyzer class\n",
        "    sid = SentimentIntensityAnalyzer()\n",
        "    pdlist = []\n",
        "    if to_df:\n",
        "        for sentence in tqdm(sentences):\n",
        "            ss = sid.polarity_scores(sentence) #PMI(phrase,'excellent')-PMI(phrase,'poor')\n",
        "            pdlist.append([sentence]+[ss['compound']])\n",
        "        reviewDf = pandas.DataFrame(pdlist)\n",
        "        reviewDf.columns = columns\n",
        "        return reviewDf\n",
        "    \n",
        "    else:\n",
        "        for sentence in tqdm(sentences):\n",
        "            print(sentence)\n",
        "            ss = sid.polarity_scores(sentence)\n",
        "            for k in sorted(ss):\n",
        "                print('{0}: {1}, '.format(k, ss[k]), end='')\n",
        "            print()"
      ],
      "execution_count": 0,
      "outputs": []
    },
    {
      "cell_type": "code",
      "metadata": {
        "id": "siSKYeNUX682",
        "colab_type": "code",
        "outputId": "0f51c4a4-ac13-4a87-c110-456f51270ee2",
        "colab": {
          "base_uri": "https://localhost:8080/",
          "height": 34
        }
      },
      "source": [
        "reviews = df['review'].values\n",
        "reviewDF = evalSentences(reviews, to_df=True, columns=['reviewCol','vader'])"
      ],
      "execution_count": 0,
      "outputs": [
        {
          "output_type": "stream",
          "text": [
            "100%|██████████| 2140/2140 [00:02<00:00, 872.98it/s]\n"
          ],
          "name": "stderr"
        }
      ]
    },
    {
      "cell_type": "code",
      "metadata": {
        "id": "NMoF-_2UYN6W",
        "colab_type": "code",
        "outputId": "1f2dde33-f516-45be-fa3c-8788b71dc3f5",
        "colab": {
          "base_uri": "https://localhost:8080/",
          "height": 391
        }
      },
      "source": [
        "reviewDF.head()"
      ],
      "execution_count": 0,
      "outputs": [
        {
          "output_type": "execute_result",
          "data": {
            "text/html": [
              "<div>\n",
              "<style scoped>\n",
              "    .dataframe tbody tr th:only-of-type {\n",
              "        vertical-align: middle;\n",
              "    }\n",
              "\n",
              "    .dataframe tbody tr th {\n",
              "        vertical-align: top;\n",
              "    }\n",
              "\n",
              "    .dataframe thead th {\n",
              "        text-align: right;\n",
              "    }\n",
              "</style>\n",
              "<table border=\"1\" class=\"dataframe\">\n",
              "  <thead>\n",
              "    <tr style=\"text-align: right;\">\n",
              "      <th></th>\n",
              "      <th>reviewCol</th>\n",
              "      <th>vader</th>\n",
              "    </tr>\n",
              "  </thead>\n",
              "  <tbody>\n",
              "    <tr>\n",
              "      <th>0</th>\n",
              "      <td>\"This time, the first thing I noticed about this hotel is a young staff that was friendly, courteous, knowledgeable and helpful.  One of the two best that I have ever encountered. We stayed in a front first floor room, which meant that we had an interior corridor, but also direct access to the outside and our car parked right in front of the room.  The room itself was well above average, very clean, comfortable, nice bathroom.  The (included) breakfast was quite good.  We can't speak to the WiFi, as we hooked up to our own mobile unit.</td>\n",
              "      <td>0.9789</td>\n",
              "    </tr>\n",
              "    <tr>\n",
              "      <th>1</th>\n",
              "      <td>\"I have no complaints about this hotel.  While nothing really stood out as being exceptional, it was clean and comfortable.  The service was OK, the breakfast was tasty with good selection for a continental, and while the location is somewhat out of the way, it's by no means inconvienent.\\n\\nThe price **may** have been a little high at $130\\u002Fnight, however i've paid more for worse!\\n\\nRecommended.</td>\n",
              "      <td>0.7206</td>\n",
              "    </tr>\n",
              "    <tr>\n",
              "      <th>2</th>\n",
              "      <td>\"hotel had all the items we needed for our stay including fridge, coffee maker and free breakfast and WIFI .  Two minute walk to the casino for booked entertainment, or gambling at the casino. car necessary for all the great shopping in Moncton area. Great place to stay.</td>\n",
              "      <td>0.9360</td>\n",
              "    </tr>\n",
              "    <tr>\n",
              "      <th>3</th>\n",
              "      <td>\"Navigating during this difficult time of covid-19 this hotel and their staff were nothing but Amazing. Welcoming with open arms but 6 feet away , their cleanliness to details and for the protection of their staff was exceptional. Their kindness goes beyond a 10\\u002F10 rating ... They were simply amazing, accommodating, kind and compassionate ... We recommend them 10 times over and it was our first time meeting them and visiting this hotel in beautiful Moncton . Cathy needs a little star on her nametag, as she was a blessing to deal with . We cannot wait to book the beautiful honeymoon suite once our world returns to normal, and we can visit Moncton, and all it has to offer !</td>\n",
              "      <td>0.9855</td>\n",
              "    </tr>\n",
              "    <tr>\n",
              "      <th>4</th>\n",
              "      <td>\"Our single room on the ground floor had an outside entrance with a cute little porch. This hotel has a lot of pros: convenient location (you don't have to drive hither and yon to find it from the highway), very clean rooms, super comfy bed, helpful &amp; friendly front desk staff, breakfast included, strong wifi. Would definitely recommend.</td>\n",
              "      <td>0.9740</td>\n",
              "    </tr>\n",
              "  </tbody>\n",
              "</table>\n",
              "</div>"
            ],
            "text/plain": [
              "                                                                                                                                                                                                                                                                                                                                                                                                                                                                                                                                                                                                                                                                                                       reviewCol   vader\n",
              "0  \"This time, the first thing I noticed about this hotel is a young staff that was friendly, courteous, knowledgeable and helpful.  One of the two best that I have ever encountered. We stayed in a front first floor room, which meant that we had an interior corridor, but also direct access to the outside and our car parked right in front of the room.  The room itself was well above average, very clean, comfortable, nice bathroom.  The (included) breakfast was quite good.  We can't speak to the WiFi, as we hooked up to our own mobile unit.                                                                                                                                                  0.9789\n",
              "1  \"I have no complaints about this hotel.  While nothing really stood out as being exceptional, it was clean and comfortable.  The service was OK, the breakfast was tasty with good selection for a continental, and while the location is somewhat out of the way, it's by no means inconvienent.\\n\\nThe price **may** have been a little high at $130\\u002Fnight, however i've paid more for worse!\\n\\nRecommended.                                                                                                                                                                                                                                                                                           0.7206\n",
              "2  \"hotel had all the items we needed for our stay including fridge, coffee maker and free breakfast and WIFI .  Two minute walk to the casino for booked entertainment, or gambling at the casino. car necessary for all the great shopping in Moncton area. Great place to stay.                                                                                                                                                                                                                                                                                                                                                                                                                                0.9360\n",
              "3  \"Navigating during this difficult time of covid-19 this hotel and their staff were nothing but Amazing. Welcoming with open arms but 6 feet away , their cleanliness to details and for the protection of their staff was exceptional. Their kindness goes beyond a 10\\u002F10 rating ... They were simply amazing, accommodating, kind and compassionate ... We recommend them 10 times over and it was our first time meeting them and visiting this hotel in beautiful Moncton . Cathy needs a little star on her nametag, as she was a blessing to deal with . We cannot wait to book the beautiful honeymoon suite once our world returns to normal, and we can visit Moncton, and all it has to offer !  0.9855\n",
              "4  \"Our single room on the ground floor had an outside entrance with a cute little porch. This hotel has a lot of pros: convenient location (you don't have to drive hither and yon to find it from the highway), very clean rooms, super comfy bed, helpful & friendly front desk staff, breakfast included, strong wifi. Would definitely recommend.                                                                                                                                                                                                                                                                                                                                                            0.9740"
            ]
          },
          "metadata": {
            "tags": []
          },
          "execution_count": 8
        }
      ]
    },
    {
      "cell_type": "code",
      "metadata": {
        "id": "3ksyLNeM6nSW",
        "colab_type": "code",
        "colab": {}
      },
      "source": [
        "df['vader'] = reviewDF['vader']\n",
        "df2=df.copy()\n",
        "df2['sentiment'] = [1 if x=='positive' else -1 for x in df.sentiment]"
      ],
      "execution_count": 0,
      "outputs": []
    },
    {
      "cell_type": "code",
      "metadata": {
        "id": "UwGHv0ldU8Yq",
        "colab_type": "code",
        "outputId": "28b096c8-038c-44bb-a308-1e355db8631a",
        "colab": {
          "base_uri": "https://localhost:8080/",
          "height": 148
        }
      },
      "source": [
        "df2.head(1)"
      ],
      "execution_count": 0,
      "outputs": [
        {
          "output_type": "execute_result",
          "data": {
            "text/html": [
              "<div>\n",
              "<style scoped>\n",
              "    .dataframe tbody tr th:only-of-type {\n",
              "        vertical-align: middle;\n",
              "    }\n",
              "\n",
              "    .dataframe tbody tr th {\n",
              "        vertical-align: top;\n",
              "    }\n",
              "\n",
              "    .dataframe thead th {\n",
              "        text-align: right;\n",
              "    }\n",
              "</style>\n",
              "<table border=\"1\" class=\"dataframe\">\n",
              "  <thead>\n",
              "    <tr style=\"text-align: right;\">\n",
              "      <th></th>\n",
              "      <th>hotel</th>\n",
              "      <th>review</th>\n",
              "      <th>score</th>\n",
              "      <th>sentiment</th>\n",
              "      <th>vader</th>\n",
              "    </tr>\n",
              "  </thead>\n",
              "  <tbody>\n",
              "    <tr>\n",
              "      <th>0</th>\n",
              "      <td>Amsterdam Inn &amp;amp; Suites Moncton</td>\n",
              "      <td>\"This time, the first thing I noticed about this hotel is a young staff that was friendly, courteous, knowledgeable and helpful.  One of the two best that I have ever encountered. We stayed in a front first floor room, which meant that we had an interior corridor, but also direct access to the outside and our car parked right in front of the room.  The room itself was well above average, very clean, comfortable, nice bathroom.  The (included) breakfast was quite good.  We can't speak to the WiFi, as we hooked up to our own mobile unit.</td>\n",
              "      <td>4</td>\n",
              "      <td>1</td>\n",
              "      <td>0.9789</td>\n",
              "    </tr>\n",
              "  </tbody>\n",
              "</table>\n",
              "</div>"
            ],
            "text/plain": [
              "                                hotel  ...   vader\n",
              "0  Amsterdam Inn &amp; Suites Moncton  ...  0.9789\n",
              "\n",
              "[1 rows x 5 columns]"
            ]
          },
          "metadata": {
            "tags": []
          },
          "execution_count": 10
        }
      ]
    },
    {
      "cell_type": "code",
      "metadata": {
        "id": "B7_aZtuJaBY2",
        "colab_type": "code",
        "outputId": "64aaa5d5-faac-48da-ee3e-d62e2b4eeeb2",
        "colab": {
          "base_uri": "https://localhost:8080/",
          "height": 408
        }
      },
      "source": [
        "print('The average Vader sentiment for each hotel is:')\n",
        "print('\\n')\n",
        "df.groupby('hotel').mean().vader.sort_values(ascending=True)"
      ],
      "execution_count": 0,
      "outputs": [
        {
          "output_type": "stream",
          "text": [
            "The average Vader sentiment for each hotel is:\n",
            "\n",
            "\n"
          ],
          "name": "stdout"
        },
        {
          "output_type": "execute_result",
          "data": {
            "text/plain": [
              "hotel\n",
              "Howard Johnson by Wyndham Moncton                  0.344578\n",
              "Travelodge Suites Moncton                          0.479580\n",
              "Days Inn &amp; Suites by Wyndham Moncton           0.669666\n",
              "Best Western Plus Moncton                          0.696138\n",
              "Comfort Inn East                                   0.712707\n",
              "Midtown Motel &amp; Suites                         0.770074\n",
              "Rodd Moncton Hotel                                 0.772581\n",
              "Crowne Plaza Moncton Downtown                      0.774815\n",
              "Hotel Casino New Brunswick                         0.784327\n",
              "V Hotel and Suites                                 0.790096\n",
              "Four Points by Sheraton Moncton                    0.803104\n",
              "Fairfield Inn &amp; Suites by Marriott Moncton     0.814950\n",
              "Amsterdam Inn &amp; Suites Moncton                 0.816495\n",
              "Delta Hotels by Marriott Beausejour                0.827642\n",
              "Chateau Moncton Trademark Collection by Wyndham    0.852117\n",
              "Residence Inn by Marriott Moncton                  0.873703\n",
              "Hampton Inn &amp; Suites by Hilton Moncton         0.877746\n",
              "Wild Rose Inn                                      0.940159\n",
              "Name: vader, dtype: float64"
            ]
          },
          "metadata": {
            "tags": []
          },
          "execution_count": 11
        }
      ]
    },
    {
      "cell_type": "code",
      "metadata": {
        "id": "GcH-Ja0vbNQW",
        "colab_type": "code",
        "outputId": "f66355af-6840-4ba8-f9c7-e9801c678a14",
        "colab": {
          "base_uri": "https://localhost:8080/",
          "height": 408
        }
      },
      "source": [
        "print('The average ground truth rating for each hotel is:')\n",
        "print('\\n')\n",
        "df2.groupby('hotel').mean().sentiment.sort_values(ascending=False)"
      ],
      "execution_count": 0,
      "outputs": [
        {
          "output_type": "stream",
          "text": [
            "The average ground truth rating for each hotel is:\n",
            "\n",
            "\n"
          ],
          "name": "stdout"
        },
        {
          "output_type": "execute_result",
          "data": {
            "text/plain": [
              "hotel\n",
              "Hampton Inn &amp; Suites by Hilton Moncton         0.900000\n",
              "Wild Rose Inn                                      0.850000\n",
              "Residence Inn by Marriott Moncton                  0.850000\n",
              "Fairfield Inn &amp; Suites by Marriott Moncton     0.850000\n",
              "Four Points by Sheraton Moncton                    0.850000\n",
              "Chateau Moncton Trademark Collection by Wyndham    0.800000\n",
              "Amsterdam Inn &amp; Suites Moncton                 0.783333\n",
              "Delta Hotels by Marriott Beausejour                0.616667\n",
              "Midtown Motel &amp; Suites                         0.566667\n",
              "Comfort Inn East                                   0.550000\n",
              "Hotel Casino New Brunswick                         0.533333\n",
              "Crowne Plaza Moncton Downtown                      0.466667\n",
              "Rodd Moncton Hotel                                 0.450000\n",
              "Best Western Plus Moncton                          0.433333\n",
              "Days Inn &amp; Suites by Wyndham Moncton           0.283333\n",
              "Travelodge Suites Moncton                          0.250000\n",
              "V Hotel and Suites                                 0.100000\n",
              "Howard Johnson by Wyndham Moncton                 -0.266667\n",
              "Name: sentiment, dtype: float64"
            ]
          },
          "metadata": {
            "tags": []
          },
          "execution_count": 12
        }
      ]
    },
    {
      "cell_type": "markdown",
      "metadata": {
        "id": "UTiGY1Y6v_2x",
        "colab_type": "text"
      },
      "source": [
        "### (b) Rank hotels \n",
        "\n",
        "\n",
        "*   Average Ground Truth Sentiment\n",
        "\n",
        "\n",
        "\n"
      ]
    },
    {
      "cell_type": "code",
      "metadata": {
        "id": "jGjWm3UhwGOO",
        "colab_type": "code",
        "outputId": "77b51eea-a2d3-46b7-d98b-62e1e59fb5ff",
        "colab": {
          "base_uri": "https://localhost:8080/",
          "height": 235
        }
      },
      "source": [
        "#top5\n",
        "df2.groupby('hotel').mean()[['sentiment','vader']].sort_values(by=['sentiment'], ascending=False)[:5]"
      ],
      "execution_count": 0,
      "outputs": [
        {
          "output_type": "execute_result",
          "data": {
            "text/html": [
              "<div>\n",
              "<style scoped>\n",
              "    .dataframe tbody tr th:only-of-type {\n",
              "        vertical-align: middle;\n",
              "    }\n",
              "\n",
              "    .dataframe tbody tr th {\n",
              "        vertical-align: top;\n",
              "    }\n",
              "\n",
              "    .dataframe thead th {\n",
              "        text-align: right;\n",
              "    }\n",
              "</style>\n",
              "<table border=\"1\" class=\"dataframe\">\n",
              "  <thead>\n",
              "    <tr style=\"text-align: right;\">\n",
              "      <th></th>\n",
              "      <th>sentiment</th>\n",
              "      <th>vader</th>\n",
              "    </tr>\n",
              "    <tr>\n",
              "      <th>hotel</th>\n",
              "      <th></th>\n",
              "      <th></th>\n",
              "    </tr>\n",
              "  </thead>\n",
              "  <tbody>\n",
              "    <tr>\n",
              "      <th>Hampton Inn &amp;amp; Suites by Hilton Moncton</th>\n",
              "      <td>0.90</td>\n",
              "      <td>0.877746</td>\n",
              "    </tr>\n",
              "    <tr>\n",
              "      <th>Fairfield Inn &amp;amp; Suites by Marriott Moncton</th>\n",
              "      <td>0.85</td>\n",
              "      <td>0.814950</td>\n",
              "    </tr>\n",
              "    <tr>\n",
              "      <th>Residence Inn by Marriott Moncton</th>\n",
              "      <td>0.85</td>\n",
              "      <td>0.873703</td>\n",
              "    </tr>\n",
              "    <tr>\n",
              "      <th>Four Points by Sheraton Moncton</th>\n",
              "      <td>0.85</td>\n",
              "      <td>0.803104</td>\n",
              "    </tr>\n",
              "    <tr>\n",
              "      <th>Wild Rose Inn</th>\n",
              "      <td>0.85</td>\n",
              "      <td>0.940159</td>\n",
              "    </tr>\n",
              "  </tbody>\n",
              "</table>\n",
              "</div>"
            ],
            "text/plain": [
              "                                                sentiment     vader\n",
              "hotel                                                              \n",
              "Hampton Inn &amp; Suites by Hilton Moncton      0.90       0.877746\n",
              "Fairfield Inn &amp; Suites by Marriott Moncton  0.85       0.814950\n",
              "Residence Inn by Marriott Moncton               0.85       0.873703\n",
              "Four Points by Sheraton Moncton                 0.85       0.803104\n",
              "Wild Rose Inn                                   0.85       0.940159"
            ]
          },
          "metadata": {
            "tags": []
          },
          "execution_count": 13
        }
      ]
    },
    {
      "cell_type": "code",
      "metadata": {
        "id": "diWU0FqG2V6j",
        "colab_type": "code",
        "outputId": "c5795c89-3047-4616-8191-1c6bb8619dc4",
        "colab": {
          "base_uri": "https://localhost:8080/",
          "height": 235
        }
      },
      "source": [
        "#bottom5\n",
        "df2.groupby('hotel').mean()[['sentiment','vader']].sort_values(by=['sentiment'], ascending=True)[:5]"
      ],
      "execution_count": 0,
      "outputs": [
        {
          "output_type": "execute_result",
          "data": {
            "text/html": [
              "<div>\n",
              "<style scoped>\n",
              "    .dataframe tbody tr th:only-of-type {\n",
              "        vertical-align: middle;\n",
              "    }\n",
              "\n",
              "    .dataframe tbody tr th {\n",
              "        vertical-align: top;\n",
              "    }\n",
              "\n",
              "    .dataframe thead th {\n",
              "        text-align: right;\n",
              "    }\n",
              "</style>\n",
              "<table border=\"1\" class=\"dataframe\">\n",
              "  <thead>\n",
              "    <tr style=\"text-align: right;\">\n",
              "      <th></th>\n",
              "      <th>sentiment</th>\n",
              "      <th>vader</th>\n",
              "    </tr>\n",
              "    <tr>\n",
              "      <th>hotel</th>\n",
              "      <th></th>\n",
              "      <th></th>\n",
              "    </tr>\n",
              "  </thead>\n",
              "  <tbody>\n",
              "    <tr>\n",
              "      <th>Howard Johnson by Wyndham Moncton</th>\n",
              "      <td>-0.266667</td>\n",
              "      <td>0.344578</td>\n",
              "    </tr>\n",
              "    <tr>\n",
              "      <th>V Hotel and Suites</th>\n",
              "      <td>0.100000</td>\n",
              "      <td>0.790096</td>\n",
              "    </tr>\n",
              "    <tr>\n",
              "      <th>Travelodge Suites Moncton</th>\n",
              "      <td>0.250000</td>\n",
              "      <td>0.479580</td>\n",
              "    </tr>\n",
              "    <tr>\n",
              "      <th>Days Inn &amp;amp; Suites by Wyndham Moncton</th>\n",
              "      <td>0.283333</td>\n",
              "      <td>0.669666</td>\n",
              "    </tr>\n",
              "    <tr>\n",
              "      <th>Best Western Plus Moncton</th>\n",
              "      <td>0.433333</td>\n",
              "      <td>0.696138</td>\n",
              "    </tr>\n",
              "  </tbody>\n",
              "</table>\n",
              "</div>"
            ],
            "text/plain": [
              "                                          sentiment     vader\n",
              "hotel                                                        \n",
              "Howard Johnson by Wyndham Moncton        -0.266667   0.344578\n",
              "V Hotel and Suites                        0.100000   0.790096\n",
              "Travelodge Suites Moncton                 0.250000   0.479580\n",
              "Days Inn &amp; Suites by Wyndham Moncton  0.283333   0.669666\n",
              "Best Western Plus Moncton                 0.433333   0.696138"
            ]
          },
          "metadata": {
            "tags": []
          },
          "execution_count": 14
        }
      ]
    },
    {
      "cell_type": "markdown",
      "metadata": {
        "id": "f4Vnhj301dT7",
        "colab_type": "text"
      },
      "source": [
        "*   Average Vader Compound Sentiment Score"
      ]
    },
    {
      "cell_type": "code",
      "metadata": {
        "id": "mK-N2Dww0vbM",
        "colab_type": "code",
        "outputId": "7d83cd46-d218-4531-fedd-f63c5f621b5d",
        "colab": {
          "base_uri": "https://localhost:8080/",
          "height": 235
        }
      },
      "source": [
        "#top5\n",
        "df2.groupby('hotel').mean()[['vader','sentiment']].sort_values(by=['vader'], ascending=False)[:5]"
      ],
      "execution_count": 0,
      "outputs": [
        {
          "output_type": "execute_result",
          "data": {
            "text/html": [
              "<div>\n",
              "<style scoped>\n",
              "    .dataframe tbody tr th:only-of-type {\n",
              "        vertical-align: middle;\n",
              "    }\n",
              "\n",
              "    .dataframe tbody tr th {\n",
              "        vertical-align: top;\n",
              "    }\n",
              "\n",
              "    .dataframe thead th {\n",
              "        text-align: right;\n",
              "    }\n",
              "</style>\n",
              "<table border=\"1\" class=\"dataframe\">\n",
              "  <thead>\n",
              "    <tr style=\"text-align: right;\">\n",
              "      <th></th>\n",
              "      <th>vader</th>\n",
              "      <th>sentiment</th>\n",
              "    </tr>\n",
              "    <tr>\n",
              "      <th>hotel</th>\n",
              "      <th></th>\n",
              "      <th></th>\n",
              "    </tr>\n",
              "  </thead>\n",
              "  <tbody>\n",
              "    <tr>\n",
              "      <th>Wild Rose Inn</th>\n",
              "      <td>0.940159</td>\n",
              "      <td>0.850000</td>\n",
              "    </tr>\n",
              "    <tr>\n",
              "      <th>Hampton Inn &amp;amp; Suites by Hilton Moncton</th>\n",
              "      <td>0.877746</td>\n",
              "      <td>0.900000</td>\n",
              "    </tr>\n",
              "    <tr>\n",
              "      <th>Residence Inn by Marriott Moncton</th>\n",
              "      <td>0.873703</td>\n",
              "      <td>0.850000</td>\n",
              "    </tr>\n",
              "    <tr>\n",
              "      <th>Chateau Moncton Trademark Collection by Wyndham</th>\n",
              "      <td>0.852117</td>\n",
              "      <td>0.800000</td>\n",
              "    </tr>\n",
              "    <tr>\n",
              "      <th>Delta Hotels by Marriott Beausejour</th>\n",
              "      <td>0.827642</td>\n",
              "      <td>0.616667</td>\n",
              "    </tr>\n",
              "  </tbody>\n",
              "</table>\n",
              "</div>"
            ],
            "text/plain": [
              "                                                    vader  sentiment\n",
              "hotel                                                               \n",
              "Wild Rose Inn                                    0.940159  0.850000 \n",
              "Hampton Inn &amp; Suites by Hilton Moncton       0.877746  0.900000 \n",
              "Residence Inn by Marriott Moncton                0.873703  0.850000 \n",
              "Chateau Moncton Trademark Collection by Wyndham  0.852117  0.800000 \n",
              "Delta Hotels by Marriott Beausejour              0.827642  0.616667 "
            ]
          },
          "metadata": {
            "tags": []
          },
          "execution_count": 15
        }
      ]
    },
    {
      "cell_type": "code",
      "metadata": {
        "id": "zNqv5iSC2jSK",
        "colab_type": "code",
        "outputId": "935eabc0-9a4b-4c6a-bf13-66d760768f22",
        "colab": {
          "base_uri": "https://localhost:8080/",
          "height": 235
        }
      },
      "source": [
        "#bottom5\n",
        "df2.groupby('hotel').mean()[['vader','sentiment']].sort_values(by=['vader'], ascending=True)[:5]"
      ],
      "execution_count": 0,
      "outputs": [
        {
          "output_type": "execute_result",
          "data": {
            "text/html": [
              "<div>\n",
              "<style scoped>\n",
              "    .dataframe tbody tr th:only-of-type {\n",
              "        vertical-align: middle;\n",
              "    }\n",
              "\n",
              "    .dataframe tbody tr th {\n",
              "        vertical-align: top;\n",
              "    }\n",
              "\n",
              "    .dataframe thead th {\n",
              "        text-align: right;\n",
              "    }\n",
              "</style>\n",
              "<table border=\"1\" class=\"dataframe\">\n",
              "  <thead>\n",
              "    <tr style=\"text-align: right;\">\n",
              "      <th></th>\n",
              "      <th>vader</th>\n",
              "      <th>sentiment</th>\n",
              "    </tr>\n",
              "    <tr>\n",
              "      <th>hotel</th>\n",
              "      <th></th>\n",
              "      <th></th>\n",
              "    </tr>\n",
              "  </thead>\n",
              "  <tbody>\n",
              "    <tr>\n",
              "      <th>Howard Johnson by Wyndham Moncton</th>\n",
              "      <td>0.344578</td>\n",
              "      <td>-0.266667</td>\n",
              "    </tr>\n",
              "    <tr>\n",
              "      <th>Travelodge Suites Moncton</th>\n",
              "      <td>0.479580</td>\n",
              "      <td>0.250000</td>\n",
              "    </tr>\n",
              "    <tr>\n",
              "      <th>Days Inn &amp;amp; Suites by Wyndham Moncton</th>\n",
              "      <td>0.669666</td>\n",
              "      <td>0.283333</td>\n",
              "    </tr>\n",
              "    <tr>\n",
              "      <th>Best Western Plus Moncton</th>\n",
              "      <td>0.696138</td>\n",
              "      <td>0.433333</td>\n",
              "    </tr>\n",
              "    <tr>\n",
              "      <th>Comfort Inn East</th>\n",
              "      <td>0.712707</td>\n",
              "      <td>0.550000</td>\n",
              "    </tr>\n",
              "  </tbody>\n",
              "</table>\n",
              "</div>"
            ],
            "text/plain": [
              "                                             vader  sentiment\n",
              "hotel                                                        \n",
              "Howard Johnson by Wyndham Moncton         0.344578 -0.266667 \n",
              "Travelodge Suites Moncton                 0.479580  0.250000 \n",
              "Days Inn &amp; Suites by Wyndham Moncton  0.669666  0.283333 \n",
              "Best Western Plus Moncton                 0.696138  0.433333 \n",
              "Comfort Inn East                          0.712707  0.550000 "
            ]
          },
          "metadata": {
            "tags": []
          },
          "execution_count": 16
        }
      ]
    },
    {
      "cell_type": "markdown",
      "metadata": {
        "id": "q2tz-YI42CTi",
        "colab_type": "text"
      },
      "source": [
        "Top5 and bottom5 for both ranking methods generally agree with each other. Some interesting insights derived from this ranking are as follows:\n",
        "*  Hampton Inn &amp; Suites by Hilton Moncton, Residence Inn by Marriott Moncton, and Wild Rose Inn had both high groud truth sentiment and high vader.\n",
        "*  Howard Johnson by Wyndham Moncton, Travelodge Suites Moncton, Days Inn &amp; Suites by Wyndham Moncton, and Best Western Plus Moncton are associated with \"poor\" and negativity, reflected by both rankings. "
      ]
    },
    {
      "cell_type": "markdown",
      "metadata": {
        "id": "L0V9ihjD9az2",
        "colab_type": "text"
      },
      "source": [
        "##Q2. Frequency Analysis\n",
        "###(a) Use term frequency of the words for (i) positive reviews and (ii) negative with ground truth sentiment to rank the top-50 most frequent non-stopwords in the review collection. Do you note anything interesting and/or locale-speci\fc about these top-ranked words?"
      ]
    },
    {
      "cell_type": "code",
      "metadata": {
        "id": "SbBcLkYQ9Z0q",
        "colab_type": "code",
        "colab": {}
      },
      "source": [
        "def dataFrameTransformation(hotelDf, reviewDF, k=500):\n",
        "    reviews = reviewDF['reviewCol'].values\n",
        "    Filter = RegexTokenizer() | LowercaseFilter() | StopFilter() #| StemFilter()| IntraWordFilter() \n",
        "    stop = set(stopwords.words('english'))\n",
        "    \n",
        "    # Top-k frequent terms\n",
        "    positiveCounter = Counter()\n",
        "    negativeCounter = Counter()\n",
        "    counter = Counter\n",
        "    for i in range(len(reviews)): \n",
        "        if hotelDf['groundTruth'][i] ==1:\n",
        "            positiveCounter.update([word.text for word in Filter(reviews[i]) \n",
        "                                    if len(word.text)>2 and word.text not in stop])\n",
        "        else:\n",
        "            negativeCounter.update([word.text for word in Filter(reviews[i]) \n",
        "                                    if len(word.text)>2 and word.text not in stop])\n",
        "    topkPositive = positiveCounter.most_common(k)   #dictionary     \n",
        "    topkNegative = negativeCounter.most_common(k)\n",
        "    return topkPositive, topkNegative"
      ],
      "execution_count": 0,
      "outputs": []
    },
    {
      "cell_type": "code",
      "metadata": {
        "id": "Qspo_OXEVdxS",
        "colab_type": "code",
        "colab": {}
      },
      "source": [
        "df2.columns=['hotelName','hotelReview','ratingScore','groundTruth','vader']\n",
        "topkPositive, topkNegative = dataFrameTransformation(df2, reviewDF, k=50)"
      ],
      "execution_count": 0,
      "outputs": []
    },
    {
      "cell_type": "code",
      "metadata": {
        "id": "mibv-fnPbGjt",
        "colab_type": "code",
        "outputId": "3749e4b0-df2b-4400-ee22-b5abf85a282c",
        "colab": {
          "base_uri": "https://localhost:8080/",
          "height": 867
        }
      },
      "source": [
        "topkPositive"
      ],
      "execution_count": 0,
      "outputs": [
        {
          "output_type": "execute_result",
          "data": {
            "text/plain": [
              "[('room', 1553),\n",
              " ('hotel', 1515),\n",
              " ('breakfast', 1030),\n",
              " ('staff', 1004),\n",
              " ('great', 981),\n",
              " ('stay', 975),\n",
              " ('clean', 955),\n",
              " ('nice', 685),\n",
              " ('good', 685),\n",
              " ('moncton', 660),\n",
              " ('friendly', 631),\n",
              " ('stayed', 617),\n",
              " ('rooms', 608),\n",
              " ('comfortable', 607),\n",
              " ('would', 569),\n",
              " ('well', 445),\n",
              " ('one', 404),\n",
              " ('night', 384),\n",
              " ('location', 380),\n",
              " ('area', 379),\n",
              " ('place', 374),\n",
              " ('pool', 368),\n",
              " ('bed', 342),\n",
              " ('helpful', 333),\n",
              " ('free', 324),\n",
              " ('service', 321),\n",
              " ('time', 316),\n",
              " ('also', 295),\n",
              " ('close', 289),\n",
              " ('nthe', 288),\n",
              " ('desk', 285),\n",
              " ('inn', 275),\n",
              " ('beds', 270),\n",
              " ('hot', 269),\n",
              " ('front', 263),\n",
              " ('excellent', 253),\n",
              " ('really', 247),\n",
              " ('recommend', 245),\n",
              " ('downtown', 240),\n",
              " ('back', 238),\n",
              " ('check', 236),\n",
              " ('large', 228),\n",
              " ('quiet', 227),\n",
              " ('get', 222),\n",
              " ('parking', 218),\n",
              " ('right', 212),\n",
              " ('like', 210),\n",
              " ('always', 209),\n",
              " ('could', 208),\n",
              " ('casino', 203)]"
            ]
          },
          "metadata": {
            "tags": []
          },
          "execution_count": 19
        }
      ]
    },
    {
      "cell_type": "code",
      "metadata": {
        "id": "gh0FHBbzbJkm",
        "colab_type": "code",
        "outputId": "268affde-bac1-435c-e3b4-c7a29c4b1b2e",
        "colab": {
          "base_uri": "https://localhost:8080/",
          "height": 867
        }
      },
      "source": [
        "topkNegative"
      ],
      "execution_count": 0,
      "outputs": [
        {
          "output_type": "execute_result",
          "data": {
            "text/plain": [
              "[('room', 843),\n",
              " ('hotel', 535),\n",
              " ('would', 286),\n",
              " ('breakfast', 283),\n",
              " ('stay', 278),\n",
              " ('one', 253),\n",
              " ('night', 232),\n",
              " ('rooms', 218),\n",
              " ('clean', 216),\n",
              " ('good', 198),\n",
              " ('staff', 186),\n",
              " ('stayed', 186),\n",
              " ('like', 177),\n",
              " ('desk', 159),\n",
              " ('front', 155),\n",
              " ('nice', 151),\n",
              " ('get', 147),\n",
              " ('time', 138),\n",
              " ('bed', 135),\n",
              " ('could', 135),\n",
              " ('bathroom', 135),\n",
              " ('moncton', 132),\n",
              " ('pool', 132),\n",
              " ('great', 121),\n",
              " ('place', 118),\n",
              " ('check', 117),\n",
              " ('also', 116),\n",
              " ('people', 109),\n",
              " ('back', 108),\n",
              " ('small', 108),\n",
              " ('friendly', 100),\n",
              " ('said', 99),\n",
              " ('location', 96),\n",
              " ('well', 95),\n",
              " ('told', 91),\n",
              " ('next', 90),\n",
              " ('booked', 89),\n",
              " ('went', 87),\n",
              " ('nthe', 87),\n",
              " ('door', 86),\n",
              " ('beds', 86),\n",
              " ('even', 85),\n",
              " ('much', 85),\n",
              " ('got', 84),\n",
              " ('area', 84),\n",
              " ('floor', 82),\n",
              " ('price', 79),\n",
              " ('service', 79),\n",
              " ('two', 78),\n",
              " ('first', 78)]"
            ]
          },
          "metadata": {
            "tags": []
          },
          "execution_count": 20
        }
      ]
    },
    {
      "cell_type": "markdown",
      "metadata": {
        "id": "Qnkrw6QTbmaK",
        "colab_type": "text"
      },
      "source": [
        "\n",
        "\n",
        "*   \"downtown\" and \"moncton\" are highly ranked locale-specific terms for positive reviews. Other aspects of high frequency include breakfast, facilities like pool and casino, free services, staff etc. Terms featured in positive reviews are more frequent than those in negative reviews, possibly because there are more positive reviews than negative reviews in general.\n",
        "*  \"moncton\" is also a highly ranked locale-specific term for negative reviews. Other aspects of high frequency include breakfast, amenities like bed, bathroom, floor etc.\n",
        "\n"
      ]
    },
    {
      "cell_type": "markdown",
      "metadata": {
        "id": "2LSAUxaQqbz3",
        "colab_type": "text"
      },
      "source": [
        "###(b) Top 50 Noun Phrases"
      ]
    },
    {
      "cell_type": "code",
      "metadata": {
        "id": "d8dkkCZxGrQg",
        "colab_type": "code",
        "colab": {}
      },
      "source": [
        "# Noun Phrase Extraction Support Functions\n",
        "# from nltk.corpus import stopwords\n",
        "from nltk.corpus import stopwords\n",
        "stopword = stopwords.words('english')\n",
        "lemmatizer = nltk.WordNetLemmatizer()\n",
        "stemmer = nltk.stem.porter.PorterStemmer()\n",
        "\n",
        "# generator, generate leaves one by one\n",
        "def leaves(tree):\n",
        "    \"\"\"Finds NP (nounphrase) leaf nodes of a chunk tree.\"\"\"\n",
        "    for subtree in tree.subtrees(filter = lambda t: t.label()=='NP' or t.label()=='JJ' or t.label()=='RB'):\n",
        "        yield subtree.leaves()\n",
        "\n",
        "# stemming, lematizing, lower case... \n",
        "def normalise(word):\n",
        "    \"\"\"Normalises words to lowercase and stems and lemmatizes it.\"\"\"\n",
        "    word = word.lower()\n",
        "    word = stemmer.stem(word)\n",
        "    word = lemmatizer.lemmatize(word)\n",
        "    return word\n",
        "\n",
        "# stop-words and length control\n",
        "def acceptable_word(word):\n",
        "    \"\"\"Checks conditions for acceptable word: length, stopword.\"\"\"\n",
        "    accepted = bool(2 <= len(word) <= 40\n",
        "        and word.lower() not in stopword)\n",
        "    return accepted\n",
        "\n",
        "# generator, create item once a time\n",
        "def get_terms(tree):\n",
        "    for leaf in leaves(tree):\n",
        "        term = [normalise(w) for w,t in leaf if acceptable_word(w) ]\n",
        "        # Phrase only\n",
        "        if len(term)>1:\n",
        "            yield term\n",
        "\n",
        "# Flatten phrase lists to get tokens for analysis\n",
        "def flatten(npTokenList):\n",
        "    finalList =[]\n",
        "    for phrase in npTokenList:\n",
        "        token = ''\n",
        "        for word in phrase:\n",
        "            token += word + ' '\n",
        "        finalList.append(token.rstrip())\n",
        "    return finalList"
      ],
      "execution_count": 0,
      "outputs": []
    },
    {
      "cell_type": "code",
      "metadata": {
        "id": "rrHygNXEqaqW",
        "colab_type": "code",
        "colab": {}
      },
      "source": [
        "grammar = r\"\"\"\n",
        "    NBAR:\n",
        "        {<NN.*|JJ>*<NN.*>}  # Nouns and Adjectives, terminated with Nouns\n",
        "        \n",
        "    NP:\n",
        "        {<NBAR>}\n",
        "        {<NBAR><IN><NBAR>}  # Above, connected with in/of/etc...\n",
        "\"\"\"\n",
        "\n",
        "# Create phrase tree\n",
        "chunker = nltk.RegexpParser(grammar)\n",
        "tagger = PerceptronTagger()\n",
        "pos_tag = tagger.tag"
      ],
      "execution_count": 0,
      "outputs": []
    },
    {
      "cell_type": "code",
      "metadata": {
        "id": "diLCgNilMrIm",
        "colab_type": "code",
        "colab": {}
      },
      "source": [
        "# Revise the previous dataframe transform function...\n",
        "def newDataFrameTransformation(hotelDf, reviewDF, k=50):\n",
        "    reviews = reviewDF['hotelReview'].values\n",
        "    \n",
        "    # Top-k frequent terms\n",
        "    counter = Counter()\n",
        "    for review in tqdm(reviews):\n",
        "            counter.update(flatten([word\n",
        "                            for word \n",
        "                            in get_terms(chunker.parse(pos_tag(re.findall(r'\\w+', review)))) \n",
        "                            ])) #pos_tag() returns a list of tuple of term and syntax structure \n",
        "                                #chunker.parse() returns a tree\n",
        "                                #get_terms returns item once a time to get two_word, three_word.. terms\n",
        "                                #flatten make all terms into a list of two_word, three_word.. terms\n",
        "    topk = counter.most_common(k)    \n",
        "       \n",
        "    return topk"
      ],
      "execution_count": 0,
      "outputs": []
    },
    {
      "cell_type": "code",
      "metadata": {
        "id": "wK--2sdyR4tW",
        "colab_type": "code",
        "colab": {}
      },
      "source": [
        "positiveDf = df2[df2['groundTruth']==1]\n",
        "negativeDf = df2[df2['groundTruth']==-1]"
      ],
      "execution_count": 0,
      "outputs": []
    },
    {
      "cell_type": "code",
      "metadata": {
        "id": "xZqtlyuxXEv9",
        "colab_type": "code",
        "outputId": "1b56defb-3296-4c02-e406-6ddf0270176f",
        "colab": {
          "base_uri": "https://localhost:8080/",
          "height": 312
        }
      },
      "source": [
        "positiveDf.head(3)"
      ],
      "execution_count": 0,
      "outputs": [
        {
          "output_type": "execute_result",
          "data": {
            "text/html": [
              "<div>\n",
              "<style scoped>\n",
              "    .dataframe tbody tr th:only-of-type {\n",
              "        vertical-align: middle;\n",
              "    }\n",
              "\n",
              "    .dataframe tbody tr th {\n",
              "        vertical-align: top;\n",
              "    }\n",
              "\n",
              "    .dataframe thead th {\n",
              "        text-align: right;\n",
              "    }\n",
              "</style>\n",
              "<table border=\"1\" class=\"dataframe\">\n",
              "  <thead>\n",
              "    <tr style=\"text-align: right;\">\n",
              "      <th></th>\n",
              "      <th>hotelName</th>\n",
              "      <th>hotelReview</th>\n",
              "      <th>ratingScore</th>\n",
              "      <th>groundTruth</th>\n",
              "      <th>vader</th>\n",
              "    </tr>\n",
              "  </thead>\n",
              "  <tbody>\n",
              "    <tr>\n",
              "      <th>0</th>\n",
              "      <td>Amsterdam Inn &amp;amp; Suites Moncton</td>\n",
              "      <td>\"This time, the first thing I noticed about this hotel is a young staff that was friendly, courteous, knowledgeable and helpful.  One of the two best that I have ever encountered. We stayed in a front first floor room, which meant that we had an interior corridor, but also direct access to the outside and our car parked right in front of the room.  The room itself was well above average, very clean, comfortable, nice bathroom.  The (included) breakfast was quite good.  We can't speak to the WiFi, as we hooked up to our own mobile unit.</td>\n",
              "      <td>4</td>\n",
              "      <td>1</td>\n",
              "      <td>0.9789</td>\n",
              "    </tr>\n",
              "    <tr>\n",
              "      <th>1</th>\n",
              "      <td>Amsterdam Inn &amp;amp; Suites Moncton</td>\n",
              "      <td>\"I have no complaints about this hotel.  While nothing really stood out as being exceptional, it was clean and comfortable.  The service was OK, the breakfast was tasty with good selection for a continental, and while the location is somewhat out of the way, it's by no means inconvienent.\\n\\nThe price **may** have been a little high at $130\\u002Fnight, however i've paid more for worse!\\n\\nRecommended.</td>\n",
              "      <td>4</td>\n",
              "      <td>1</td>\n",
              "      <td>0.7206</td>\n",
              "    </tr>\n",
              "    <tr>\n",
              "      <th>2</th>\n",
              "      <td>Amsterdam Inn &amp;amp; Suites Moncton</td>\n",
              "      <td>\"hotel had all the items we needed for our stay including fridge, coffee maker and free breakfast and WIFI .  Two minute walk to the casino for booked entertainment, or gambling at the casino. car necessary for all the great shopping in Moncton area. Great place to stay.</td>\n",
              "      <td>4</td>\n",
              "      <td>1</td>\n",
              "      <td>0.9360</td>\n",
              "    </tr>\n",
              "  </tbody>\n",
              "</table>\n",
              "</div>"
            ],
            "text/plain": [
              "                            hotelName  ...   vader\n",
              "0  Amsterdam Inn &amp; Suites Moncton  ...  0.9789\n",
              "1  Amsterdam Inn &amp; Suites Moncton  ...  0.7206\n",
              "2  Amsterdam Inn &amp; Suites Moncton  ...  0.9360\n",
              "\n",
              "[3 rows x 5 columns]"
            ]
          },
          "metadata": {
            "tags": []
          },
          "execution_count": 25
        }
      ]
    },
    {
      "cell_type": "code",
      "metadata": {
        "id": "4DrYEH5MV7_I",
        "colab_type": "code",
        "outputId": "75000a1d-a6e7-408c-d2c2-b78498aa3cc7",
        "colab": {
          "base_uri": "https://localhost:8080/",
          "height": 51
        }
      },
      "source": [
        "topkNPPositive = newDataFrameTransformation(positiveDf, positiveDf, k=50)\n",
        "topkNPNegative = newDataFrameTransformation(negativeDf, negativeDf, k=50)"
      ],
      "execution_count": 0,
      "outputs": [
        {
          "output_type": "stream",
          "text": [
            "100%|██████████| 1661/1661 [00:10<00:00, 158.55it/s]\n",
            "100%|██████████| 479/479 [00:03<00:00, 128.74it/s]\n"
          ],
          "name": "stderr"
        }
      ]
    },
    {
      "cell_type": "code",
      "metadata": {
        "id": "7PhvDiXpWYyC",
        "colab_type": "code",
        "outputId": "7dce762b-861e-4122-99aa-e6986af43f21",
        "colab": {
          "base_uri": "https://localhost:8080/",
          "height": 867
        }
      },
      "source": [
        "topkNPPositive"
      ],
      "execution_count": 0,
      "outputs": [
        {
          "output_type": "execute_result",
          "data": {
            "text/plain": [
              "[('front desk', 98),\n",
              " ('hot tub', 47),\n",
              " ('front desk staff', 45),\n",
              " ('first time', 41),\n",
              " ('great place', 41),\n",
              " ('free breakfast', 39),\n",
              " ('continent breakfast', 36),\n",
              " ('main street', 34),\n",
              " ('downtown moncton', 34),\n",
              " ('nthe room', 32),\n",
              " ('great locat', 32),\n",
              " ('great stay', 31),\n",
              " ('friendli staff', 30),\n",
              " ('pool area', 28),\n",
              " ('tidal bore', 28),\n",
              " ('comfort bed', 28),\n",
              " ('next time', 25),\n",
              " ('hot breakfast', 24),\n",
              " ('park lot', 23),\n",
              " ('water slide', 23),\n",
              " ('amsterdam inn', 22),\n",
              " ('breakfast area', 22),\n",
              " ('moncton area', 21),\n",
              " ('great hotel', 21),\n",
              " ('comfort room', 21),\n",
              " ('good valu', 20),\n",
              " ('hopewel rock', 20),\n",
              " ('crown plaza', 20),\n",
              " ('clean bed', 19),\n",
              " ('hotel staff', 19),\n",
              " ('nice place', 19),\n",
              " ('long day', 19),\n",
              " ('great experi', 18),\n",
              " ('breakfast buffet', 18),\n",
              " ('good breakfast', 18),\n",
              " ('night stay', 18),\n",
              " ('midtown motel', 18),\n",
              " ('new brunswick', 17),\n",
              " ('nthe staff', 17),\n",
              " ('minut drive', 17),\n",
              " ('chateau moncton', 17),\n",
              " ('futur inn', 17),\n",
              " ('good locat', 16),\n",
              " ('nthe hotel', 16),\n",
              " ('comfort inn', 16),\n",
              " ('delta beausejour', 16),\n",
              " ('hampton inn', 16),\n",
              " ('resid inn', 16),\n",
              " ('clean room', 15),\n",
              " ('complimentari breakfast', 15)]"
            ]
          },
          "metadata": {
            "tags": []
          },
          "execution_count": 27
        }
      ]
    },
    {
      "cell_type": "code",
      "metadata": {
        "id": "ALNzCFbmWcqh",
        "colab_type": "code",
        "outputId": "a4b2837f-6914-4c5c-fbc7-9b1a1754fcd7",
        "colab": {
          "base_uri": "https://localhost:8080/",
          "height": 867
        }
      },
      "source": [
        "topkNPNegative"
      ],
      "execution_count": 0,
      "outputs": [
        {
          "output_type": "execute_result",
          "data": {
            "text/plain": [
              "[('front desk', 77),\n",
              " ('hot tub', 20),\n",
              " ('park lot', 17),\n",
              " ('free breakfast', 14),\n",
              " ('pool area', 13),\n",
              " ('next morn', 12),\n",
              " ('night stay', 11),\n",
              " ('main street', 11),\n",
              " ('nthe room', 10),\n",
              " ('doubl bed', 9),\n",
              " ('front desk staff', 9),\n",
              " ('cigarett smoke', 9),\n",
              " ('crown plaza', 9),\n",
              " ('first time', 8),\n",
              " ('hot water', 8),\n",
              " ('credit card', 7),\n",
              " ('hot breakfast', 7),\n",
              " ('custom servic', 7),\n",
              " ('breakfast area', 7),\n",
              " ('bathroom floor', 7),\n",
              " ('room servic', 7),\n",
              " ('hotel room', 7),\n",
              " ('corpor rate', 7),\n",
              " ('queen bed', 7),\n",
              " ('howard johnson', 7),\n",
              " ('air condition', 7),\n",
              " ('second floor', 6),\n",
              " ('good locat', 6),\n",
              " ('next day', 6),\n",
              " ('first room', 6),\n",
              " ('earli check', 6),\n",
              " ('holiday inn', 6),\n",
              " ('next time', 6),\n",
              " ('long time', 5),\n",
              " ('amsterdam inn', 5),\n",
              " ('comfort bed', 5),\n",
              " ('king room', 5),\n",
              " ('first floor', 5),\n",
              " ('good hotel', 5),\n",
              " ('first night', 5),\n",
              " ('continent breakfast', 5),\n",
              " ('front counter', 5),\n",
              " ('busi trip', 5),\n",
              " ('mini fridg', 5),\n",
              " ('clean staff', 5),\n",
              " ('nice hotel', 5),\n",
              " ('last night', 5),\n",
              " ('chateau moncton', 5),\n",
              " ('smoke room', 5),\n",
              " ('good price', 5)]"
            ]
          },
          "metadata": {
            "tags": []
          },
          "execution_count": 28
        }
      ]
    },
    {
      "cell_type": "markdown",
      "metadata": {
        "id": "aODXCFM8ZxsG",
        "colab_type": "text"
      },
      "source": [
        "*  Noun phrase is more informative than a single word.Locale-specific terms for positive reviews include \"downtown Moncton\", \"main street\", \"crown plaza\", \"chateau moncton\", \"hopewel rock\", etc. Positive reviews are associated with good breakfast, good amenities, and location close to areas of high traffic.\n",
        "*  Locale_specific terms for negative reviews have overlaps with positive reviews, including \"main street\" and \"crown plaza\". Negative reviews are associated with basic amenities, basic breakfast, etc.\n",
        "\n"
      ]
    },
    {
      "cell_type": "markdown",
      "metadata": {
        "id": "uivToNhUg4KQ",
        "colab_type": "text"
      },
      "source": [
        "##Q3. Mutual Information\n",
        "###(a) Use mutual information (MI) with ground truth sentiment to rank the top-50 most sentiment-bearing non-stopwords in the review collection. Do you note anything interesting and/or locale-speci\fc about these top-ranked words?"
      ]
    },
    {
      "cell_type": "code",
      "metadata": {
        "id": "lQX7NIri1mHq",
        "colab_type": "code",
        "colab": {}
      },
      "source": [
        "# Note: You may want to use an NLTK tokenizer instead of a regular expression in the following\n",
        "from nltk.corpus import stopwords\n",
        "def dataFrameTransformation(hotelDf, reviewDF, k=500):\n",
        "    reviews = reviewDF['reviewCol'].values\n",
        "    \n",
        "    stop = set(stopwords.words('english'))\n",
        "    \n",
        "    # Top-k frequent terms\n",
        "    counter = Counter()\n",
        "    for review in reviews:\n",
        "            counter.update([word.lower() \n",
        "                            for word \n",
        "                            in re.findall(r'\\w+', review) #non-alphanumerical\n",
        "                            if word.lower() not in stop and len(word) > 2]) \n",
        "    topk = counter.most_common(k)  #re.finalleturn all non-overlapping matches of pattern in string, as a list of strings.\n",
        "    \n",
        "    #Find out if a particular review has the word from topk list\n",
        "    freqReview = []\n",
        "    for i in range(len(reviews)):\n",
        "        tempCounter = Counter([word.lower() for word in re.findall(r'\\w+',reviews[i])])\n",
        "        topkinReview = [1 if tempCounter[word] > 0 else 0 for (word,wordCount) in topk] #if this review has topk word \n",
        "        freqReview.append(topkinReview) #number of reviews*k\n",
        "        \n",
        "        \n",
        "    #Prepare freqReviewDf\n",
        "    freqReviewDf = pandas.DataFrame(freqReview)\n",
        "    dfName = []\n",
        "    for c in topk:\n",
        "        dfName.append(c[0])\n",
        "    freqReviewDf.columns = dfName\n",
        "    finalreviewDf = reviewDF.join(freqReviewDf) #review, vader, freqReview\n",
        "    finaldf = hotelDf[['hotelName','ratingScore','groundTruth']].join(finalreviewDf) #hotelName','ratingScore','groundTruth', review, vader, freqReview\n",
        "    return topk, finaldf\n",
        "\n",
        "# get Top K mutual information terms from the dataframe\n",
        "def getMI(topk, df, label_column='groundTruth'): \n",
        "    miScore = []\n",
        "    for word in topk: #mutual information between groundtruth sentiment for all reviews and each review' involvement with the word\n",
        "        miScore.append([word[0]]+[metrics.mutual_info_score(finaldf[label_column], finaldf[word[0]])]) #[the word]+[mutual(array_of_grountruth,array_of_freqReview)]\n",
        "    miScoredf = pandas.DataFrame(miScore).sort_values(1,ascending=0) #by column 1 \n",
        "    miScoredf.columns = ['Word','MI Score'] \n",
        "    return miScoredf"
      ],
      "execution_count": 0,
      "outputs": []
    },
    {
      "cell_type": "code",
      "metadata": {
        "id": "OVv4C2e0NXQt",
        "colab_type": "code",
        "colab": {}
      },
      "source": [
        "# Revise the previous dataframe transform function...\n",
        "def newDataFrameTransformationNP(hotelDf, reviewDF, k=50):\n",
        "    reviews = reviewDF['reviewCol'].values\n",
        "    \n",
        "    # Top-k frequent terms\n",
        "    counter = Counter()\n",
        "    for review in tqdm(reviews):\n",
        "            counter.update(flatten([word\n",
        "                            for word \n",
        "                            in get_terms(chunker.parse(pos_tag(re.findall(r'\\w+', review)))) \n",
        "                            ])) #pos_tag() returns a list of tuple of term and syntax structure \n",
        "                                #chunker.parse() returns a tree\n",
        "                                #get_terms returns item once a time to get two_word, three_word.. terms\n",
        "                                #flatten make all terms into a list of two_word, three_word.. terms\n",
        "    topk = counter.most_common(k)    \n",
        "\n",
        "        #Find out if a particular review has the word from topk list\n",
        "    freqReview = []\n",
        "    for i in range(len(reviews)):\n",
        "        tempCounter = Counter(flatten([word \n",
        "                                       for word \n",
        "                                       in get_terms(chunker.parse(pos_tag(re.findall(r'\\w+',reviews[i]))))]))\n",
        "        topkinReview = [1 if tempCounter[word] > 0 else 0 for (word,wordCount) in topk]\n",
        "        freqReview.append(topkinReview)\n",
        "        \n",
        "        \n",
        "    #Prepare freqReviewDf\n",
        "    freqReviewDf = pandas.DataFrame(freqReview)\n",
        "    dfName = []\n",
        "    for c in topk:\n",
        "        dfName.append(c[0])\n",
        "    freqReviewDf.columns = dfName\n",
        "    finalreviewDf = reviewDF.join(freqReviewDf)\n",
        "    finaldf = hotelDf[['hotelName','ratingScore','groundTruth']].join(finalreviewDf)\n",
        "    return topk, finaldf\n",
        "\n",
        "# get Top K mutual information terms from the dataframe\n",
        "def getMI(topk, df, label_column='groundTruth'): \n",
        "    miScore = []\n",
        "    for word in topk: #mutual information between groundtruth sentiment for all reviews and each review' involvement with the word\n",
        "        miScore.append([word[0]]+[metrics.mutual_info_score(df[label_column], df[word[0]])]) #[the word]+[mutual(array_of_grountruth,array_of_freqReview)]\n",
        "    miScoredf = pandas.DataFrame(miScore).sort_values(1,ascending=0) #by column 1 \n",
        "    miScoredf.columns = ['Word','MI Score'] \n",
        "    return miScoredf"
      ],
      "execution_count": 0,
      "outputs": []
    },
    {
      "cell_type": "code",
      "metadata": {
        "id": "6pGwQuGs4Elp",
        "colab_type": "code",
        "outputId": "71693b58-19f4-4608-970a-65cc5474d9d4",
        "colab": {
          "base_uri": "https://localhost:8080/",
          "height": 34
        }
      },
      "source": [
        "topk, finaldf = dataFrameTransformation(df2, reviewDF, k=50)\n",
        "topkNP, finaldfNP = newDataFrameTransformationNP(df2, reviewDF, k=50)"
      ],
      "execution_count": 0,
      "outputs": [
        {
          "output_type": "stream",
          "text": [
            "100%|██████████| 2140/2140 [00:12<00:00, 172.56it/s]\n"
          ],
          "name": "stderr"
        }
      ]
    },
    {
      "cell_type": "code",
      "metadata": {
        "id": "YwBu3ThgxZmI",
        "colab_type": "code",
        "outputId": "38099604-97c7-4701-c28b-039269504bfb",
        "colab": {
          "base_uri": "https://localhost:8080/",
          "height": 1000
        }
      },
      "source": [
        "miScoredf = getMI(topk, finaldf)\n",
        "miScoredf"
      ],
      "execution_count": 0,
      "outputs": [
        {
          "output_type": "execute_result",
          "data": {
            "text/html": [
              "<div>\n",
              "<style scoped>\n",
              "    .dataframe tbody tr th:only-of-type {\n",
              "        vertical-align: middle;\n",
              "    }\n",
              "\n",
              "    .dataframe tbody tr th {\n",
              "        vertical-align: top;\n",
              "    }\n",
              "\n",
              "    .dataframe thead th {\n",
              "        text-align: right;\n",
              "    }\n",
              "</style>\n",
              "<table border=\"1\" class=\"dataframe\">\n",
              "  <thead>\n",
              "    <tr style=\"text-align: right;\">\n",
              "      <th></th>\n",
              "      <th>Word</th>\n",
              "      <th>MI Score</th>\n",
              "    </tr>\n",
              "  </thead>\n",
              "  <tbody>\n",
              "    <tr>\n",
              "      <th>6</th>\n",
              "      <td>great</td>\n",
              "      <td>0.016858</td>\n",
              "    </tr>\n",
              "    <tr>\n",
              "      <th>42</th>\n",
              "      <td>bathroom</td>\n",
              "      <td>0.015915</td>\n",
              "    </tr>\n",
              "    <tr>\n",
              "      <th>14</th>\n",
              "      <td>comfortable</td>\n",
              "      <td>0.014262</td>\n",
              "    </tr>\n",
              "    <tr>\n",
              "      <th>4</th>\n",
              "      <td>staff</td>\n",
              "      <td>0.011600</td>\n",
              "    </tr>\n",
              "    <tr>\n",
              "      <th>0</th>\n",
              "      <td>room</td>\n",
              "      <td>0.011551</td>\n",
              "    </tr>\n",
              "    <tr>\n",
              "      <th>16</th>\n",
              "      <td>night</td>\n",
              "      <td>0.010809</td>\n",
              "    </tr>\n",
              "    <tr>\n",
              "      <th>29</th>\n",
              "      <td>like</td>\n",
              "      <td>0.009891</td>\n",
              "    </tr>\n",
              "    <tr>\n",
              "      <th>13</th>\n",
              "      <td>friendly</td>\n",
              "      <td>0.009530</td>\n",
              "    </tr>\n",
              "    <tr>\n",
              "      <th>47</th>\n",
              "      <td>excellent</td>\n",
              "      <td>0.009423</td>\n",
              "    </tr>\n",
              "    <tr>\n",
              "      <th>32</th>\n",
              "      <td>get</td>\n",
              "      <td>0.008864</td>\n",
              "    </tr>\n",
              "    <tr>\n",
              "      <th>30</th>\n",
              "      <td>helpful</td>\n",
              "      <td>0.008433</td>\n",
              "    </tr>\n",
              "    <tr>\n",
              "      <th>5</th>\n",
              "      <td>clean</td>\n",
              "      <td>0.008102</td>\n",
              "    </tr>\n",
              "    <tr>\n",
              "      <th>15</th>\n",
              "      <td>one</td>\n",
              "      <td>0.007678</td>\n",
              "    </tr>\n",
              "    <tr>\n",
              "      <th>37</th>\n",
              "      <td>could</td>\n",
              "      <td>0.006506</td>\n",
              "    </tr>\n",
              "    <tr>\n",
              "      <th>41</th>\n",
              "      <td>small</td>\n",
              "      <td>0.005572</td>\n",
              "    </tr>\n",
              "    <tr>\n",
              "      <th>8</th>\n",
              "      <td>would</td>\n",
              "      <td>0.005290</td>\n",
              "    </tr>\n",
              "    <tr>\n",
              "      <th>25</th>\n",
              "      <td>front</td>\n",
              "      <td>0.004198</td>\n",
              "    </tr>\n",
              "    <tr>\n",
              "      <th>24</th>\n",
              "      <td>desk</td>\n",
              "      <td>0.004156</td>\n",
              "    </tr>\n",
              "    <tr>\n",
              "      <th>38</th>\n",
              "      <td>close</td>\n",
              "      <td>0.004072</td>\n",
              "    </tr>\n",
              "    <tr>\n",
              "      <th>44</th>\n",
              "      <td>recommend</td>\n",
              "      <td>0.004037</td>\n",
              "    </tr>\n",
              "    <tr>\n",
              "      <th>46</th>\n",
              "      <td>downtown</td>\n",
              "      <td>0.003807</td>\n",
              "    </tr>\n",
              "    <tr>\n",
              "      <th>12</th>\n",
              "      <td>moncton</td>\n",
              "      <td>0.003048</td>\n",
              "    </tr>\n",
              "    <tr>\n",
              "      <th>48</th>\n",
              "      <td>large</td>\n",
              "      <td>0.001879</td>\n",
              "    </tr>\n",
              "    <tr>\n",
              "      <th>9</th>\n",
              "      <td>nice</td>\n",
              "      <td>0.001861</td>\n",
              "    </tr>\n",
              "    <tr>\n",
              "      <th>23</th>\n",
              "      <td>time</td>\n",
              "      <td>0.001722</td>\n",
              "    </tr>\n",
              "    <tr>\n",
              "      <th>28</th>\n",
              "      <td>free</td>\n",
              "      <td>0.001700</td>\n",
              "    </tr>\n",
              "    <tr>\n",
              "      <th>20</th>\n",
              "      <td>bed</td>\n",
              "      <td>0.001683</td>\n",
              "    </tr>\n",
              "    <tr>\n",
              "      <th>2</th>\n",
              "      <td>breakfast</td>\n",
              "      <td>0.001680</td>\n",
              "    </tr>\n",
              "    <tr>\n",
              "      <th>26</th>\n",
              "      <td>also</td>\n",
              "      <td>0.001288</td>\n",
              "    </tr>\n",
              "    <tr>\n",
              "      <th>45</th>\n",
              "      <td>even</td>\n",
              "      <td>0.001268</td>\n",
              "    </tr>\n",
              "    <tr>\n",
              "      <th>27</th>\n",
              "      <td>service</td>\n",
              "      <td>0.001088</td>\n",
              "    </tr>\n",
              "    <tr>\n",
              "      <th>34</th>\n",
              "      <td>check</td>\n",
              "      <td>0.001003</td>\n",
              "    </tr>\n",
              "    <tr>\n",
              "      <th>17</th>\n",
              "      <td>well</td>\n",
              "      <td>0.000925</td>\n",
              "    </tr>\n",
              "    <tr>\n",
              "      <th>1</th>\n",
              "      <td>hotel</td>\n",
              "      <td>0.000877</td>\n",
              "    </tr>\n",
              "    <tr>\n",
              "      <th>36</th>\n",
              "      <td>hot</td>\n",
              "      <td>0.000871</td>\n",
              "    </tr>\n",
              "    <tr>\n",
              "      <th>22</th>\n",
              "      <td>area</td>\n",
              "      <td>0.000661</td>\n",
              "    </tr>\n",
              "    <tr>\n",
              "      <th>35</th>\n",
              "      <td>back</td>\n",
              "      <td>0.000639</td>\n",
              "    </tr>\n",
              "    <tr>\n",
              "      <th>3</th>\n",
              "      <td>stay</td>\n",
              "      <td>0.000591</td>\n",
              "    </tr>\n",
              "    <tr>\n",
              "      <th>21</th>\n",
              "      <td>location</td>\n",
              "      <td>0.000573</td>\n",
              "    </tr>\n",
              "    <tr>\n",
              "      <th>39</th>\n",
              "      <td>inn</td>\n",
              "      <td>0.000572</td>\n",
              "    </tr>\n",
              "    <tr>\n",
              "      <th>49</th>\n",
              "      <td>right</td>\n",
              "      <td>0.000401</td>\n",
              "    </tr>\n",
              "    <tr>\n",
              "      <th>43</th>\n",
              "      <td>parking</td>\n",
              "      <td>0.000312</td>\n",
              "    </tr>\n",
              "    <tr>\n",
              "      <th>18</th>\n",
              "      <td>pool</td>\n",
              "      <td>0.000267</td>\n",
              "    </tr>\n",
              "    <tr>\n",
              "      <th>31</th>\n",
              "      <td>nthe</td>\n",
              "      <td>0.000239</td>\n",
              "    </tr>\n",
              "    <tr>\n",
              "      <th>10</th>\n",
              "      <td>rooms</td>\n",
              "      <td>0.000087</td>\n",
              "    </tr>\n",
              "    <tr>\n",
              "      <th>11</th>\n",
              "      <td>stayed</td>\n",
              "      <td>0.000063</td>\n",
              "    </tr>\n",
              "    <tr>\n",
              "      <th>7</th>\n",
              "      <td>good</td>\n",
              "      <td>0.000039</td>\n",
              "    </tr>\n",
              "    <tr>\n",
              "      <th>40</th>\n",
              "      <td>really</td>\n",
              "      <td>0.000019</td>\n",
              "    </tr>\n",
              "    <tr>\n",
              "      <th>33</th>\n",
              "      <td>beds</td>\n",
              "      <td>0.000019</td>\n",
              "    </tr>\n",
              "    <tr>\n",
              "      <th>19</th>\n",
              "      <td>place</td>\n",
              "      <td>0.000008</td>\n",
              "    </tr>\n",
              "  </tbody>\n",
              "</table>\n",
              "</div>"
            ],
            "text/plain": [
              "           Word  MI Score\n",
              "6   great        0.016858\n",
              "42  bathroom     0.015915\n",
              "14  comfortable  0.014262\n",
              "4   staff        0.011600\n",
              "0   room         0.011551\n",
              "16  night        0.010809\n",
              "29  like         0.009891\n",
              "13  friendly     0.009530\n",
              "47  excellent    0.009423\n",
              "32  get          0.008864\n",
              "30  helpful      0.008433\n",
              "5   clean        0.008102\n",
              "15  one          0.007678\n",
              "37  could        0.006506\n",
              "41  small        0.005572\n",
              "8   would        0.005290\n",
              "25  front        0.004198\n",
              "24  desk         0.004156\n",
              "38  close        0.004072\n",
              "44  recommend    0.004037\n",
              "46  downtown     0.003807\n",
              "12  moncton      0.003048\n",
              "48  large        0.001879\n",
              "9   nice         0.001861\n",
              "23  time         0.001722\n",
              "28  free         0.001700\n",
              "20  bed          0.001683\n",
              "2   breakfast    0.001680\n",
              "26  also         0.001288\n",
              "45  even         0.001268\n",
              "27  service      0.001088\n",
              "34  check        0.001003\n",
              "17  well         0.000925\n",
              "1   hotel        0.000877\n",
              "36  hot          0.000871\n",
              "22  area         0.000661\n",
              "35  back         0.000639\n",
              "3   stay         0.000591\n",
              "21  location     0.000573\n",
              "39  inn          0.000572\n",
              "49  right        0.000401\n",
              "43  parking      0.000312\n",
              "18  pool         0.000267\n",
              "31  nthe         0.000239\n",
              "10  rooms        0.000087\n",
              "11  stayed       0.000063\n",
              "7   good         0.000039\n",
              "40  really       0.000019\n",
              "33  beds         0.000019\n",
              "19  place        0.000008"
            ]
          },
          "metadata": {
            "tags": []
          },
          "execution_count": 32
        }
      ]
    },
    {
      "cell_type": "markdown",
      "metadata": {
        "id": "qVbT99-bSKqb",
        "colab_type": "text"
      },
      "source": [
        "*  Mutual Information represents the relationship between the occurrence of the word (for each review whether the word exists or not) and the groud truth sentiment (positive or negative). The greater the value, the more representative/informative of the ground truth sentiment the word is. \n",
        "*  Locale-specific words are \"downtown\" and \"moncton\". \n",
        "*  Basic amenities like bathroom, room can tell you a lot. Adjectives like \"comfortable\", \"great\", \"friendly\", \"excellent\", etc. can also tell you a lot about ground truth sentiment."
      ]
    },
    {
      "cell_type": "markdown",
      "metadata": {
        "id": "6FCjTed1SnDo",
        "colab_type": "text"
      },
      "source": [
        "###(b) Mutual Information for Noun Phrase"
      ]
    },
    {
      "cell_type": "code",
      "metadata": {
        "id": "8W_VwquTxpFz",
        "colab_type": "code",
        "outputId": "3f62d909-ac37-4206-ff24-0de019d43d3c",
        "colab": {
          "base_uri": "https://localhost:8080/",
          "height": 1000
        }
      },
      "source": [
        "miScoredf = getMI(topkNP, finaldfNP)\n",
        "pd.set_option('display.float_format', lambda x: '%.6f' % x)\n",
        "miScoredf"
      ],
      "execution_count": 0,
      "outputs": [
        {
          "output_type": "execute_result",
          "data": {
            "text/html": [
              "<div>\n",
              "<style scoped>\n",
              "    .dataframe tbody tr th:only-of-type {\n",
              "        vertical-align: middle;\n",
              "    }\n",
              "\n",
              "    .dataframe tbody tr th {\n",
              "        vertical-align: top;\n",
              "    }\n",
              "\n",
              "    .dataframe thead th {\n",
              "        text-align: right;\n",
              "    }\n",
              "</style>\n",
              "<table border=\"1\" class=\"dataframe\">\n",
              "  <thead>\n",
              "    <tr style=\"text-align: right;\">\n",
              "      <th></th>\n",
              "      <th>Word</th>\n",
              "      <th>MI Score</th>\n",
              "    </tr>\n",
              "  </thead>\n",
              "  <tbody>\n",
              "    <tr>\n",
              "      <th>0</th>\n",
              "      <td>front desk</td>\n",
              "      <td>0.006059</td>\n",
              "    </tr>\n",
              "    <tr>\n",
              "      <th>7</th>\n",
              "      <td>great place</td>\n",
              "      <td>0.003391</td>\n",
              "    </tr>\n",
              "    <tr>\n",
              "      <th>35</th>\n",
              "      <td>comfort room</td>\n",
              "      <td>0.002500</td>\n",
              "    </tr>\n",
              "    <tr>\n",
              "      <th>47</th>\n",
              "      <td>nice place</td>\n",
              "      <td>0.002261</td>\n",
              "    </tr>\n",
              "    <tr>\n",
              "      <th>23</th>\n",
              "      <td>next morn</td>\n",
              "      <td>0.001871</td>\n",
              "    </tr>\n",
              "    <tr>\n",
              "      <th>20</th>\n",
              "      <td>tidal bore</td>\n",
              "      <td>0.001795</td>\n",
              "    </tr>\n",
              "    <tr>\n",
              "      <th>10</th>\n",
              "      <td>park lot</td>\n",
              "      <td>0.001747</td>\n",
              "    </tr>\n",
              "    <tr>\n",
              "      <th>14</th>\n",
              "      <td>great stay</td>\n",
              "      <td>0.001562</td>\n",
              "    </tr>\n",
              "    <tr>\n",
              "      <th>29</th>\n",
              "      <td>great hotel</td>\n",
              "      <td>0.001295</td>\n",
              "    </tr>\n",
              "    <tr>\n",
              "      <th>11</th>\n",
              "      <td>downtown moncton</td>\n",
              "      <td>0.001118</td>\n",
              "    </tr>\n",
              "    <tr>\n",
              "      <th>46</th>\n",
              "      <td>great experi</td>\n",
              "      <td>0.000913</td>\n",
              "    </tr>\n",
              "    <tr>\n",
              "      <th>13</th>\n",
              "      <td>friendli staff</td>\n",
              "      <td>0.000891</td>\n",
              "    </tr>\n",
              "    <tr>\n",
              "      <th>19</th>\n",
              "      <td>night stay</td>\n",
              "      <td>0.000844</td>\n",
              "    </tr>\n",
              "    <tr>\n",
              "      <th>12</th>\n",
              "      <td>great locat</td>\n",
              "      <td>0.000729</td>\n",
              "    </tr>\n",
              "    <tr>\n",
              "      <th>24</th>\n",
              "      <td>water slide</td>\n",
              "      <td>0.000716</td>\n",
              "    </tr>\n",
              "    <tr>\n",
              "      <th>25</th>\n",
              "      <td>moncton area</td>\n",
              "      <td>0.000716</td>\n",
              "    </tr>\n",
              "    <tr>\n",
              "      <th>8</th>\n",
              "      <td>continent breakfast</td>\n",
              "      <td>0.000609</td>\n",
              "    </tr>\n",
              "    <tr>\n",
              "      <th>32</th>\n",
              "      <td>hopewel rock</td>\n",
              "      <td>0.000567</td>\n",
              "    </tr>\n",
              "    <tr>\n",
              "      <th>41</th>\n",
              "      <td>good breakfast</td>\n",
              "      <td>0.000496</td>\n",
              "    </tr>\n",
              "    <tr>\n",
              "      <th>40</th>\n",
              "      <td>breakfast buffet</td>\n",
              "      <td>0.000496</td>\n",
              "    </tr>\n",
              "    <tr>\n",
              "      <th>37</th>\n",
              "      <td>queen bed</td>\n",
              "      <td>0.000479</td>\n",
              "    </tr>\n",
              "    <tr>\n",
              "      <th>45</th>\n",
              "      <td>nthe staff</td>\n",
              "      <td>0.000427</td>\n",
              "    </tr>\n",
              "    <tr>\n",
              "      <th>21</th>\n",
              "      <td>crown plaza</td>\n",
              "      <td>0.000401</td>\n",
              "    </tr>\n",
              "    <tr>\n",
              "      <th>9</th>\n",
              "      <td>pool area</td>\n",
              "      <td>0.000349</td>\n",
              "    </tr>\n",
              "    <tr>\n",
              "      <th>26</th>\n",
              "      <td>good valu</td>\n",
              "      <td>0.000308</td>\n",
              "    </tr>\n",
              "    <tr>\n",
              "      <th>49</th>\n",
              "      <td>hotel room</td>\n",
              "      <td>0.000266</td>\n",
              "    </tr>\n",
              "    <tr>\n",
              "      <th>15</th>\n",
              "      <td>comfort bed</td>\n",
              "      <td>0.000257</td>\n",
              "    </tr>\n",
              "    <tr>\n",
              "      <th>30</th>\n",
              "      <td>clean bed</td>\n",
              "      <td>0.000256</td>\n",
              "    </tr>\n",
              "    <tr>\n",
              "      <th>4</th>\n",
              "      <td>first time</td>\n",
              "      <td>0.000198</td>\n",
              "    </tr>\n",
              "    <tr>\n",
              "      <th>2</th>\n",
              "      <td>front desk staff</td>\n",
              "      <td>0.000196</td>\n",
              "    </tr>\n",
              "    <tr>\n",
              "      <th>38</th>\n",
              "      <td>next day</td>\n",
              "      <td>0.000147</td>\n",
              "    </tr>\n",
              "    <tr>\n",
              "      <th>3</th>\n",
              "      <td>free breakfast</td>\n",
              "      <td>0.000141</td>\n",
              "    </tr>\n",
              "    <tr>\n",
              "      <th>36</th>\n",
              "      <td>new brunswick</td>\n",
              "      <td>0.000121</td>\n",
              "    </tr>\n",
              "    <tr>\n",
              "      <th>22</th>\n",
              "      <td>amsterdam inn</td>\n",
              "      <td>0.000114</td>\n",
              "    </tr>\n",
              "    <tr>\n",
              "      <th>27</th>\n",
              "      <td>hotel staff</td>\n",
              "      <td>0.000083</td>\n",
              "    </tr>\n",
              "    <tr>\n",
              "      <th>1</th>\n",
              "      <td>hot tub</td>\n",
              "      <td>0.000073</td>\n",
              "    </tr>\n",
              "    <tr>\n",
              "      <th>31</th>\n",
              "      <td>good locat</td>\n",
              "      <td>0.000068</td>\n",
              "    </tr>\n",
              "    <tr>\n",
              "      <th>42</th>\n",
              "      <td>comfort inn</td>\n",
              "      <td>0.000055</td>\n",
              "    </tr>\n",
              "    <tr>\n",
              "      <th>48</th>\n",
              "      <td>clean staff</td>\n",
              "      <td>0.000038</td>\n",
              "    </tr>\n",
              "    <tr>\n",
              "      <th>28</th>\n",
              "      <td>long day</td>\n",
              "      <td>0.000033</td>\n",
              "    </tr>\n",
              "    <tr>\n",
              "      <th>17</th>\n",
              "      <td>next time</td>\n",
              "      <td>0.000024</td>\n",
              "    </tr>\n",
              "    <tr>\n",
              "      <th>34</th>\n",
              "      <td>midtown motel</td>\n",
              "      <td>0.000016</td>\n",
              "    </tr>\n",
              "    <tr>\n",
              "      <th>43</th>\n",
              "      <td>nthe hotel</td>\n",
              "      <td>0.000016</td>\n",
              "    </tr>\n",
              "    <tr>\n",
              "      <th>18</th>\n",
              "      <td>breakfast area</td>\n",
              "      <td>0.000012</td>\n",
              "    </tr>\n",
              "    <tr>\n",
              "      <th>6</th>\n",
              "      <td>nthe room</td>\n",
              "      <td>0.000012</td>\n",
              "    </tr>\n",
              "    <tr>\n",
              "      <th>33</th>\n",
              "      <td>chateau moncton</td>\n",
              "      <td>0.000006</td>\n",
              "    </tr>\n",
              "    <tr>\n",
              "      <th>44</th>\n",
              "      <td>clean room</td>\n",
              "      <td>0.000005</td>\n",
              "    </tr>\n",
              "    <tr>\n",
              "      <th>39</th>\n",
              "      <td>hampton inn</td>\n",
              "      <td>0.000005</td>\n",
              "    </tr>\n",
              "    <tr>\n",
              "      <th>16</th>\n",
              "      <td>hot breakfast</td>\n",
              "      <td>0.000004</td>\n",
              "    </tr>\n",
              "    <tr>\n",
              "      <th>5</th>\n",
              "      <td>main street</td>\n",
              "      <td>0.000001</td>\n",
              "    </tr>\n",
              "  </tbody>\n",
              "</table>\n",
              "</div>"
            ],
            "text/plain": [
              "                   Word  MI Score\n",
              "0   front desk          0.006059 \n",
              "7   great place         0.003391 \n",
              "35  comfort room        0.002500 \n",
              "47  nice place          0.002261 \n",
              "23  next morn           0.001871 \n",
              "20  tidal bore          0.001795 \n",
              "10  park lot            0.001747 \n",
              "14  great stay          0.001562 \n",
              "29  great hotel         0.001295 \n",
              "11  downtown moncton    0.001118 \n",
              "46  great experi        0.000913 \n",
              "13  friendli staff      0.000891 \n",
              "19  night stay          0.000844 \n",
              "12  great locat         0.000729 \n",
              "24  water slide         0.000716 \n",
              "25  moncton area        0.000716 \n",
              "8   continent breakfast 0.000609 \n",
              "32  hopewel rock        0.000567 \n",
              "41  good breakfast      0.000496 \n",
              "40  breakfast buffet    0.000496 \n",
              "37  queen bed           0.000479 \n",
              "45  nthe staff          0.000427 \n",
              "21  crown plaza         0.000401 \n",
              "9   pool area           0.000349 \n",
              "26  good valu           0.000308 \n",
              "49  hotel room          0.000266 \n",
              "15  comfort bed         0.000257 \n",
              "30  clean bed           0.000256 \n",
              "4   first time          0.000198 \n",
              "2   front desk staff    0.000196 \n",
              "38  next day            0.000147 \n",
              "3   free breakfast      0.000141 \n",
              "36  new brunswick       0.000121 \n",
              "22  amsterdam inn       0.000114 \n",
              "27  hotel staff         0.000083 \n",
              "1   hot tub             0.000073 \n",
              "31  good locat          0.000068 \n",
              "42  comfort inn         0.000055 \n",
              "48  clean staff         0.000038 \n",
              "28  long day            0.000033 \n",
              "17  next time           0.000024 \n",
              "34  midtown motel       0.000016 \n",
              "43  nthe hotel          0.000016 \n",
              "18  breakfast area      0.000012 \n",
              "6   nthe room           0.000012 \n",
              "33  chateau moncton     0.000006 \n",
              "44  clean room          0.000005 \n",
              "39  hampton inn         0.000005 \n",
              "16  hot breakfast       0.000004 \n",
              "5   main street         0.000001 "
            ]
          },
          "metadata": {
            "tags": []
          },
          "execution_count": 33
        }
      ]
    },
    {
      "cell_type": "markdown",
      "metadata": {
        "id": "kH80R7mwVP4t",
        "colab_type": "text"
      },
      "source": [
        "*  The value of mutual information for noun phrases is smaller than that for words, possibly because the occurrence of the phrase in each review is much fewer. The phrase is not as representative of the ground truth sentiment as the word because the phrase is rarer to be found in reviews.\n",
        "* Locale-specific phrases are \"crown plaza\", \"hopewel rock\", and \"moncton area\", and \"new brunswick\".\n",
        "* Breakfast can tell us a lot about ground truth sentiment.\n",
        "\n",
        "##Q4. PMI\n",
        "###(a) For ground truth sentiment, calculate the top-50 words according to PMI of the word occuring with (i) positive reviews and (ii) negative reviews. Do you note anything interesting and/or locale-speci\fc about these top-ranked words?\n",
        "\n"
      ]
    },
    {
      "cell_type": "code",
      "metadata": {
        "id": "GqwnWoxQlmac",
        "colab_type": "code",
        "colab": {}
      },
      "source": [
        "# Simple example of getting pairwise mutual information of a term\n",
        "def pmiCal(df, x):\n",
        "    pmilist=[]\n",
        "    for i in [1,-1]: #positive, negativ\n",
        "        for j in [0,1]: #the word in the review or not\n",
        "            px = sum(df['groundTruth']==i)/len(df)  #context: number of 'positive'/ all rows \n",
        "            py = sum(df[x]==j)/len(df) #word: number of reviews that conatain the word/ all rows \n",
        "            pxy = len(df[(df['groundTruth']==i) & (df[x]==j)])/len(df)\n",
        "            if pxy==0:#Log 0 cannot happen\n",
        "                pmi = math.log((pxy+0.0001)/(px*py))\n",
        "            else:\n",
        "                pmi = math.log(pxy/(px*py))\n",
        "            pmilist.append([i]+[j]+[px]+[py]+[pxy]+[pmi])\n",
        "    pmidf = pandas.DataFrame(pmilist)\n",
        "    pmidf.columns = ['x','y','px','py','pxy','pmi']\n",
        "    return pmidf"
      ],
      "execution_count": 0,
      "outputs": []
    },
    {
      "cell_type": "code",
      "metadata": {
        "id": "FWZz-p6JO2V4",
        "colab_type": "code",
        "colab": {}
      },
      "source": [
        "def pmiIndivCal(df,x,gt, label_column='groundTruth'):\n",
        "    px = sum(df[label_column]==gt)/len(df) #context: number of 'positive'/ all rows \n",
        "    py = sum(df[x]==1)/len(df) #word: number of reviews that conatain the word/ all rows \n",
        "    pxy = len(df[(df[label_column]==gt) & (df[x]==1)])/len(df)\n",
        "    if pxy==0:#Log 0 cannot happen\n",
        "        pmi = math.log((pxy+0.0001)/(px*py))\n",
        "    else:\n",
        "        pmi = math.log(pxy/(px*py))\n",
        "    return pmi"
      ],
      "execution_count": 0,
      "outputs": []
    },
    {
      "cell_type": "code",
      "metadata": {
        "id": "efi1N2Z7isQ1",
        "colab_type": "code",
        "colab": {}
      },
      "source": [
        "# Compute PMI for all terms and all possible labels\n",
        "def pmiForAllCal(df, label_column='groundTruth', topk=topk):\n",
        "    #Try calculate all the pmi for top k and store them into one pmidf dataframe\n",
        "    pmilist = []\n",
        "    pmiposlist = []\n",
        "    pmineglist = []\n",
        "    for word in tqdm(topk):\n",
        "        pmilist.append([word[0]]+[pmiCal(df,word[0])]) #k *([the word, 'x','y','px','py','pxy','pmi'])\n",
        "        pmiposlist.append([word[0]]+[pmiIndivCal(df,word[0],1,label_column)]) #positive #k*([the word, pmi])\n",
        "        pmineglist.append([word[0]]+[pmiIndivCal(df,word[0],-1,label_column)]) #negative #k*([the word, pmi])\n",
        "    pmidf = pandas.DataFrame(pmilist)\n",
        "    pmiposlist = pandas.DataFrame(pmiposlist)\n",
        "    pmineglist = pandas.DataFrame(pmineglist)\n",
        "    pmiposlist.columns = ['word','pmi']\n",
        "    pmineglist.columns = ['word','pmi']\n",
        "    pmidf.columns = ['word','pmi']\n",
        "    return pmiposlist, pmineglist, pmidf"
      ],
      "execution_count": 0,
      "outputs": []
    },
    {
      "cell_type": "code",
      "metadata": {
        "id": "_bg63dKskSnM",
        "colab_type": "code",
        "outputId": "e76ac61b-9e79-4d7d-bd30-c21a343659b2",
        "colab": {
          "base_uri": "https://localhost:8080/",
          "height": 34
        }
      },
      "source": [
        "pmiposlistPosi, pmineglistPosi, pmidfPosi = pmiForAllCal(finaldf)"
      ],
      "execution_count": 0,
      "outputs": [
        {
          "output_type": "stream",
          "text": [
            "100%|██████████| 50/50 [00:00<00:00, 84.77it/s]\n"
          ],
          "name": "stderr"
        }
      ]
    },
    {
      "cell_type": "code",
      "metadata": {
        "id": "ddljOUYXldlC",
        "colab_type": "code",
        "outputId": "1d4d82b0-2c99-445b-9eea-d19f984e6187",
        "colab": {
          "base_uri": "https://localhost:8080/",
          "height": 1000
        }
      },
      "source": [
        "pmiposlistPosi.sort_values('pmi',ascending=0).head(50)"
      ],
      "execution_count": 0,
      "outputs": [
        {
          "output_type": "execute_result",
          "data": {
            "text/html": [
              "<div>\n",
              "<style scoped>\n",
              "    .dataframe tbody tr th:only-of-type {\n",
              "        vertical-align: middle;\n",
              "    }\n",
              "\n",
              "    .dataframe tbody tr th {\n",
              "        vertical-align: top;\n",
              "    }\n",
              "\n",
              "    .dataframe thead th {\n",
              "        text-align: right;\n",
              "    }\n",
              "</style>\n",
              "<table border=\"1\" class=\"dataframe\">\n",
              "  <thead>\n",
              "    <tr style=\"text-align: right;\">\n",
              "      <th></th>\n",
              "      <th>word</th>\n",
              "      <th>pmi</th>\n",
              "    </tr>\n",
              "  </thead>\n",
              "  <tbody>\n",
              "    <tr>\n",
              "      <th>47</th>\n",
              "      <td>excellent</td>\n",
              "      <td>0.173698</td>\n",
              "    </tr>\n",
              "    <tr>\n",
              "      <th>30</th>\n",
              "      <td>helpful</td>\n",
              "      <td>0.133585</td>\n",
              "    </tr>\n",
              "    <tr>\n",
              "      <th>14</th>\n",
              "      <td>comfortable</td>\n",
              "      <td>0.126204</td>\n",
              "    </tr>\n",
              "    <tr>\n",
              "      <th>6</th>\n",
              "      <td>great</td>\n",
              "      <td>0.119855</td>\n",
              "    </tr>\n",
              "    <tr>\n",
              "      <th>46</th>\n",
              "      <td>downtown</td>\n",
              "      <td>0.114214</td>\n",
              "    </tr>\n",
              "    <tr>\n",
              "      <th>44</th>\n",
              "      <td>recommend</td>\n",
              "      <td>0.111658</td>\n",
              "    </tr>\n",
              "    <tr>\n",
              "      <th>38</th>\n",
              "      <td>close</td>\n",
              "      <td>0.106783</td>\n",
              "    </tr>\n",
              "    <tr>\n",
              "      <th>13</th>\n",
              "      <td>friendly</td>\n",
              "      <td>0.100465</td>\n",
              "    </tr>\n",
              "    <tr>\n",
              "      <th>48</th>\n",
              "      <td>large</td>\n",
              "      <td>0.087522</td>\n",
              "    </tr>\n",
              "    <tr>\n",
              "      <th>4</th>\n",
              "      <td>staff</td>\n",
              "      <td>0.083487</td>\n",
              "    </tr>\n",
              "    <tr>\n",
              "      <th>28</th>\n",
              "      <td>free</td>\n",
              "      <td>0.071064</td>\n",
              "    </tr>\n",
              "    <tr>\n",
              "      <th>5</th>\n",
              "      <td>clean</td>\n",
              "      <td>0.069282</td>\n",
              "    </tr>\n",
              "    <tr>\n",
              "      <th>12</th>\n",
              "      <td>moncton</td>\n",
              "      <td>0.062079</td>\n",
              "    </tr>\n",
              "    <tr>\n",
              "      <th>27</th>\n",
              "      <td>service</td>\n",
              "      <td>0.055007</td>\n",
              "    </tr>\n",
              "    <tr>\n",
              "      <th>36</th>\n",
              "      <td>hot</td>\n",
              "      <td>0.054676</td>\n",
              "    </tr>\n",
              "    <tr>\n",
              "      <th>9</th>\n",
              "      <td>nice</td>\n",
              "      <td>0.050487</td>\n",
              "    </tr>\n",
              "    <tr>\n",
              "      <th>39</th>\n",
              "      <td>inn</td>\n",
              "      <td>0.048592</td>\n",
              "    </tr>\n",
              "    <tr>\n",
              "      <th>17</th>\n",
              "      <td>well</td>\n",
              "      <td>0.043817</td>\n",
              "    </tr>\n",
              "    <tr>\n",
              "      <th>22</th>\n",
              "      <td>area</td>\n",
              "      <td>0.042077</td>\n",
              "    </tr>\n",
              "    <tr>\n",
              "      <th>49</th>\n",
              "      <td>right</td>\n",
              "      <td>0.042077</td>\n",
              "    </tr>\n",
              "    <tr>\n",
              "      <th>43</th>\n",
              "      <td>parking</td>\n",
              "      <td>0.036447</td>\n",
              "    </tr>\n",
              "    <tr>\n",
              "      <th>21</th>\n",
              "      <td>location</td>\n",
              "      <td>0.034798</td>\n",
              "    </tr>\n",
              "    <tr>\n",
              "      <th>2</th>\n",
              "      <td>breakfast</td>\n",
              "      <td>0.030711</td>\n",
              "    </tr>\n",
              "    <tr>\n",
              "      <th>3</th>\n",
              "      <td>stay</td>\n",
              "      <td>0.020789</td>\n",
              "    </tr>\n",
              "    <tr>\n",
              "      <th>33</th>\n",
              "      <td>beds</td>\n",
              "      <td>0.007600</td>\n",
              "    </tr>\n",
              "    <tr>\n",
              "      <th>7</th>\n",
              "      <td>good</td>\n",
              "      <td>0.007075</td>\n",
              "    </tr>\n",
              "    <tr>\n",
              "      <th>19</th>\n",
              "      <td>place</td>\n",
              "      <td>0.004600</td>\n",
              "    </tr>\n",
              "    <tr>\n",
              "      <th>11</th>\n",
              "      <td>stayed</td>\n",
              "      <td>-0.008832</td>\n",
              "    </tr>\n",
              "    <tr>\n",
              "      <th>40</th>\n",
              "      <td>really</td>\n",
              "      <td>-0.008978</td>\n",
              "    </tr>\n",
              "    <tr>\n",
              "      <th>10</th>\n",
              "      <td>rooms</td>\n",
              "      <td>-0.010838</td>\n",
              "    </tr>\n",
              "    <tr>\n",
              "      <th>1</th>\n",
              "      <td>hotel</td>\n",
              "      <td>-0.020869</td>\n",
              "    </tr>\n",
              "    <tr>\n",
              "      <th>18</th>\n",
              "      <td>pool</td>\n",
              "      <td>-0.027303</td>\n",
              "    </tr>\n",
              "    <tr>\n",
              "      <th>31</th>\n",
              "      <td>nthe</td>\n",
              "      <td>-0.032979</td>\n",
              "    </tr>\n",
              "    <tr>\n",
              "      <th>35</th>\n",
              "      <td>back</td>\n",
              "      <td>-0.050519</td>\n",
              "    </tr>\n",
              "    <tr>\n",
              "      <th>0</th>\n",
              "      <td>room</td>\n",
              "      <td>-0.066318</td>\n",
              "    </tr>\n",
              "    <tr>\n",
              "      <th>26</th>\n",
              "      <td>also</td>\n",
              "      <td>-0.066557</td>\n",
              "    </tr>\n",
              "    <tr>\n",
              "      <th>20</th>\n",
              "      <td>bed</td>\n",
              "      <td>-0.067194</td>\n",
              "    </tr>\n",
              "    <tr>\n",
              "      <th>34</th>\n",
              "      <td>check</td>\n",
              "      <td>-0.067420</td>\n",
              "    </tr>\n",
              "    <tr>\n",
              "      <th>23</th>\n",
              "      <td>time</td>\n",
              "      <td>-0.072448</td>\n",
              "    </tr>\n",
              "    <tr>\n",
              "      <th>45</th>\n",
              "      <td>even</td>\n",
              "      <td>-0.081414</td>\n",
              "    </tr>\n",
              "    <tr>\n",
              "      <th>8</th>\n",
              "      <td>would</td>\n",
              "      <td>-0.090345</td>\n",
              "    </tr>\n",
              "    <tr>\n",
              "      <th>24</th>\n",
              "      <td>desk</td>\n",
              "      <td>-0.117363</td>\n",
              "    </tr>\n",
              "    <tr>\n",
              "      <th>25</th>\n",
              "      <td>front</td>\n",
              "      <td>-0.123424</td>\n",
              "    </tr>\n",
              "    <tr>\n",
              "      <th>15</th>\n",
              "      <td>one</td>\n",
              "      <td>-0.133952</td>\n",
              "    </tr>\n",
              "    <tr>\n",
              "      <th>16</th>\n",
              "      <td>night</td>\n",
              "      <td>-0.165829</td>\n",
              "    </tr>\n",
              "    <tr>\n",
              "      <th>41</th>\n",
              "      <td>small</td>\n",
              "      <td>-0.175890</td>\n",
              "    </tr>\n",
              "    <tr>\n",
              "      <th>37</th>\n",
              "      <td>could</td>\n",
              "      <td>-0.186368</td>\n",
              "    </tr>\n",
              "    <tr>\n",
              "      <th>32</th>\n",
              "      <td>get</td>\n",
              "      <td>-0.204768</td>\n",
              "    </tr>\n",
              "    <tr>\n",
              "      <th>29</th>\n",
              "      <td>like</td>\n",
              "      <td>-0.222780</td>\n",
              "    </tr>\n",
              "    <tr>\n",
              "      <th>42</th>\n",
              "      <td>bathroom</td>\n",
              "      <td>-0.318617</td>\n",
              "    </tr>\n",
              "  </tbody>\n",
              "</table>\n",
              "</div>"
            ],
            "text/plain": [
              "           word       pmi\n",
              "47  excellent   0.173698 \n",
              "30  helpful     0.133585 \n",
              "14  comfortable 0.126204 \n",
              "6   great       0.119855 \n",
              "46  downtown    0.114214 \n",
              "44  recommend   0.111658 \n",
              "38  close       0.106783 \n",
              "13  friendly    0.100465 \n",
              "48  large       0.087522 \n",
              "4   staff       0.083487 \n",
              "28  free        0.071064 \n",
              "5   clean       0.069282 \n",
              "12  moncton     0.062079 \n",
              "27  service     0.055007 \n",
              "36  hot         0.054676 \n",
              "9   nice        0.050487 \n",
              "39  inn         0.048592 \n",
              "17  well        0.043817 \n",
              "22  area        0.042077 \n",
              "49  right       0.042077 \n",
              "43  parking     0.036447 \n",
              "21  location    0.034798 \n",
              "2   breakfast   0.030711 \n",
              "3   stay        0.020789 \n",
              "33  beds        0.007600 \n",
              "7   good        0.007075 \n",
              "19  place       0.004600 \n",
              "11  stayed      -0.008832\n",
              "40  really      -0.008978\n",
              "10  rooms       -0.010838\n",
              "1   hotel       -0.020869\n",
              "18  pool        -0.027303\n",
              "31  nthe        -0.032979\n",
              "35  back        -0.050519\n",
              "0   room        -0.066318\n",
              "26  also        -0.066557\n",
              "20  bed         -0.067194\n",
              "34  check       -0.067420\n",
              "23  time        -0.072448\n",
              "45  even        -0.081414\n",
              "8   would       -0.090345\n",
              "24  desk        -0.117363\n",
              "25  front       -0.123424\n",
              "15  one         -0.133952\n",
              "16  night       -0.165829\n",
              "41  small       -0.175890\n",
              "37  could       -0.186368\n",
              "32  get         -0.204768\n",
              "29  like        -0.222780\n",
              "42  bathroom    -0.318617"
            ]
          },
          "metadata": {
            "tags": []
          },
          "execution_count": 38
        }
      ]
    },
    {
      "cell_type": "code",
      "metadata": {
        "id": "nkBKOZvxpApP",
        "colab_type": "code",
        "outputId": "77fa67dd-9a49-4678-b103-9d0e804b5518",
        "colab": {
          "base_uri": "https://localhost:8080/",
          "height": 1000
        }
      },
      "source": [
        "pmineglistPosi.sort_values('pmi',ascending=0).head(50)"
      ],
      "execution_count": 0,
      "outputs": [
        {
          "output_type": "execute_result",
          "data": {
            "text/html": [
              "<div>\n",
              "<style scoped>\n",
              "    .dataframe tbody tr th:only-of-type {\n",
              "        vertical-align: middle;\n",
              "    }\n",
              "\n",
              "    .dataframe tbody tr th {\n",
              "        vertical-align: top;\n",
              "    }\n",
              "\n",
              "    .dataframe thead th {\n",
              "        text-align: right;\n",
              "    }\n",
              "</style>\n",
              "<table border=\"1\" class=\"dataframe\">\n",
              "  <thead>\n",
              "    <tr style=\"text-align: right;\">\n",
              "      <th></th>\n",
              "      <th>word</th>\n",
              "      <th>pmi</th>\n",
              "    </tr>\n",
              "  </thead>\n",
              "  <tbody>\n",
              "    <tr>\n",
              "      <th>42</th>\n",
              "      <td>bathroom</td>\n",
              "      <td>0.665844</td>\n",
              "    </tr>\n",
              "    <tr>\n",
              "      <th>29</th>\n",
              "      <td>like</td>\n",
              "      <td>0.526218</td>\n",
              "    </tr>\n",
              "    <tr>\n",
              "      <th>32</th>\n",
              "      <td>get</td>\n",
              "      <td>0.495964</td>\n",
              "    </tr>\n",
              "    <tr>\n",
              "      <th>37</th>\n",
              "      <td>could</td>\n",
              "      <td>0.463489</td>\n",
              "    </tr>\n",
              "    <tr>\n",
              "      <th>41</th>\n",
              "      <td>small</td>\n",
              "      <td>0.444233</td>\n",
              "    </tr>\n",
              "    <tr>\n",
              "      <th>16</th>\n",
              "      <td>night</td>\n",
              "      <td>0.425193</td>\n",
              "    </tr>\n",
              "    <tr>\n",
              "      <th>15</th>\n",
              "      <td>one</td>\n",
              "      <td>0.360977</td>\n",
              "    </tr>\n",
              "    <tr>\n",
              "      <th>25</th>\n",
              "      <td>front</td>\n",
              "      <td>0.338350</td>\n",
              "    </tr>\n",
              "    <tr>\n",
              "      <th>24</th>\n",
              "      <td>desk</td>\n",
              "      <td>0.324976</td>\n",
              "    </tr>\n",
              "    <tr>\n",
              "      <th>8</th>\n",
              "      <td>would</td>\n",
              "      <td>0.262018</td>\n",
              "    </tr>\n",
              "    <tr>\n",
              "      <th>45</th>\n",
              "      <td>even</td>\n",
              "      <td>0.239905</td>\n",
              "    </tr>\n",
              "    <tr>\n",
              "      <th>23</th>\n",
              "      <td>time</td>\n",
              "      <td>0.216996</td>\n",
              "    </tr>\n",
              "    <tr>\n",
              "      <th>34</th>\n",
              "      <td>check</td>\n",
              "      <td>0.203824</td>\n",
              "    </tr>\n",
              "    <tr>\n",
              "      <th>20</th>\n",
              "      <td>bed</td>\n",
              "      <td>0.203225</td>\n",
              "    </tr>\n",
              "    <tr>\n",
              "      <th>26</th>\n",
              "      <td>also</td>\n",
              "      <td>0.201538</td>\n",
              "    </tr>\n",
              "    <tr>\n",
              "      <th>0</th>\n",
              "      <td>room</td>\n",
              "      <td>0.200903</td>\n",
              "    </tr>\n",
              "    <tr>\n",
              "      <th>35</th>\n",
              "      <td>back</td>\n",
              "      <td>0.157713</td>\n",
              "    </tr>\n",
              "    <tr>\n",
              "      <th>31</th>\n",
              "      <td>nthe</td>\n",
              "      <td>0.106606</td>\n",
              "    </tr>\n",
              "    <tr>\n",
              "      <th>18</th>\n",
              "      <td>pool</td>\n",
              "      <td>0.089289</td>\n",
              "    </tr>\n",
              "    <tr>\n",
              "      <th>1</th>\n",
              "      <td>hotel</td>\n",
              "      <td>0.069169</td>\n",
              "    </tr>\n",
              "    <tr>\n",
              "      <th>10</th>\n",
              "      <td>rooms</td>\n",
              "      <td>0.036696</td>\n",
              "    </tr>\n",
              "    <tr>\n",
              "      <th>40</th>\n",
              "      <td>really</td>\n",
              "      <td>0.030523</td>\n",
              "    </tr>\n",
              "    <tr>\n",
              "      <th>11</th>\n",
              "      <td>stayed</td>\n",
              "      <td>0.030037</td>\n",
              "    </tr>\n",
              "    <tr>\n",
              "      <th>19</th>\n",
              "      <td>place</td>\n",
              "      <td>-0.016117</td>\n",
              "    </tr>\n",
              "    <tr>\n",
              "      <th>7</th>\n",
              "      <td>good</td>\n",
              "      <td>-0.024930</td>\n",
              "    </tr>\n",
              "    <tr>\n",
              "      <th>33</th>\n",
              "      <td>beds</td>\n",
              "      <td>-0.026811</td>\n",
              "    </tr>\n",
              "    <tr>\n",
              "      <th>3</th>\n",
              "      <td>stay</td>\n",
              "      <td>-0.075634</td>\n",
              "    </tr>\n",
              "    <tr>\n",
              "      <th>2</th>\n",
              "      <td>breakfast</td>\n",
              "      <td>-0.114454</td>\n",
              "    </tr>\n",
              "    <tr>\n",
              "      <th>21</th>\n",
              "      <td>location</td>\n",
              "      <td>-0.131011</td>\n",
              "    </tr>\n",
              "    <tr>\n",
              "      <th>43</th>\n",
              "      <td>parking</td>\n",
              "      <td>-0.137789</td>\n",
              "    </tr>\n",
              "    <tr>\n",
              "      <th>22</th>\n",
              "      <td>area</td>\n",
              "      <td>-0.161368</td>\n",
              "    </tr>\n",
              "    <tr>\n",
              "      <th>49</th>\n",
              "      <td>right</td>\n",
              "      <td>-0.161368</td>\n",
              "    </tr>\n",
              "    <tr>\n",
              "      <th>17</th>\n",
              "      <td>well</td>\n",
              "      <td>-0.168798</td>\n",
              "    </tr>\n",
              "    <tr>\n",
              "      <th>39</th>\n",
              "      <td>inn</td>\n",
              "      <td>-0.189538</td>\n",
              "    </tr>\n",
              "    <tr>\n",
              "      <th>9</th>\n",
              "      <td>nice</td>\n",
              "      <td>-0.197921</td>\n",
              "    </tr>\n",
              "    <tr>\n",
              "      <th>36</th>\n",
              "      <td>hot</td>\n",
              "      <td>-0.216761</td>\n",
              "    </tr>\n",
              "    <tr>\n",
              "      <th>27</th>\n",
              "      <td>service</td>\n",
              "      <td>-0.218266</td>\n",
              "    </tr>\n",
              "    <tr>\n",
              "      <th>12</th>\n",
              "      <td>moncton</td>\n",
              "      <td>-0.251142</td>\n",
              "    </tr>\n",
              "    <tr>\n",
              "      <th>5</th>\n",
              "      <td>clean</td>\n",
              "      <td>-0.286036</td>\n",
              "    </tr>\n",
              "    <tr>\n",
              "      <th>28</th>\n",
              "      <td>free</td>\n",
              "      <td>-0.294899</td>\n",
              "    </tr>\n",
              "    <tr>\n",
              "      <th>4</th>\n",
              "      <td>staff</td>\n",
              "      <td>-0.359437</td>\n",
              "    </tr>\n",
              "    <tr>\n",
              "      <th>48</th>\n",
              "      <td>large</td>\n",
              "      <td>-0.381513</td>\n",
              "    </tr>\n",
              "    <tr>\n",
              "      <th>13</th>\n",
              "      <td>friendly</td>\n",
              "      <td>-0.456463</td>\n",
              "    </tr>\n",
              "    <tr>\n",
              "      <th>38</th>\n",
              "      <td>close</td>\n",
              "      <td>-0.495570</td>\n",
              "    </tr>\n",
              "    <tr>\n",
              "      <th>44</th>\n",
              "      <td>recommend</td>\n",
              "      <td>-0.527011</td>\n",
              "    </tr>\n",
              "    <tr>\n",
              "      <th>46</th>\n",
              "      <td>downtown</td>\n",
              "      <td>-0.543966</td>\n",
              "    </tr>\n",
              "    <tr>\n",
              "      <th>6</th>\n",
              "      <td>great</td>\n",
              "      <td>-0.582581</td>\n",
              "    </tr>\n",
              "    <tr>\n",
              "      <th>14</th>\n",
              "      <td>comfortable</td>\n",
              "      <td>-0.628192</td>\n",
              "    </tr>\n",
              "    <tr>\n",
              "      <th>30</th>\n",
              "      <td>helpful</td>\n",
              "      <td>-0.684364</td>\n",
              "    </tr>\n",
              "    <tr>\n",
              "      <th>47</th>\n",
              "      <td>excellent</td>\n",
              "      <td>-1.072353</td>\n",
              "    </tr>\n",
              "  </tbody>\n",
              "</table>\n",
              "</div>"
            ],
            "text/plain": [
              "           word       pmi\n",
              "42  bathroom    0.665844 \n",
              "29  like        0.526218 \n",
              "32  get         0.495964 \n",
              "37  could       0.463489 \n",
              "41  small       0.444233 \n",
              "16  night       0.425193 \n",
              "15  one         0.360977 \n",
              "25  front       0.338350 \n",
              "24  desk        0.324976 \n",
              "8   would       0.262018 \n",
              "45  even        0.239905 \n",
              "23  time        0.216996 \n",
              "34  check       0.203824 \n",
              "20  bed         0.203225 \n",
              "26  also        0.201538 \n",
              "0   room        0.200903 \n",
              "35  back        0.157713 \n",
              "31  nthe        0.106606 \n",
              "18  pool        0.089289 \n",
              "1   hotel       0.069169 \n",
              "10  rooms       0.036696 \n",
              "40  really      0.030523 \n",
              "11  stayed      0.030037 \n",
              "19  place       -0.016117\n",
              "7   good        -0.024930\n",
              "33  beds        -0.026811\n",
              "3   stay        -0.075634\n",
              "2   breakfast   -0.114454\n",
              "21  location    -0.131011\n",
              "43  parking     -0.137789\n",
              "22  area        -0.161368\n",
              "49  right       -0.161368\n",
              "17  well        -0.168798\n",
              "39  inn         -0.189538\n",
              "9   nice        -0.197921\n",
              "36  hot         -0.216761\n",
              "27  service     -0.218266\n",
              "12  moncton     -0.251142\n",
              "5   clean       -0.286036\n",
              "28  free        -0.294899\n",
              "4   staff       -0.359437\n",
              "48  large       -0.381513\n",
              "13  friendly    -0.456463\n",
              "38  close       -0.495570\n",
              "44  recommend   -0.527011\n",
              "46  downtown    -0.543966\n",
              "6   great       -0.582581\n",
              "14  comfortable -0.628192\n",
              "30  helpful     -0.684364\n",
              "47  excellent   -1.072353"
            ]
          },
          "metadata": {
            "tags": []
          },
          "execution_count": 39
        }
      ]
    },
    {
      "cell_type": "markdown",
      "metadata": {
        "id": "QfcE_EBX4k5l",
        "colab_type": "text"
      },
      "source": [
        "*  Pointwise mutual information represents the relationship between the occurrence of the word (the word exists in the review) and the positive/negative ground truth sentiment. The greater the value is, the more representative the word is of positive ground truth sentiment. (related, indicative) \n",
        "*  Locale-specific words with positive connotations are \"moncton\" and \"downtown\". \"downtown\" is related to negative connotation.\n",
        "* Positive adjectives like \"excellent\", \"helpful\", \"comfortable\", and \"great\" have a positive connotation. \n",
        "* \"bathroom\" ranks the first in the negative list, which is the most indicative word of negative sentiment. "
      ]
    },
    {
      "cell_type": "markdown",
      "metadata": {
        "id": "x4usNZJxCNM8",
        "colab_type": "text"
      },
      "source": [
        "###(b) PMI for Noun Phrase"
      ]
    },
    {
      "cell_type": "code",
      "metadata": {
        "id": "TgaZf0TwCGaT",
        "colab_type": "code",
        "outputId": "ee380352-d4a6-4861-b78e-e36b76ff1b0a",
        "colab": {
          "base_uri": "https://localhost:8080/",
          "height": 34
        }
      },
      "source": [
        "pmiposlistPosi, pmineglistPosi, pmidfPosi = pmiForAllCal(finaldfNP, topk=topkNP)"
      ],
      "execution_count": 0,
      "outputs": [
        {
          "output_type": "stream",
          "text": [
            "100%|██████████| 50/50 [00:00<00:00, 85.06it/s]\n"
          ],
          "name": "stderr"
        }
      ]
    },
    {
      "cell_type": "code",
      "metadata": {
        "id": "ceyBR56QCWRK",
        "colab_type": "code",
        "outputId": "e26d200f-1685-40b7-f4b8-6a994c397bc3",
        "colab": {
          "base_uri": "https://localhost:8080/",
          "height": 1000
        }
      },
      "source": [
        "pmiposlistPosi.sort_values('pmi',ascending=0).head(50)"
      ],
      "execution_count": 0,
      "outputs": [
        {
          "output_type": "execute_result",
          "data": {
            "text/html": [
              "<div>\n",
              "<style scoped>\n",
              "    .dataframe tbody tr th:only-of-type {\n",
              "        vertical-align: middle;\n",
              "    }\n",
              "\n",
              "    .dataframe tbody tr th {\n",
              "        vertical-align: top;\n",
              "    }\n",
              "\n",
              "    .dataframe thead th {\n",
              "        text-align: right;\n",
              "    }\n",
              "</style>\n",
              "<table border=\"1\" class=\"dataframe\">\n",
              "  <thead>\n",
              "    <tr style=\"text-align: right;\">\n",
              "      <th></th>\n",
              "      <th>word</th>\n",
              "      <th>pmi</th>\n",
              "    </tr>\n",
              "  </thead>\n",
              "  <tbody>\n",
              "    <tr>\n",
              "      <th>47</th>\n",
              "      <td>nice place</td>\n",
              "      <td>0.253386</td>\n",
              "    </tr>\n",
              "    <tr>\n",
              "      <th>35</th>\n",
              "      <td>comfort room</td>\n",
              "      <td>0.253386</td>\n",
              "    </tr>\n",
              "    <tr>\n",
              "      <th>7</th>\n",
              "      <td>great place</td>\n",
              "      <td>0.229288</td>\n",
              "    </tr>\n",
              "    <tr>\n",
              "      <th>20</th>\n",
              "      <td>tidal bore</td>\n",
              "      <td>0.215646</td>\n",
              "    </tr>\n",
              "    <tr>\n",
              "      <th>29</th>\n",
              "      <td>great hotel</td>\n",
              "      <td>0.206866</td>\n",
              "    </tr>\n",
              "    <tr>\n",
              "      <th>46</th>\n",
              "      <td>great experi</td>\n",
              "      <td>0.196228</td>\n",
              "    </tr>\n",
              "    <tr>\n",
              "      <th>14</th>\n",
              "      <td>great stay</td>\n",
              "      <td>0.190866</td>\n",
              "    </tr>\n",
              "    <tr>\n",
              "      <th>11</th>\n",
              "      <td>downtown moncton</td>\n",
              "      <td>0.163774</td>\n",
              "    </tr>\n",
              "    <tr>\n",
              "      <th>24</th>\n",
              "      <td>water slide</td>\n",
              "      <td>0.162414</td>\n",
              "    </tr>\n",
              "    <tr>\n",
              "      <th>25</th>\n",
              "      <td>moncton area</td>\n",
              "      <td>0.162414</td>\n",
              "    </tr>\n",
              "    <tr>\n",
              "      <th>13</th>\n",
              "      <td>friendli staff</td>\n",
              "      <td>0.154946</td>\n",
              "    </tr>\n",
              "    <tr>\n",
              "      <th>32</th>\n",
              "      <td>hopewel rock</td>\n",
              "      <td>0.153303</td>\n",
              "    </tr>\n",
              "    <tr>\n",
              "      <th>40</th>\n",
              "      <td>breakfast buffet</td>\n",
              "      <td>0.148025</td>\n",
              "    </tr>\n",
              "    <tr>\n",
              "      <th>41</th>\n",
              "      <td>good breakfast</td>\n",
              "      <td>0.148025</td>\n",
              "    </tr>\n",
              "    <tr>\n",
              "      <th>45</th>\n",
              "      <td>nthe staff</td>\n",
              "      <td>0.142160</td>\n",
              "    </tr>\n",
              "    <tr>\n",
              "      <th>12</th>\n",
              "      <td>great locat</td>\n",
              "      <td>0.135603</td>\n",
              "    </tr>\n",
              "    <tr>\n",
              "      <th>8</th>\n",
              "      <td>continent breakfast</td>\n",
              "      <td>0.119855</td>\n",
              "    </tr>\n",
              "    <tr>\n",
              "      <th>26</th>\n",
              "      <td>good valu</td>\n",
              "      <td>0.113624</td>\n",
              "    </tr>\n",
              "    <tr>\n",
              "      <th>30</th>\n",
              "      <td>clean bed</td>\n",
              "      <td>0.106783</td>\n",
              "    </tr>\n",
              "    <tr>\n",
              "      <th>15</th>\n",
              "      <td>comfort bed</td>\n",
              "      <td>0.089083</td>\n",
              "    </tr>\n",
              "    <tr>\n",
              "      <th>36</th>\n",
              "      <td>new brunswick</td>\n",
              "      <td>0.081536</td>\n",
              "    </tr>\n",
              "    <tr>\n",
              "      <th>22</th>\n",
              "      <td>amsterdam inn</td>\n",
              "      <td>0.071064</td>\n",
              "    </tr>\n",
              "    <tr>\n",
              "      <th>4</th>\n",
              "      <td>first time</td>\n",
              "      <td>0.066800</td>\n",
              "    </tr>\n",
              "    <tr>\n",
              "      <th>2</th>\n",
              "      <td>front desk staff</td>\n",
              "      <td>0.063342</td>\n",
              "    </tr>\n",
              "    <tr>\n",
              "      <th>27</th>\n",
              "      <td>hotel staff</td>\n",
              "      <td>0.062331</td>\n",
              "    </tr>\n",
              "    <tr>\n",
              "      <th>42</th>\n",
              "      <td>comfort inn</td>\n",
              "      <td>0.059230</td>\n",
              "    </tr>\n",
              "    <tr>\n",
              "      <th>28</th>\n",
              "      <td>long day</td>\n",
              "      <td>0.042077</td>\n",
              "    </tr>\n",
              "    <tr>\n",
              "      <th>43</th>\n",
              "      <td>nthe hotel</td>\n",
              "      <td>0.030242</td>\n",
              "    </tr>\n",
              "    <tr>\n",
              "      <th>34</th>\n",
              "      <td>midtown motel</td>\n",
              "      <td>0.030242</td>\n",
              "    </tr>\n",
              "    <tr>\n",
              "      <th>17</th>\n",
              "      <td>next time</td>\n",
              "      <td>0.030242</td>\n",
              "    </tr>\n",
              "    <tr>\n",
              "      <th>39</th>\n",
              "      <td>hampton inn</td>\n",
              "      <td>0.016997</td>\n",
              "    </tr>\n",
              "    <tr>\n",
              "      <th>44</th>\n",
              "      <td>clean room</td>\n",
              "      <td>0.016997</td>\n",
              "    </tr>\n",
              "    <tr>\n",
              "      <th>5</th>\n",
              "      <td>main street</td>\n",
              "      <td>-0.004443</td>\n",
              "    </tr>\n",
              "    <tr>\n",
              "      <th>16</th>\n",
              "      <td>hot breakfast</td>\n",
              "      <td>-0.012317</td>\n",
              "    </tr>\n",
              "    <tr>\n",
              "      <th>6</th>\n",
              "      <td>nthe room</td>\n",
              "      <td>-0.018548</td>\n",
              "    </tr>\n",
              "    <tr>\n",
              "      <th>33</th>\n",
              "      <td>chateau moncton</td>\n",
              "      <td>-0.018548</td>\n",
              "    </tr>\n",
              "    <tr>\n",
              "      <th>18</th>\n",
              "      <td>breakfast area</td>\n",
              "      <td>-0.022867</td>\n",
              "    </tr>\n",
              "    <tr>\n",
              "      <th>1</th>\n",
              "      <td>hot tub</td>\n",
              "      <td>-0.039962</td>\n",
              "    </tr>\n",
              "    <tr>\n",
              "      <th>48</th>\n",
              "      <td>clean staff</td>\n",
              "      <td>-0.051996</td>\n",
              "    </tr>\n",
              "    <tr>\n",
              "      <th>3</th>\n",
              "      <td>free breakfast</td>\n",
              "      <td>-0.060272</td>\n",
              "    </tr>\n",
              "    <tr>\n",
              "      <th>31</th>\n",
              "      <td>good locat</td>\n",
              "      <td>-0.065068</td>\n",
              "    </tr>\n",
              "    <tr>\n",
              "      <th>38</th>\n",
              "      <td>next day</td>\n",
              "      <td>-0.103289</td>\n",
              "    </tr>\n",
              "    <tr>\n",
              "      <th>9</th>\n",
              "      <td>pool area</td>\n",
              "      <td>-0.114339</td>\n",
              "    </tr>\n",
              "    <tr>\n",
              "      <th>21</th>\n",
              "      <td>crown plaza</td>\n",
              "      <td>-0.152079</td>\n",
              "    </tr>\n",
              "    <tr>\n",
              "      <th>49</th>\n",
              "      <td>hotel room</td>\n",
              "      <td>-0.152079</td>\n",
              "    </tr>\n",
              "    <tr>\n",
              "      <th>37</th>\n",
              "      <td>queen bed</td>\n",
              "      <td>-0.206146</td>\n",
              "    </tr>\n",
              "    <tr>\n",
              "      <th>19</th>\n",
              "      <td>night stay</td>\n",
              "      <td>-0.223538</td>\n",
              "    </tr>\n",
              "    <tr>\n",
              "      <th>0</th>\n",
              "      <td>front desk</td>\n",
              "      <td>-0.261924</td>\n",
              "    </tr>\n",
              "    <tr>\n",
              "      <th>10</th>\n",
              "      <td>park lot</td>\n",
              "      <td>-0.293158</td>\n",
              "    </tr>\n",
              "    <tr>\n",
              "      <th>23</th>\n",
              "      <td>next morn</td>\n",
              "      <td>-0.400540</td>\n",
              "    </tr>\n",
              "  </tbody>\n",
              "</table>\n",
              "</div>"
            ],
            "text/plain": [
              "                   word       pmi\n",
              "47  nice place          0.253386 \n",
              "35  comfort room        0.253386 \n",
              "7   great place         0.229288 \n",
              "20  tidal bore          0.215646 \n",
              "29  great hotel         0.206866 \n",
              "46  great experi        0.196228 \n",
              "14  great stay          0.190866 \n",
              "11  downtown moncton    0.163774 \n",
              "24  water slide         0.162414 \n",
              "25  moncton area        0.162414 \n",
              "13  friendli staff      0.154946 \n",
              "32  hopewel rock        0.153303 \n",
              "40  breakfast buffet    0.148025 \n",
              "41  good breakfast      0.148025 \n",
              "45  nthe staff          0.142160 \n",
              "12  great locat         0.135603 \n",
              "8   continent breakfast 0.119855 \n",
              "26  good valu           0.113624 \n",
              "30  clean bed           0.106783 \n",
              "15  comfort bed         0.089083 \n",
              "36  new brunswick       0.081536 \n",
              "22  amsterdam inn       0.071064 \n",
              "4   first time          0.066800 \n",
              "2   front desk staff    0.063342 \n",
              "27  hotel staff         0.062331 \n",
              "42  comfort inn         0.059230 \n",
              "28  long day            0.042077 \n",
              "43  nthe hotel          0.030242 \n",
              "34  midtown motel       0.030242 \n",
              "17  next time           0.030242 \n",
              "39  hampton inn         0.016997 \n",
              "44  clean room          0.016997 \n",
              "5   main street         -0.004443\n",
              "16  hot breakfast       -0.012317\n",
              "6   nthe room           -0.018548\n",
              "33  chateau moncton     -0.018548\n",
              "18  breakfast area      -0.022867\n",
              "1   hot tub             -0.039962\n",
              "48  clean staff         -0.051996\n",
              "3   free breakfast      -0.060272\n",
              "31  good locat          -0.065068\n",
              "38  next day            -0.103289\n",
              "9   pool area           -0.114339\n",
              "21  crown plaza         -0.152079\n",
              "49  hotel room          -0.152079\n",
              "37  queen bed           -0.206146\n",
              "19  night stay          -0.223538\n",
              "0   front desk          -0.261924\n",
              "10  park lot            -0.293158\n",
              "23  next morn           -0.400540"
            ]
          },
          "metadata": {
            "tags": []
          },
          "execution_count": 41
        }
      ]
    },
    {
      "cell_type": "code",
      "metadata": {
        "id": "5uTIV9raChsM",
        "colab_type": "code",
        "outputId": "e8fa31e5-3469-4545-8b9a-7f2ed1eaccea",
        "colab": {
          "base_uri": "https://localhost:8080/",
          "height": 1000
        }
      },
      "source": [
        "pmineglistPosi.sort_values('pmi',ascending=0).head(50)"
      ],
      "execution_count": 0,
      "outputs": [
        {
          "output_type": "execute_result",
          "data": {
            "text/html": [
              "<div>\n",
              "<style scoped>\n",
              "    .dataframe tbody tr th:only-of-type {\n",
              "        vertical-align: middle;\n",
              "    }\n",
              "\n",
              "    .dataframe tbody tr th {\n",
              "        vertical-align: top;\n",
              "    }\n",
              "\n",
              "    .dataframe thead th {\n",
              "        text-align: right;\n",
              "    }\n",
              "</style>\n",
              "<table border=\"1\" class=\"dataframe\">\n",
              "  <thead>\n",
              "    <tr style=\"text-align: right;\">\n",
              "      <th></th>\n",
              "      <th>word</th>\n",
              "      <th>pmi</th>\n",
              "    </tr>\n",
              "  </thead>\n",
              "  <tbody>\n",
              "    <tr>\n",
              "      <th>23</th>\n",
              "      <td>next morn</td>\n",
              "      <td>0.762891</td>\n",
              "    </tr>\n",
              "    <tr>\n",
              "      <th>10</th>\n",
              "      <td>park lot</td>\n",
              "      <td>0.631863</td>\n",
              "    </tr>\n",
              "    <tr>\n",
              "      <th>0</th>\n",
              "      <td>front desk</td>\n",
              "      <td>0.587259</td>\n",
              "    </tr>\n",
              "    <tr>\n",
              "      <th>19</th>\n",
              "      <td>night stay</td>\n",
              "      <td>0.527460</td>\n",
              "    </tr>\n",
              "    <tr>\n",
              "      <th>37</th>\n",
              "      <td>queen bed</td>\n",
              "      <td>0.498332</td>\n",
              "    </tr>\n",
              "    <tr>\n",
              "      <th>21</th>\n",
              "      <td>crown plaza</td>\n",
              "      <td>0.398248</td>\n",
              "    </tr>\n",
              "    <tr>\n",
              "      <th>49</th>\n",
              "      <td>hotel room</td>\n",
              "      <td>0.398248</td>\n",
              "    </tr>\n",
              "    <tr>\n",
              "      <th>9</th>\n",
              "      <td>pool area</td>\n",
              "      <td>0.318206</td>\n",
              "    </tr>\n",
              "    <tr>\n",
              "      <th>38</th>\n",
              "      <td>next day</td>\n",
              "      <td>0.292888</td>\n",
              "    </tr>\n",
              "    <tr>\n",
              "      <th>31</th>\n",
              "      <td>good locat</td>\n",
              "      <td>0.197578</td>\n",
              "    </tr>\n",
              "    <tr>\n",
              "      <th>3</th>\n",
              "      <td>free breakfast</td>\n",
              "      <td>0.184674</td>\n",
              "    </tr>\n",
              "    <tr>\n",
              "      <th>48</th>\n",
              "      <td>clean staff</td>\n",
              "      <td>0.161859</td>\n",
              "    </tr>\n",
              "    <tr>\n",
              "      <th>1</th>\n",
              "      <td>hot tub</td>\n",
              "      <td>0.127373</td>\n",
              "    </tr>\n",
              "    <tr>\n",
              "      <th>18</th>\n",
              "      <td>breakfast area</td>\n",
              "      <td>0.075475</td>\n",
              "    </tr>\n",
              "    <tr>\n",
              "      <th>6</th>\n",
              "      <td>nthe room</td>\n",
              "      <td>0.061776</td>\n",
              "    </tr>\n",
              "    <tr>\n",
              "      <th>33</th>\n",
              "      <td>chateau moncton</td>\n",
              "      <td>0.061776</td>\n",
              "    </tr>\n",
              "    <tr>\n",
              "      <th>16</th>\n",
              "      <td>hot breakfast</td>\n",
              "      <td>0.041573</td>\n",
              "    </tr>\n",
              "    <tr>\n",
              "      <th>5</th>\n",
              "      <td>main street</td>\n",
              "      <td>0.015256</td>\n",
              "    </tr>\n",
              "    <tr>\n",
              "      <th>44</th>\n",
              "      <td>clean room</td>\n",
              "      <td>-0.061284</td>\n",
              "    </tr>\n",
              "    <tr>\n",
              "      <th>39</th>\n",
              "      <td>hampton inn</td>\n",
              "      <td>-0.061284</td>\n",
              "    </tr>\n",
              "    <tr>\n",
              "      <th>43</th>\n",
              "      <td>nthe hotel</td>\n",
              "      <td>-0.112577</td>\n",
              "    </tr>\n",
              "    <tr>\n",
              "      <th>34</th>\n",
              "      <td>midtown motel</td>\n",
              "      <td>-0.112577</td>\n",
              "    </tr>\n",
              "    <tr>\n",
              "      <th>17</th>\n",
              "      <td>next time</td>\n",
              "      <td>-0.112577</td>\n",
              "    </tr>\n",
              "    <tr>\n",
              "      <th>28</th>\n",
              "      <td>long day</td>\n",
              "      <td>-0.161368</td>\n",
              "    </tr>\n",
              "    <tr>\n",
              "      <th>42</th>\n",
              "      <td>comfort inn</td>\n",
              "      <td>-0.237741</td>\n",
              "    </tr>\n",
              "    <tr>\n",
              "      <th>27</th>\n",
              "      <td>hotel staff</td>\n",
              "      <td>-0.252339</td>\n",
              "    </tr>\n",
              "    <tr>\n",
              "      <th>2</th>\n",
              "      <td>front desk staff</td>\n",
              "      <td>-0.257159</td>\n",
              "    </tr>\n",
              "    <tr>\n",
              "      <th>4</th>\n",
              "      <td>first time</td>\n",
              "      <td>-0.273846</td>\n",
              "    </tr>\n",
              "    <tr>\n",
              "      <th>22</th>\n",
              "      <td>amsterdam inn</td>\n",
              "      <td>-0.294899</td>\n",
              "    </tr>\n",
              "    <tr>\n",
              "      <th>36</th>\n",
              "      <td>new brunswick</td>\n",
              "      <td>-0.348966</td>\n",
              "    </tr>\n",
              "    <tr>\n",
              "      <th>15</th>\n",
              "      <td>comfort bed</td>\n",
              "      <td>-0.390209</td>\n",
              "    </tr>\n",
              "    <tr>\n",
              "      <th>30</th>\n",
              "      <td>clean bed</td>\n",
              "      <td>-0.495570</td>\n",
              "    </tr>\n",
              "    <tr>\n",
              "      <th>26</th>\n",
              "      <td>good valu</td>\n",
              "      <td>-0.540021</td>\n",
              "    </tr>\n",
              "    <tr>\n",
              "      <th>8</th>\n",
              "      <td>continent breakfast</td>\n",
              "      <td>-0.582581</td>\n",
              "    </tr>\n",
              "    <tr>\n",
              "      <th>12</th>\n",
              "      <td>great locat</td>\n",
              "      <td>-0.700364</td>\n",
              "    </tr>\n",
              "    <tr>\n",
              "      <th>45</th>\n",
              "      <td>nthe staff</td>\n",
              "      <td>-0.754431</td>\n",
              "    </tr>\n",
              "    <tr>\n",
              "      <th>40</th>\n",
              "      <td>breakfast buffet</td>\n",
              "      <td>-0.805725</td>\n",
              "    </tr>\n",
              "    <tr>\n",
              "      <th>41</th>\n",
              "      <td>good breakfast</td>\n",
              "      <td>-0.805725</td>\n",
              "    </tr>\n",
              "    <tr>\n",
              "      <th>32</th>\n",
              "      <td>hopewel rock</td>\n",
              "      <td>-0.854515</td>\n",
              "    </tr>\n",
              "    <tr>\n",
              "      <th>13</th>\n",
              "      <td>friendli staff</td>\n",
              "      <td>-0.870263</td>\n",
              "    </tr>\n",
              "    <tr>\n",
              "      <th>25</th>\n",
              "      <td>moncton area</td>\n",
              "      <td>-0.945487</td>\n",
              "    </tr>\n",
              "    <tr>\n",
              "      <th>24</th>\n",
              "      <td>water slide</td>\n",
              "      <td>-0.945487</td>\n",
              "    </tr>\n",
              "    <tr>\n",
              "      <th>11</th>\n",
              "      <td>downtown moncton</td>\n",
              "      <td>-0.959875</td>\n",
              "    </tr>\n",
              "    <tr>\n",
              "      <th>14</th>\n",
              "      <td>great stay</td>\n",
              "      <td>-1.306500</td>\n",
              "    </tr>\n",
              "    <tr>\n",
              "      <th>46</th>\n",
              "      <td>great experi</td>\n",
              "      <td>-1.393511</td>\n",
              "    </tr>\n",
              "    <tr>\n",
              "      <th>29</th>\n",
              "      <td>great hotel</td>\n",
              "      <td>-1.594182</td>\n",
              "    </tr>\n",
              "    <tr>\n",
              "      <th>20</th>\n",
              "      <td>tidal bore</td>\n",
              "      <td>-1.798976</td>\n",
              "    </tr>\n",
              "    <tr>\n",
              "      <th>7</th>\n",
              "      <td>great place</td>\n",
              "      <td>-2.240809</td>\n",
              "    </tr>\n",
              "    <tr>\n",
              "      <th>47</th>\n",
              "      <td>nice place</td>\n",
              "      <td>-2.989358</td>\n",
              "    </tr>\n",
              "    <tr>\n",
              "      <th>35</th>\n",
              "      <td>comfort room</td>\n",
              "      <td>-3.089441</td>\n",
              "    </tr>\n",
              "  </tbody>\n",
              "</table>\n",
              "</div>"
            ],
            "text/plain": [
              "                   word       pmi\n",
              "23  next morn           0.762891 \n",
              "10  park lot            0.631863 \n",
              "0   front desk          0.587259 \n",
              "19  night stay          0.527460 \n",
              "37  queen bed           0.498332 \n",
              "21  crown plaza         0.398248 \n",
              "49  hotel room          0.398248 \n",
              "9   pool area           0.318206 \n",
              "38  next day            0.292888 \n",
              "31  good locat          0.197578 \n",
              "3   free breakfast      0.184674 \n",
              "48  clean staff         0.161859 \n",
              "1   hot tub             0.127373 \n",
              "18  breakfast area      0.075475 \n",
              "6   nthe room           0.061776 \n",
              "33  chateau moncton     0.061776 \n",
              "16  hot breakfast       0.041573 \n",
              "5   main street         0.015256 \n",
              "44  clean room          -0.061284\n",
              "39  hampton inn         -0.061284\n",
              "43  nthe hotel          -0.112577\n",
              "34  midtown motel       -0.112577\n",
              "17  next time           -0.112577\n",
              "28  long day            -0.161368\n",
              "42  comfort inn         -0.237741\n",
              "27  hotel staff         -0.252339\n",
              "2   front desk staff    -0.257159\n",
              "4   first time          -0.273846\n",
              "22  amsterdam inn       -0.294899\n",
              "36  new brunswick       -0.348966\n",
              "15  comfort bed         -0.390209\n",
              "30  clean bed           -0.495570\n",
              "26  good valu           -0.540021\n",
              "8   continent breakfast -0.582581\n",
              "12  great locat         -0.700364\n",
              "45  nthe staff          -0.754431\n",
              "40  breakfast buffet    -0.805725\n",
              "41  good breakfast      -0.805725\n",
              "32  hopewel rock        -0.854515\n",
              "13  friendli staff      -0.870263\n",
              "25  moncton area        -0.945487\n",
              "24  water slide         -0.945487\n",
              "11  downtown moncton    -0.959875\n",
              "14  great stay          -1.306500\n",
              "46  great experi        -1.393511\n",
              "29  great hotel         -1.594182\n",
              "20  tidal bore          -1.798976\n",
              "7   great place         -2.240809\n",
              "47  nice place          -2.989358\n",
              "35  comfort room        -3.089441"
            ]
          },
          "metadata": {
            "tags": []
          },
          "execution_count": 42
        }
      ]
    },
    {
      "cell_type": "markdown",
      "metadata": {
        "id": "mmdgN9vx9xSH",
        "colab_type": "text"
      },
      "source": [
        "* The value of pointwise mutual information for noun phrases is generally smaller than that for words, for example, \"downtown moncton\"'s PMI is 0.163774 while \"downtown\" is 0.114214 and \"moncton\" is 0.062079. This indiates that noun phrases are more representative of the ground truth sentiment than a single word. This is because a single word can be both positive and negative. It tends to be more neutral than a noun phrase.\n",
        "*  Locale-specific phrases with positive connotations are \"downtown moncton\", \"moncton area\", \"hopewell rock\", \"new brunswick\", and \"midtown motel\", etc. \"chateau moncton\", \"crown plaza\" and \"main street\" have negative connotations.\n",
        "*  Phrases with positive connotations are often positive Adj+N, for example, \"nice place\", \"comfort room\", \"great experience\" etc. \"next morning\", \"parking lot\", and \"front desk\" rank top in the negative list."
      ]
    },
    {
      "cell_type": "markdown",
      "metadata": {
        "id": "4inIoPt3CkyH",
        "colab_type": "text"
      },
      "source": [
        "###(c) Repeat this analysis for the single top and single bottom hotel (according to the ground truth rating). Do you gain any useful hotel-speci\fc insights about what is good and bad about these two hotels? If not, explain why not."
      ]
    },
    {
      "cell_type": "code",
      "metadata": {
        "id": "kxjt-ssFCkD_",
        "colab_type": "code",
        "outputId": "cac4797b-21dc-4726-900e-ad370742a528",
        "colab": {
          "base_uri": "https://localhost:8080/",
          "height": 68
        }
      },
      "source": [
        "dfTopHotel = df2[df2['hotelName']== 'Hampton Inn &amp; Suites by Hilton Moncton']\n",
        "reviews = dfTopHotel['hotelReview'].values\n",
        "reviewDF = evalSentences(reviews, to_df=True, columns=['reviewCol','vader'])\n",
        "dfTopHotel.index = [x for x in range(120)]\n",
        "topkTopHotel, dfTopHotel = newDataFrameTransformationNP(dfTopHotel, reviewDF, k=50)\n",
        "pmiposlistPosi, pmineglistPosi, pmidfPosi = pmiForAllCal(dfTopHotel, topk=topkTopHotel)"
      ],
      "execution_count": 0,
      "outputs": [
        {
          "output_type": "stream",
          "text": [
            "100%|██████████| 120/120 [00:00<00:00, 934.08it/s]\n",
            "100%|██████████| 120/120 [00:00<00:00, 200.22it/s]\n",
            "100%|██████████| 50/50 [00:00<00:00, 108.25it/s]\n"
          ],
          "name": "stderr"
        }
      ]
    },
    {
      "cell_type": "code",
      "metadata": {
        "id": "5SSQF29SDHxQ",
        "colab_type": "code",
        "outputId": "055b6c03-83c4-4914-9a86-5e3bff5e354c",
        "colab": {
          "base_uri": "https://localhost:8080/",
          "height": 669
        }
      },
      "source": [
        "pmiposlistPosi.sort_values('pmi',ascending=0).head(20)"
      ],
      "execution_count": 0,
      "outputs": [
        {
          "output_type": "execute_result",
          "data": {
            "text/html": [
              "<div>\n",
              "<style scoped>\n",
              "    .dataframe tbody tr th:only-of-type {\n",
              "        vertical-align: middle;\n",
              "    }\n",
              "\n",
              "    .dataframe tbody tr th {\n",
              "        vertical-align: top;\n",
              "    }\n",
              "\n",
              "    .dataframe thead th {\n",
              "        text-align: right;\n",
              "    }\n",
              "</style>\n",
              "<table border=\"1\" class=\"dataframe\">\n",
              "  <thead>\n",
              "    <tr style=\"text-align: right;\">\n",
              "      <th></th>\n",
              "      <th>word</th>\n",
              "      <th>pmi</th>\n",
              "    </tr>\n",
              "  </thead>\n",
              "  <tbody>\n",
              "    <tr>\n",
              "      <th>0</th>\n",
              "      <td>hampton inn</td>\n",
              "      <td>0.051293</td>\n",
              "    </tr>\n",
              "    <tr>\n",
              "      <th>26</th>\n",
              "      <td>great select</td>\n",
              "      <td>0.051293</td>\n",
              "    </tr>\n",
              "    <tr>\n",
              "      <th>28</th>\n",
              "      <td>includ hot breakfast</td>\n",
              "      <td>0.051293</td>\n",
              "    </tr>\n",
              "    <tr>\n",
              "      <th>29</th>\n",
              "      <td>continent breakfast</td>\n",
              "      <td>0.051293</td>\n",
              "    </tr>\n",
              "    <tr>\n",
              "      <th>30</th>\n",
              "      <td>mani restaur</td>\n",
              "      <td>0.051293</td>\n",
              "    </tr>\n",
              "    <tr>\n",
              "      <th>31</th>\n",
              "      <td>excel hotel</td>\n",
              "      <td>0.051293</td>\n",
              "    </tr>\n",
              "    <tr>\n",
              "      <th>32</th>\n",
              "      <td>free water</td>\n",
              "      <td>0.051293</td>\n",
              "    </tr>\n",
              "    <tr>\n",
              "      <th>33</th>\n",
              "      <td>free beer</td>\n",
              "      <td>0.051293</td>\n",
              "    </tr>\n",
              "    <tr>\n",
              "      <th>34</th>\n",
              "      <td>awesom staff</td>\n",
              "      <td>0.051293</td>\n",
              "    </tr>\n",
              "    <tr>\n",
              "      <th>35</th>\n",
              "      <td>back side</td>\n",
              "      <td>0.051293</td>\n",
              "    </tr>\n",
              "    <tr>\n",
              "      <th>36</th>\n",
              "      <td>hotel staff</td>\n",
              "      <td>0.051293</td>\n",
              "    </tr>\n",
              "    <tr>\n",
              "      <th>37</th>\n",
              "      <td>comfort room</td>\n",
              "      <td>0.051293</td>\n",
              "    </tr>\n",
              "    <tr>\n",
              "      <th>38</th>\n",
              "      <td>nice size</td>\n",
              "      <td>0.051293</td>\n",
              "    </tr>\n",
              "    <tr>\n",
              "      <th>39</th>\n",
              "      <td>friendli servic</td>\n",
              "      <td>0.051293</td>\n",
              "    </tr>\n",
              "    <tr>\n",
              "      <th>40</th>\n",
              "      <td>nice touch</td>\n",
              "      <td>0.051293</td>\n",
              "    </tr>\n",
              "    <tr>\n",
              "      <th>41</th>\n",
              "      <td>clean room</td>\n",
              "      <td>0.051293</td>\n",
              "    </tr>\n",
              "    <tr>\n",
              "      <th>42</th>\n",
              "      <td>good area</td>\n",
              "      <td>0.051293</td>\n",
              "    </tr>\n",
              "    <tr>\n",
              "      <th>43</th>\n",
              "      <td>nthe room</td>\n",
              "      <td>0.051293</td>\n",
              "    </tr>\n",
              "    <tr>\n",
              "      <th>44</th>\n",
              "      <td>hotel room</td>\n",
              "      <td>0.051293</td>\n",
              "    </tr>\n",
              "    <tr>\n",
              "      <th>45</th>\n",
              "      <td>mani hotel</td>\n",
              "      <td>0.051293</td>\n",
              "    </tr>\n",
              "  </tbody>\n",
              "</table>\n",
              "</div>"
            ],
            "text/plain": [
              "                    word      pmi\n",
              "0   hampton inn          0.051293\n",
              "26  great select         0.051293\n",
              "28  includ hot breakfast 0.051293\n",
              "29  continent breakfast  0.051293\n",
              "30  mani restaur         0.051293\n",
              "31  excel hotel          0.051293\n",
              "32  free water           0.051293\n",
              "33  free beer            0.051293\n",
              "34  awesom staff         0.051293\n",
              "35  back side            0.051293\n",
              "36  hotel staff          0.051293\n",
              "37  comfort room         0.051293\n",
              "38  nice size            0.051293\n",
              "39  friendli servic      0.051293\n",
              "40  nice touch           0.051293\n",
              "41  clean room           0.051293\n",
              "42  good area            0.051293\n",
              "43  nthe room            0.051293\n",
              "44  hotel room           0.051293\n",
              "45  mani hotel           0.051293"
            ]
          },
          "metadata": {
            "tags": []
          },
          "execution_count": 44
        }
      ]
    },
    {
      "cell_type": "code",
      "metadata": {
        "id": "kFd_OJCiDJXs",
        "colab_type": "code",
        "outputId": "afc0ef8f-823a-41d6-b5f6-a3ce2a019f3e",
        "colab": {
          "base_uri": "https://localhost:8080/",
          "height": 669
        }
      },
      "source": [
        "pmineglistPosi.sort_values('pmi',ascending=0).head(20)"
      ],
      "execution_count": 0,
      "outputs": [
        {
          "output_type": "execute_result",
          "data": {
            "text/html": [
              "<div>\n",
              "<style scoped>\n",
              "    .dataframe tbody tr th:only-of-type {\n",
              "        vertical-align: middle;\n",
              "    }\n",
              "\n",
              "    .dataframe tbody tr th {\n",
              "        vertical-align: top;\n",
              "    }\n",
              "\n",
              "    .dataframe thead th {\n",
              "        text-align: right;\n",
              "    }\n",
              "</style>\n",
              "<table border=\"1\" class=\"dataframe\">\n",
              "  <thead>\n",
              "    <tr style=\"text-align: right;\">\n",
              "      <th></th>\n",
              "      <th>word</th>\n",
              "      <th>pmi</th>\n",
              "    </tr>\n",
              "  </thead>\n",
              "  <tbody>\n",
              "    <tr>\n",
              "      <th>23</th>\n",
              "      <td>new brunswick</td>\n",
              "      <td>2.302585</td>\n",
              "    </tr>\n",
              "    <tr>\n",
              "      <th>6</th>\n",
              "      <td>pool area</td>\n",
              "      <td>1.897120</td>\n",
              "    </tr>\n",
              "    <tr>\n",
              "      <th>1</th>\n",
              "      <td>front desk</td>\n",
              "      <td>1.609438</td>\n",
              "    </tr>\n",
              "    <tr>\n",
              "      <th>4</th>\n",
              "      <td>complimentari breakfast</td>\n",
              "      <td>1.609438</td>\n",
              "    </tr>\n",
              "    <tr>\n",
              "      <th>2</th>\n",
              "      <td>water slide</td>\n",
              "      <td>0.916291</td>\n",
              "    </tr>\n",
              "    <tr>\n",
              "      <th>25</th>\n",
              "      <td>hot tub</td>\n",
              "      <td>-2.120264</td>\n",
              "    </tr>\n",
              "    <tr>\n",
              "      <th>38</th>\n",
              "      <td>nice size</td>\n",
              "      <td>-2.120264</td>\n",
              "    </tr>\n",
              "    <tr>\n",
              "      <th>30</th>\n",
              "      <td>mani restaur</td>\n",
              "      <td>-2.120264</td>\n",
              "    </tr>\n",
              "    <tr>\n",
              "      <th>31</th>\n",
              "      <td>excel hotel</td>\n",
              "      <td>-2.120264</td>\n",
              "    </tr>\n",
              "    <tr>\n",
              "      <th>32</th>\n",
              "      <td>free water</td>\n",
              "      <td>-2.120264</td>\n",
              "    </tr>\n",
              "    <tr>\n",
              "      <th>33</th>\n",
              "      <td>free beer</td>\n",
              "      <td>-2.120264</td>\n",
              "    </tr>\n",
              "    <tr>\n",
              "      <th>34</th>\n",
              "      <td>awesom staff</td>\n",
              "      <td>-2.120264</td>\n",
              "    </tr>\n",
              "    <tr>\n",
              "      <th>35</th>\n",
              "      <td>back side</td>\n",
              "      <td>-2.120264</td>\n",
              "    </tr>\n",
              "    <tr>\n",
              "      <th>36</th>\n",
              "      <td>hotel staff</td>\n",
              "      <td>-2.120264</td>\n",
              "    </tr>\n",
              "    <tr>\n",
              "      <th>37</th>\n",
              "      <td>comfort room</td>\n",
              "      <td>-2.120264</td>\n",
              "    </tr>\n",
              "    <tr>\n",
              "      <th>40</th>\n",
              "      <td>nice touch</td>\n",
              "      <td>-2.120264</td>\n",
              "    </tr>\n",
              "    <tr>\n",
              "      <th>39</th>\n",
              "      <td>friendli servic</td>\n",
              "      <td>-2.120264</td>\n",
              "    </tr>\n",
              "    <tr>\n",
              "      <th>28</th>\n",
              "      <td>includ hot breakfast</td>\n",
              "      <td>-2.120264</td>\n",
              "    </tr>\n",
              "    <tr>\n",
              "      <th>41</th>\n",
              "      <td>clean room</td>\n",
              "      <td>-2.120264</td>\n",
              "    </tr>\n",
              "    <tr>\n",
              "      <th>42</th>\n",
              "      <td>good area</td>\n",
              "      <td>-2.120264</td>\n",
              "    </tr>\n",
              "  </tbody>\n",
              "</table>\n",
              "</div>"
            ],
            "text/plain": [
              "                       word       pmi\n",
              "23  new brunswick           2.302585 \n",
              "6   pool area               1.897120 \n",
              "1   front desk              1.609438 \n",
              "4   complimentari breakfast 1.609438 \n",
              "2   water slide             0.916291 \n",
              "25  hot tub                 -2.120264\n",
              "38  nice size               -2.120264\n",
              "30  mani restaur            -2.120264\n",
              "31  excel hotel             -2.120264\n",
              "32  free water              -2.120264\n",
              "33  free beer               -2.120264\n",
              "34  awesom staff            -2.120264\n",
              "35  back side               -2.120264\n",
              "36  hotel staff             -2.120264\n",
              "37  comfort room            -2.120264\n",
              "40  nice touch              -2.120264\n",
              "39  friendli servic         -2.120264\n",
              "28  includ hot breakfast    -2.120264\n",
              "41  clean room              -2.120264\n",
              "42  good area               -2.120264"
            ]
          },
          "metadata": {
            "tags": []
          },
          "execution_count": 45
        }
      ]
    },
    {
      "cell_type": "code",
      "metadata": {
        "id": "agmeTJBTFH9F",
        "colab_type": "code",
        "outputId": "31b38c9c-fc8d-40ff-f826-883fb755b21d",
        "colab": {
          "base_uri": "https://localhost:8080/",
          "height": 68
        }
      },
      "source": [
        "dfBottomHotel = df2[df2['hotelName']== 'Howard Johnson by Wyndham Moncton']\n",
        "reviews = dfBottomHotel['hotelReview'].values\n",
        "reviewDF = evalSentences(reviews, to_df=True, columns=['reviewCol','vader'])\n",
        "dfBottomHotel.index = [x for x in range(120)]\n",
        "topkBottomHotel, dfBottomHotel= newDataFrameTransformationNP(dfBottomHotel, reviewDF, k=50)\n",
        "pmiposlistPosi, pmineglistPosi, pmidfPosi = pmiForAllCal(dfBottomHotel, topk=topkBottomHotel)"
      ],
      "execution_count": 0,
      "outputs": [
        {
          "output_type": "stream",
          "text": [
            "100%|██████████| 120/120 [00:00<00:00, 898.76it/s]\n",
            "100%|██████████| 120/120 [00:00<00:00, 167.82it/s]\n",
            "100%|██████████| 50/50 [00:00<00:00, 113.84it/s]\n"
          ],
          "name": "stderr"
        }
      ]
    },
    {
      "cell_type": "code",
      "metadata": {
        "id": "rDY6mkykFnLl",
        "colab_type": "code",
        "outputId": "56ebd8a9-22f9-4541-fa1e-c354b85f2853",
        "colab": {
          "base_uri": "https://localhost:8080/",
          "height": 669
        }
      },
      "source": [
        "pmiposlistPosi.sort_values('pmi',ascending=0).head(20)"
      ],
      "execution_count": 0,
      "outputs": [
        {
          "output_type": "execute_result",
          "data": {
            "text/html": [
              "<div>\n",
              "<style scoped>\n",
              "    .dataframe tbody tr th:only-of-type {\n",
              "        vertical-align: middle;\n",
              "    }\n",
              "\n",
              "    .dataframe tbody tr th {\n",
              "        vertical-align: top;\n",
              "    }\n",
              "\n",
              "    .dataframe thead th {\n",
              "        text-align: right;\n",
              "    }\n",
              "</style>\n",
              "<table border=\"1\" class=\"dataframe\">\n",
              "  <thead>\n",
              "    <tr style=\"text-align: right;\">\n",
              "      <th></th>\n",
              "      <th>word</th>\n",
              "      <th>pmi</th>\n",
              "    </tr>\n",
              "  </thead>\n",
              "  <tbody>\n",
              "    <tr>\n",
              "      <th>25</th>\n",
              "      <td>clean room</td>\n",
              "      <td>1.003302</td>\n",
              "    </tr>\n",
              "    <tr>\n",
              "      <th>29</th>\n",
              "      <td>wonder experi</td>\n",
              "      <td>1.003302</td>\n",
              "    </tr>\n",
              "    <tr>\n",
              "      <th>22</th>\n",
              "      <td>extra bed</td>\n",
              "      <td>1.003302</td>\n",
              "    </tr>\n",
              "    <tr>\n",
              "      <th>23</th>\n",
              "      <td>main road</td>\n",
              "      <td>1.003302</td>\n",
              "    </tr>\n",
              "    <tr>\n",
              "      <th>16</th>\n",
              "      <td>great locat</td>\n",
              "      <td>1.003302</td>\n",
              "    </tr>\n",
              "    <tr>\n",
              "      <th>24</th>\n",
              "      <td>local attract</td>\n",
              "      <td>1.003302</td>\n",
              "    </tr>\n",
              "    <tr>\n",
              "      <th>26</th>\n",
              "      <td>friendli staff</td>\n",
              "      <td>1.003302</td>\n",
              "    </tr>\n",
              "    <tr>\n",
              "      <th>21</th>\n",
              "      <td>hotel room</td>\n",
              "      <td>1.003302</td>\n",
              "    </tr>\n",
              "    <tr>\n",
              "      <th>32</th>\n",
              "      <td>breakfast room</td>\n",
              "      <td>1.003302</td>\n",
              "    </tr>\n",
              "    <tr>\n",
              "      <th>35</th>\n",
              "      <td>disabl park</td>\n",
              "      <td>1.003302</td>\n",
              "    </tr>\n",
              "    <tr>\n",
              "      <th>11</th>\n",
              "      <td>credit card</td>\n",
              "      <td>0.597837</td>\n",
              "    </tr>\n",
              "    <tr>\n",
              "      <th>13</th>\n",
              "      <td>clean bed</td>\n",
              "      <td>0.597837</td>\n",
              "    </tr>\n",
              "    <tr>\n",
              "      <th>10</th>\n",
              "      <td>help staff</td>\n",
              "      <td>0.597837</td>\n",
              "    </tr>\n",
              "    <tr>\n",
              "      <th>2</th>\n",
              "      <td>continent breakfast</td>\n",
              "      <td>0.443686</td>\n",
              "    </tr>\n",
              "    <tr>\n",
              "      <th>42</th>\n",
              "      <td>howard johnson hotel</td>\n",
              "      <td>0.310155</td>\n",
              "    </tr>\n",
              "    <tr>\n",
              "      <th>31</th>\n",
              "      <td>desk clerk</td>\n",
              "      <td>0.310155</td>\n",
              "    </tr>\n",
              "    <tr>\n",
              "      <th>20</th>\n",
              "      <td>first day</td>\n",
              "      <td>0.310155</td>\n",
              "    </tr>\n",
              "    <tr>\n",
              "      <th>44</th>\n",
              "      <td>famili vacat</td>\n",
              "      <td>0.310155</td>\n",
              "    </tr>\n",
              "    <tr>\n",
              "      <th>33</th>\n",
              "      <td>differ room</td>\n",
              "      <td>0.310155</td>\n",
              "    </tr>\n",
              "    <tr>\n",
              "      <th>40</th>\n",
              "      <td>howard johnson inn moncton</td>\n",
              "      <td>0.310155</td>\n",
              "    </tr>\n",
              "  </tbody>\n",
              "</table>\n",
              "</div>"
            ],
            "text/plain": [
              "                          word      pmi\n",
              "25  clean room                 1.003302\n",
              "29  wonder experi              1.003302\n",
              "22  extra bed                  1.003302\n",
              "23  main road                  1.003302\n",
              "16  great locat                1.003302\n",
              "24  local attract              1.003302\n",
              "26  friendli staff             1.003302\n",
              "21  hotel room                 1.003302\n",
              "32  breakfast room             1.003302\n",
              "35  disabl park                1.003302\n",
              "11  credit card                0.597837\n",
              "13  clean bed                  0.597837\n",
              "10  help staff                 0.597837\n",
              "2   continent breakfast        0.443686\n",
              "42  howard johnson hotel       0.310155\n",
              "31  desk clerk                 0.310155\n",
              "20  first day                  0.310155\n",
              "44  famili vacat               0.310155\n",
              "33  differ room                0.310155\n",
              "40  howard johnson inn moncton 0.310155"
            ]
          },
          "metadata": {
            "tags": []
          },
          "execution_count": 47
        }
      ]
    },
    {
      "cell_type": "code",
      "metadata": {
        "id": "EZwZztY0Fqdi",
        "colab_type": "code",
        "outputId": "a494c05a-5e3a-461f-c3e5-e3bb7787f14e",
        "colab": {
          "base_uri": "https://localhost:8080/",
          "height": 669
        }
      },
      "source": [
        "pmineglistPosi.sort_values('pmi',ascending=0).head(20)"
      ],
      "execution_count": 0,
      "outputs": [
        {
          "output_type": "execute_result",
          "data": {
            "text/html": [
              "<div>\n",
              "<style scoped>\n",
              "    .dataframe tbody tr th:only-of-type {\n",
              "        vertical-align: middle;\n",
              "    }\n",
              "\n",
              "    .dataframe tbody tr th {\n",
              "        vertical-align: top;\n",
              "    }\n",
              "\n",
              "    .dataframe thead th {\n",
              "        text-align: right;\n",
              "    }\n",
              "</style>\n",
              "<table border=\"1\" class=\"dataframe\">\n",
              "  <thead>\n",
              "    <tr style=\"text-align: right;\">\n",
              "      <th></th>\n",
              "      <th>word</th>\n",
              "      <th>pmi</th>\n",
              "    </tr>\n",
              "  </thead>\n",
              "  <tbody>\n",
              "    <tr>\n",
              "      <th>0</th>\n",
              "      <td>front desk</td>\n",
              "      <td>0.456758</td>\n",
              "    </tr>\n",
              "    <tr>\n",
              "      <th>27</th>\n",
              "      <td>busi street</td>\n",
              "      <td>0.456758</td>\n",
              "    </tr>\n",
              "    <tr>\n",
              "      <th>48</th>\n",
              "      <td>avail room</td>\n",
              "      <td>0.456758</td>\n",
              "    </tr>\n",
              "    <tr>\n",
              "      <th>47</th>\n",
              "      <td>budget hotel</td>\n",
              "      <td>0.456758</td>\n",
              "    </tr>\n",
              "    <tr>\n",
              "      <th>45</th>\n",
              "      <td>first night</td>\n",
              "      <td>0.456758</td>\n",
              "    </tr>\n",
              "    <tr>\n",
              "      <th>43</th>\n",
              "      <td>hot breakfast</td>\n",
              "      <td>0.456758</td>\n",
              "    </tr>\n",
              "    <tr>\n",
              "      <th>41</th>\n",
              "      <td>hotel clean</td>\n",
              "      <td>0.456758</td>\n",
              "    </tr>\n",
              "    <tr>\n",
              "      <th>39</th>\n",
              "      <td>good idea</td>\n",
              "      <td>0.456758</td>\n",
              "    </tr>\n",
              "    <tr>\n",
              "      <th>37</th>\n",
              "      <td>shower curtain</td>\n",
              "      <td>0.456758</td>\n",
              "    </tr>\n",
              "    <tr>\n",
              "      <th>36</th>\n",
              "      <td>long time</td>\n",
              "      <td>0.456758</td>\n",
              "    </tr>\n",
              "    <tr>\n",
              "      <th>34</th>\n",
              "      <td>dine room</td>\n",
              "      <td>0.456758</td>\n",
              "    </tr>\n",
              "    <tr>\n",
              "      <th>30</th>\n",
              "      <td>bathroom floor</td>\n",
              "      <td>0.456758</td>\n",
              "    </tr>\n",
              "    <tr>\n",
              "      <th>28</th>\n",
              "      <td>name tag</td>\n",
              "      <td>0.456758</td>\n",
              "    </tr>\n",
              "    <tr>\n",
              "      <th>49</th>\n",
              "      <td>moncton hotel</td>\n",
              "      <td>0.456758</td>\n",
              "    </tr>\n",
              "    <tr>\n",
              "      <th>3</th>\n",
              "      <td>hot water</td>\n",
              "      <td>0.456758</td>\n",
              "    </tr>\n",
              "    <tr>\n",
              "      <th>14</th>\n",
              "      <td>cigarett smoke</td>\n",
              "      <td>0.456758</td>\n",
              "    </tr>\n",
              "    <tr>\n",
              "      <th>17</th>\n",
              "      <td>air condition</td>\n",
              "      <td>0.456758</td>\n",
              "    </tr>\n",
              "    <tr>\n",
              "      <th>15</th>\n",
              "      <td>pillow case</td>\n",
              "      <td>0.456758</td>\n",
              "    </tr>\n",
              "    <tr>\n",
              "      <th>7</th>\n",
              "      <td>next morn</td>\n",
              "      <td>0.169076</td>\n",
              "    </tr>\n",
              "    <tr>\n",
              "      <th>8</th>\n",
              "      <td>next day</td>\n",
              "      <td>0.169076</td>\n",
              "    </tr>\n",
              "  </tbody>\n",
              "</table>\n",
              "</div>"
            ],
            "text/plain": [
              "              word      pmi\n",
              "0   front desk     0.456758\n",
              "27  busi street    0.456758\n",
              "48  avail room     0.456758\n",
              "47  budget hotel   0.456758\n",
              "45  first night    0.456758\n",
              "43  hot breakfast  0.456758\n",
              "41  hotel clean    0.456758\n",
              "39  good idea      0.456758\n",
              "37  shower curtain 0.456758\n",
              "36  long time      0.456758\n",
              "34  dine room      0.456758\n",
              "30  bathroom floor 0.456758\n",
              "28  name tag       0.456758\n",
              "49  moncton hotel  0.456758\n",
              "3   hot water      0.456758\n",
              "14  cigarett smoke 0.456758\n",
              "17  air condition  0.456758\n",
              "15  pillow case    0.456758\n",
              "7   next morn      0.169076\n",
              "8   next day       0.169076"
            ]
          },
          "metadata": {
            "tags": []
          },
          "execution_count": 48
        }
      ]
    },
    {
      "cell_type": "markdown",
      "metadata": {
        "id": "m5YgRwbqOu8C",
        "colab_type": "text"
      },
      "source": [
        "* **Top Hotel**: people have varied opionions about the breakfast offered by the hotel. Phrases with positive connotations are continent breakfast, hot breakfast. Phrases with negative connotations are complimentray breakfast. \"pool area\", \" front desk\", and \"water slide\" are some of the things that people are most unsatisfied with. Generally, custumers are satisfied with the hotel and services like free water, free beer, awesome staff, friendly serice, and the size of the room. \n",
        "* **Bottom Hotel**: People are most unsatisfied with the hotel's front desk, busy room, the quality of the hotel, shower curtain, waiting time, dine room, and bathroom floor, etc. Some people like its location and breakfast.\n",
        "\n"
      ]
    },
    {
      "cell_type": "markdown",
      "metadata": {
        "id": "yTPTXDQnV3p7",
        "colab_type": "text"
      },
      "source": [
        "##Q5. General Plots\n",
        "###(a) Histogram\n",
        "####(a) Show separate histograms of ground truth and Vader sentiment scores (ignore hotel ID). Do you notice any interesting di\u000berences?"
      ]
    },
    {
      "cell_type": "code",
      "metadata": {
        "id": "wQasLFVEFx4e",
        "colab_type": "code",
        "colab": {}
      },
      "source": [
        "def getHistogram(measure, title):\n",
        "    if measure=='both':\n",
        "        x = [finaldf['ratingScore'].values/5]\n",
        "        y = [finaldf['vader'].values]\n",
        "        bins = np.linspace(-1, 1, 100)\n",
        "        plt.title(title)\n",
        "        plt.hist(x, bins, label='x')\n",
        "        plt.hist(y, bins, label='y')\n",
        "        plt.legend(loc='upper right')\n",
        "        # plt.show()\n",
        "    \n",
        "    else:\n",
        "        plt.title(title)\n",
        "        plt.xlabel(\"Value\")\n",
        "        plt.ylabel(\"Frequency\")\n",
        "        # plt.hist(finaldf[measure].values)\n",
        "        # fig = plt.gcf()"
      ],
      "execution_count": 0,
      "outputs": []
    },
    {
      "cell_type": "code",
      "metadata": {
        "id": "zxSHhIPYWMIe",
        "colab_type": "code",
        "outputId": "a73d21fa-aa59-4146-aa5e-f9481ef6607d",
        "colab": {
          "base_uri": "https://localhost:8080/",
          "height": 346
        }
      },
      "source": [
        "bins_list=[0,0.5,1.5,2.5,3.5,4.5,5.5]\n",
        "getHistogram('ratingScore', \"Ground Truth\")\n",
        "plt.hist(finaldf['ratingScore'].values, bins=bins_list)"
      ],
      "execution_count": 0,
      "outputs": [
        {
          "output_type": "execute_result",
          "data": {
            "text/plain": [
              "(array([   0.,   82.,  100.,  297.,  628., 1033.]),\n",
              " array([0. , 0.5, 1.5, 2.5, 3.5, 4.5, 5.5]),\n",
              " <a list of 6 Patch objects>)"
            ]
          },
          "metadata": {
            "tags": []
          },
          "execution_count": 50
        },
        {
          "output_type": "display_data",
          "data": {
            "image/png": "[encoded data removed]",
            "text/plain": [
              "<Figure size 432x288 with 1 Axes>"
            ]
          },
          "metadata": {
            "tags": []
          }
        }
      ]
    },
    {
      "cell_type": "code",
      "metadata": {
        "id": "b81zgi5wWwH3",
        "colab_type": "code",
        "outputId": "a2ff02a2-3bbb-4e61-9f2b-0edf9858552a",
        "colab": {
          "base_uri": "https://localhost:8080/",
          "height": 380
        }
      },
      "source": [
        "getHistogram('vader', \"Vader Sentiment\")\n",
        "plt.hist(finaldf['vader'].values)"
      ],
      "execution_count": 0,
      "outputs": [
        {
          "output_type": "execute_result",
          "data": {
            "text/plain": [
              "(array([  48.,   36.,   37.,   32.,   33.,   32.,   56.,   71.,  171.,\n",
              "        1624.]),\n",
              " array([-0.9827 , -0.78449, -0.58628, -0.38807, -0.18986,  0.00835,\n",
              "         0.20656,  0.40477,  0.60298,  0.80119,  0.9994 ]),\n",
              " <a list of 10 Patch objects>)"
            ]
          },
          "metadata": {
            "tags": []
          },
          "execution_count": 51
        },
        {
          "output_type": "display_data",
          "data": {
            "image/png": "[encoded data removed]",
            "text/plain": [
              "<Figure size 432x288 with 1 Axes>"
            ]
          },
          "metadata": {
            "tags": []
          }
        }
      ]
    },
    {
      "cell_type": "markdown",
      "metadata": {
        "id": "1C6P-zAcYJ3P",
        "colab_type": "text"
      },
      "source": [
        "About 1650 people rated hotels as 4 and 5 and 1624 have a vedar value greater than 0.994. This distribution generally agree with each other.\n",
        "####(b) Show a histogram of the number of reviews per hotel. Do you notice any interesting trends? Are these expected?"
      ]
    },
    {
      "cell_type": "code",
      "metadata": {
        "id": "q0J-DIa6Ymxz",
        "colab_type": "code",
        "outputId": "d4fea329-fcbd-414c-f823-b65224811a34",
        "colab": {
          "base_uri": "https://localhost:8080/",
          "height": 569
        }
      },
      "source": [
        "plt.figure(figsize=(15,6))\n",
        "df2.groupby('hotelName').count().hotelReview.plot(kind='bar')\n",
        "plt.title(\"Number of Reviews Per Hotel\")\n",
        "plt.xlabel(\"Hotel Name\")\n",
        "plt.ylabel(\"Number of Reviews\")\n",
        "plt.xticks(rotation=30)"
      ],
      "execution_count": 0,
      "outputs": [
        {
          "output_type": "execute_result",
          "data": {
            "text/plain": [
              "(array([ 0,  1,  2,  3,  4,  5,  6,  7,  8,  9, 10, 11, 12, 13, 14, 15, 16,\n",
              "        17]), <a list of 18 Text major ticklabel objects>)"
            ]
          },
          "metadata": {
            "tags": []
          },
          "execution_count": 52
        },
        {
          "output_type": "display_data",
          "data": {
            "image/png": "[encoded data removed]",
            "text/plain": [
              "<Figure size 1080x432 with 1 Axes>"
            ]
          },
          "metadata": {
            "tags": []
          }
        }
      ]
    },
    {
      "cell_type": "markdown",
      "metadata": {
        "id": "nebWt5STdznt",
        "colab_type": "text"
      },
      "source": [
        "I intentionally cut down the size of reviews to 120 for those hotels who have more than 120 reviews and deleted those hotels with few reviews.\n",
        "###(b) Boxplots\n",
        "####(a) In two plots, one for ground truth star rating and one for Vader sentiment, show a plot of 5 side-by-side boxplots of these scores."
      ]
    },
    {
      "cell_type": "code",
      "metadata": {
        "id": "yeQ8xufHgdcb",
        "colab_type": "code",
        "colab": {}
      },
      "source": [
        "#Extract a list of hotels\n",
        "hotelNames = finaldf['hotelName'].unique()\n",
        "hotelNames\n",
        "def getHotelRank(df, measure='ratingScore'):\n",
        "    #Rank the hotel by ground truth rating score\n",
        "    hotelRating = []\n",
        "    for hotel in hotelNames:\n",
        "        itemDf = df.loc[df['hotelName']==hotel]\n",
        "        hotelRating.append([hotel,itemDf[measure].mean()])\n",
        "    hotelRatingDfGt = pandas.DataFrame(hotelRating)\n",
        "    hotelRatingDfGt.columns=['hotelName','avgRatingScore']\n",
        "    hotelRatingDfGt = hotelRatingDfGt.sort_values('avgRatingScore',ascending=0)\n",
        "    return hotelRatingDfGt"
      ],
      "execution_count": 0,
      "outputs": []
    },
    {
      "cell_type": "code",
      "metadata": {
        "id": "vZPizmOxjx3i",
        "colab_type": "code",
        "colab": {}
      },
      "source": [
        "hotelRatingDfGt = getHotelRank(finaldf)"
      ],
      "execution_count": 0,
      "outputs": []
    },
    {
      "cell_type": "code",
      "metadata": {
        "id": "8Fu71AsyaRIi",
        "colab_type": "code",
        "outputId": "25cfdfd3-05ce-4aac-aab5-3e5b659d820b",
        "colab": {
          "base_uri": "https://localhost:8080/",
          "height": 265
        }
      },
      "source": [
        "#Plot top 5 side-by-side boxplot for top 5 ground truth rated hotel\n",
        "tp5gthotel = hotelRatingDfGt.sort_values('avgRatingScore',ascending=0).head(5)\n",
        "tp5gthotel['hotelName'].values\n",
        "\n",
        "hampton = finaldf.loc[finaldf['hotelName'] == tp5gthotel['hotelName'].values[0]]['ratingScore']\n",
        "residenceInn = finaldf.loc[finaldf['hotelName'] == tp5gthotel['hotelName'].values[1]]['ratingScore']\n",
        "wildRose = finaldf.loc[finaldf['hotelName'] == tp5gthotel['hotelName'].values[2]]['ratingScore']\n",
        "fairfield = finaldf.loc[finaldf['hotelName'] == tp5gthotel['hotelName'].values[3]]['ratingScore']\n",
        "fourPoints = finaldf.loc[finaldf['hotelName'] == tp5gthotel['hotelName'].values[4]]['ratingScore']\n",
        "\n",
        "data = [hampton, residenceInn,wildRose, fairfield,fourPoints]\n",
        "# multiple box plots on one figure\n",
        "plt.figure()\n",
        "plt.boxplot(data)\n",
        "plt.show()"
      ],
      "execution_count": 0,
      "outputs": [
        {
          "output_type": "display_data",
          "data": {
            "image/png": "[encoded data removed]",
            "text/plain": [
              "<Figure size 432x288 with 1 Axes>"
            ]
          },
          "metadata": {
            "tags": []
          }
        }
      ]
    },
    {
      "cell_type": "code",
      "metadata": {
        "id": "MuZj_pWzrNAW",
        "colab_type": "code",
        "outputId": "46d7f150-64c7-400e-fe3b-fb6a57ac937d",
        "colab": {
          "base_uri": "https://localhost:8080/",
          "height": 204
        }
      },
      "source": [
        "tp5gthotel"
      ],
      "execution_count": 0,
      "outputs": [
        {
          "output_type": "execute_result",
          "data": {
            "text/html": [
              "<div>\n",
              "<style scoped>\n",
              "    .dataframe tbody tr th:only-of-type {\n",
              "        vertical-align: middle;\n",
              "    }\n",
              "\n",
              "    .dataframe tbody tr th {\n",
              "        vertical-align: top;\n",
              "    }\n",
              "\n",
              "    .dataframe thead th {\n",
              "        text-align: right;\n",
              "    }\n",
              "</style>\n",
              "<table border=\"1\" class=\"dataframe\">\n",
              "  <thead>\n",
              "    <tr style=\"text-align: right;\">\n",
              "      <th></th>\n",
              "      <th>hotelName</th>\n",
              "      <th>avgRatingScore</th>\n",
              "    </tr>\n",
              "  </thead>\n",
              "  <tbody>\n",
              "    <tr>\n",
              "      <th>9</th>\n",
              "      <td>Hampton Inn &amp;amp; Suites by Hilton Moncton</td>\n",
              "      <td>4.725000</td>\n",
              "    </tr>\n",
              "    <tr>\n",
              "      <th>13</th>\n",
              "      <td>Residence Inn by Marriott Moncton</td>\n",
              "      <td>4.558333</td>\n",
              "    </tr>\n",
              "    <tr>\n",
              "      <th>17</th>\n",
              "      <td>Wild Rose Inn</td>\n",
              "      <td>4.558333</td>\n",
              "    </tr>\n",
              "    <tr>\n",
              "      <th>7</th>\n",
              "      <td>Fairfield Inn &amp;amp; Suites by Marriott Moncton</td>\n",
              "      <td>4.533333</td>\n",
              "    </tr>\n",
              "    <tr>\n",
              "      <th>8</th>\n",
              "      <td>Four Points by Sheraton Moncton</td>\n",
              "      <td>4.483333</td>\n",
              "    </tr>\n",
              "  </tbody>\n",
              "</table>\n",
              "</div>"
            ],
            "text/plain": [
              "                                         hotelName  avgRatingScore\n",
              "9   Hampton Inn &amp; Suites by Hilton Moncton     4.725000       \n",
              "13  Residence Inn by Marriott Moncton              4.558333       \n",
              "17  Wild Rose Inn                                  4.558333       \n",
              "7   Fairfield Inn &amp; Suites by Marriott Moncton 4.533333       \n",
              "8   Four Points by Sheraton Moncton                4.483333       "
            ]
          },
          "metadata": {
            "tags": []
          },
          "execution_count": 90
        }
      ]
    },
    {
      "cell_type": "code",
      "metadata": {
        "id": "65wXXd7fgrwK",
        "colab_type": "code",
        "colab": {}
      },
      "source": [
        "hotelRatingDfGt = getHotelRank(finaldf,measure='vader')"
      ],
      "execution_count": 0,
      "outputs": []
    },
    {
      "cell_type": "code",
      "metadata": {
        "id": "MGMmvMBRmHyJ",
        "colab_type": "code",
        "outputId": "d19f82ac-b96b-4964-a1b7-69c0a0c55db6",
        "colab": {
          "base_uri": "https://localhost:8080/",
          "height": 265
        }
      },
      "source": [
        "#Plot top 5 side-by-side boxplot for top 5 ground truth rated hotel\n",
        "tp5gthotel = hotelRatingDfGt.sort_values('avgRatingScore',ascending=0).head(5)\n",
        "tp5gthotel['hotelName'].values\n",
        "\n",
        "wildRose = finaldf.loc[finaldf['hotelName'] == tp5gthotel['hotelName'].values[0]]['vader']\n",
        "hampton = finaldf.loc[finaldf['hotelName'] == tp5gthotel['hotelName'].values[1]]['vader']\n",
        "residenceInn = finaldf.loc[finaldf['hotelName'] == tp5gthotel['hotelName'].values[2]]['vader']\n",
        "chateauMoncton = finaldf.loc[finaldf['hotelName'] == tp5gthotel['hotelName'].values[3]]['vader']\n",
        "deltaHotels = finaldf.loc[finaldf['hotelName'] == tp5gthotel['hotelName'].values[4]]['vader']\n",
        "\n",
        "data = [wildRose, hampton, residenceInn,chateauMoncton, deltaHotels]\n",
        "# multiple box plots on one figure\n",
        "plt.figure()\n",
        "plt.boxplot(data)\n",
        "plt.show()"
      ],
      "execution_count": 0,
      "outputs": [
        {
          "output_type": "display_data",
          "data": {
            "image/png": "[encoded data removed]",
            "text/plain": [
              "<Figure size 432x288 with 1 Axes>"
            ]
          },
          "metadata": {
            "tags": []
          }
        }
      ]
    },
    {
      "cell_type": "code",
      "metadata": {
        "id": "StGybw4wsjhh",
        "colab_type": "code",
        "outputId": "1944b8ce-769d-474e-d30e-d92db4a963a4",
        "colab": {
          "base_uri": "https://localhost:8080/",
          "height": 204
        }
      },
      "source": [
        "tp5gthotel"
      ],
      "execution_count": 0,
      "outputs": [
        {
          "output_type": "execute_result",
          "data": {
            "text/html": [
              "<div>\n",
              "<style scoped>\n",
              "    .dataframe tbody tr th:only-of-type {\n",
              "        vertical-align: middle;\n",
              "    }\n",
              "\n",
              "    .dataframe tbody tr th {\n",
              "        vertical-align: top;\n",
              "    }\n",
              "\n",
              "    .dataframe thead th {\n",
              "        text-align: right;\n",
              "    }\n",
              "</style>\n",
              "<table border=\"1\" class=\"dataframe\">\n",
              "  <thead>\n",
              "    <tr style=\"text-align: right;\">\n",
              "      <th></th>\n",
              "      <th>hotelName</th>\n",
              "      <th>avgRatingScore</th>\n",
              "    </tr>\n",
              "  </thead>\n",
              "  <tbody>\n",
              "    <tr>\n",
              "      <th>17</th>\n",
              "      <td>Wild Rose Inn</td>\n",
              "      <td>0.940159</td>\n",
              "    </tr>\n",
              "    <tr>\n",
              "      <th>9</th>\n",
              "      <td>Hampton Inn &amp;amp; Suites by Hilton Moncton</td>\n",
              "      <td>0.877746</td>\n",
              "    </tr>\n",
              "    <tr>\n",
              "      <th>13</th>\n",
              "      <td>Residence Inn by Marriott Moncton</td>\n",
              "      <td>0.873703</td>\n",
              "    </tr>\n",
              "    <tr>\n",
              "      <th>2</th>\n",
              "      <td>Chateau Moncton Trademark Collection by Wyndham</td>\n",
              "      <td>0.852117</td>\n",
              "    </tr>\n",
              "    <tr>\n",
              "      <th>6</th>\n",
              "      <td>Delta Hotels by Marriott Beausejour</td>\n",
              "      <td>0.827642</td>\n",
              "    </tr>\n",
              "  </tbody>\n",
              "</table>\n",
              "</div>"
            ],
            "text/plain": [
              "                                          hotelName  avgRatingScore\n",
              "17  Wild Rose Inn                                   0.940159       \n",
              "9   Hampton Inn &amp; Suites by Hilton Moncton      0.877746       \n",
              "13  Residence Inn by Marriott Moncton               0.873703       \n",
              "2   Chateau Moncton Trademark Collection by Wyndham 0.852117       \n",
              "6   Delta Hotels by Marriott Beausejour             0.827642       "
            ]
          },
          "metadata": {
            "tags": []
          },
          "execution_count": 96
        }
      ]
    },
    {
      "cell_type": "markdown",
      "metadata": {
        "id": "gjkzQRk4mrIA",
        "colab_type": "text"
      },
      "source": [
        "####(b) Report the mean and variance of the ground truth and Vader sentiment scores for the top-5 ranked hotels according to star rating."
      ]
    },
    {
      "cell_type": "code",
      "metadata": {
        "id": "t6fW7moEmdsQ",
        "colab_type": "code",
        "colab": {}
      },
      "source": [
        "meanGT = pd.DataFrame(df2.groupby('hotelName').ratingScore.mean())\n",
        "varGT = pd.DataFrame(df2.groupby('hotelName').ratingScore.var())\n",
        "hotelRatingSore = pd.concat([meanGT, varGT],axis=1,sort=False)\n",
        "hotelRatingSore.columns = ['mean','variance']\n",
        "\n",
        "meanV = pd.DataFrame(df2.groupby('hotelName').vader.mean())\n",
        "varV = pd.DataFrame(df2.groupby('hotelName').vader.var())\n",
        "hotelVader = pd.concat([meanV, varV],axis=1,sort=False)\n",
        "hotelVader.columns = ['mean','variance']"
      ],
      "execution_count": 0,
      "outputs": []
    },
    {
      "cell_type": "code",
      "metadata": {
        "id": "tkcfgbKAna-x",
        "colab_type": "code",
        "outputId": "dcdcdc19-5c3e-4c5e-b3ee-1ac9cbccdc8e",
        "colab": {
          "base_uri": "https://localhost:8080/",
          "height": 638
        }
      },
      "source": [
        "#Ground Truth Rating \n",
        "hotelRatingSore.sort_values(by=['mean'],ascending=False)"
      ],
      "execution_count": 0,
      "outputs": [
        {
          "output_type": "execute_result",
          "data": {
            "text/html": [
              "<div>\n",
              "<style scoped>\n",
              "    .dataframe tbody tr th:only-of-type {\n",
              "        vertical-align: middle;\n",
              "    }\n",
              "\n",
              "    .dataframe tbody tr th {\n",
              "        vertical-align: top;\n",
              "    }\n",
              "\n",
              "    .dataframe thead th {\n",
              "        text-align: right;\n",
              "    }\n",
              "</style>\n",
              "<table border=\"1\" class=\"dataframe\">\n",
              "  <thead>\n",
              "    <tr style=\"text-align: right;\">\n",
              "      <th></th>\n",
              "      <th>mean</th>\n",
              "      <th>variance</th>\n",
              "    </tr>\n",
              "    <tr>\n",
              "      <th>hotelName</th>\n",
              "      <th></th>\n",
              "      <th></th>\n",
              "    </tr>\n",
              "  </thead>\n",
              "  <tbody>\n",
              "    <tr>\n",
              "      <th>Hampton Inn &amp;amp; Suites by Hilton Moncton</th>\n",
              "      <td>4.725000</td>\n",
              "      <td>0.419538</td>\n",
              "    </tr>\n",
              "    <tr>\n",
              "      <th>Residence Inn by Marriott Moncton</th>\n",
              "      <td>4.558333</td>\n",
              "      <td>0.517577</td>\n",
              "    </tr>\n",
              "    <tr>\n",
              "      <th>Wild Rose Inn</th>\n",
              "      <td>4.558333</td>\n",
              "      <td>0.551190</td>\n",
              "    </tr>\n",
              "    <tr>\n",
              "      <th>Fairfield Inn &amp;amp; Suites by Marriott Moncton</th>\n",
              "      <td>4.533333</td>\n",
              "      <td>0.771989</td>\n",
              "    </tr>\n",
              "    <tr>\n",
              "      <th>Four Points by Sheraton Moncton</th>\n",
              "      <td>4.483333</td>\n",
              "      <td>0.638375</td>\n",
              "    </tr>\n",
              "    <tr>\n",
              "      <th>Chateau Moncton Trademark Collection by Wyndham</th>\n",
              "      <td>4.483333</td>\n",
              "      <td>0.621569</td>\n",
              "    </tr>\n",
              "    <tr>\n",
              "      <th>Amsterdam Inn &amp;amp; Suites Moncton</th>\n",
              "      <td>4.450000</td>\n",
              "      <td>0.770588</td>\n",
              "    </tr>\n",
              "    <tr>\n",
              "      <th>Delta Hotels by Marriott Beausejour</th>\n",
              "      <td>4.200000</td>\n",
              "      <td>1.001681</td>\n",
              "    </tr>\n",
              "    <tr>\n",
              "      <th>Midtown Motel &amp;amp; Suites</th>\n",
              "      <td>4.133333</td>\n",
              "      <td>1.225770</td>\n",
              "    </tr>\n",
              "    <tr>\n",
              "      <th>Hotel Casino New Brunswick</th>\n",
              "      <td>4.125000</td>\n",
              "      <td>1.085084</td>\n",
              "    </tr>\n",
              "    <tr>\n",
              "      <th>Best Western Plus Moncton</th>\n",
              "      <td>4.083333</td>\n",
              "      <td>1.068627</td>\n",
              "    </tr>\n",
              "    <tr>\n",
              "      <th>Comfort Inn East</th>\n",
              "      <td>4.041667</td>\n",
              "      <td>1.250350</td>\n",
              "    </tr>\n",
              "    <tr>\n",
              "      <th>Crowne Plaza Moncton Downtown</th>\n",
              "      <td>3.991667</td>\n",
              "      <td>1.100770</td>\n",
              "    </tr>\n",
              "    <tr>\n",
              "      <th>Rodd Moncton Hotel</th>\n",
              "      <td>3.966667</td>\n",
              "      <td>1.108123</td>\n",
              "    </tr>\n",
              "    <tr>\n",
              "      <th>Days Inn &amp;amp; Suites by Wyndham Moncton</th>\n",
              "      <td>3.791667</td>\n",
              "      <td>1.292367</td>\n",
              "    </tr>\n",
              "    <tr>\n",
              "      <th>Travelodge Suites Moncton</th>\n",
              "      <td>3.733333</td>\n",
              "      <td>0.886275</td>\n",
              "    </tr>\n",
              "    <tr>\n",
              "      <th>V Hotel and Suites</th>\n",
              "      <td>3.530000</td>\n",
              "      <td>1.382929</td>\n",
              "    </tr>\n",
              "    <tr>\n",
              "      <th>Howard Johnson by Wyndham Moncton</th>\n",
              "      <td>2.950000</td>\n",
              "      <td>1.661345</td>\n",
              "    </tr>\n",
              "  </tbody>\n",
              "</table>\n",
              "</div>"
            ],
            "text/plain": [
              "                                                    mean  variance\n",
              "hotelName                                                         \n",
              "Hampton Inn &amp; Suites by Hilton Moncton      4.725000 0.419538 \n",
              "Residence Inn by Marriott Moncton               4.558333 0.517577 \n",
              "Wild Rose Inn                                   4.558333 0.551190 \n",
              "Fairfield Inn &amp; Suites by Marriott Moncton  4.533333 0.771989 \n",
              "Four Points by Sheraton Moncton                 4.483333 0.638375 \n",
              "Chateau Moncton Trademark Collection by Wyndham 4.483333 0.621569 \n",
              "Amsterdam Inn &amp; Suites Moncton              4.450000 0.770588 \n",
              "Delta Hotels by Marriott Beausejour             4.200000 1.001681 \n",
              "Midtown Motel &amp; Suites                      4.133333 1.225770 \n",
              "Hotel Casino New Brunswick                      4.125000 1.085084 \n",
              "Best Western Plus Moncton                       4.083333 1.068627 \n",
              "Comfort Inn East                                4.041667 1.250350 \n",
              "Crowne Plaza Moncton Downtown                   3.991667 1.100770 \n",
              "Rodd Moncton Hotel                              3.966667 1.108123 \n",
              "Days Inn &amp; Suites by Wyndham Moncton        3.791667 1.292367 \n",
              "Travelodge Suites Moncton                       3.733333 0.886275 \n",
              "V Hotel and Suites                              3.530000 1.382929 \n",
              "Howard Johnson by Wyndham Moncton               2.950000 1.661345 "
            ]
          },
          "metadata": {
            "tags": []
          },
          "execution_count": 78
        }
      ]
    },
    {
      "cell_type": "code",
      "metadata": {
        "id": "dPtnKhqincad",
        "colab_type": "code",
        "outputId": "4316aec8-7951-473d-fa3b-6af9af28479c",
        "colab": {
          "base_uri": "https://localhost:8080/",
          "height": 638
        }
      },
      "source": [
        "#Vader \n",
        "hotelVader.sort_values(by=['mean'],ascending=False)"
      ],
      "execution_count": 0,
      "outputs": [
        {
          "output_type": "execute_result",
          "data": {
            "text/html": [
              "<div>\n",
              "<style scoped>\n",
              "    .dataframe tbody tr th:only-of-type {\n",
              "        vertical-align: middle;\n",
              "    }\n",
              "\n",
              "    .dataframe tbody tr th {\n",
              "        vertical-align: top;\n",
              "    }\n",
              "\n",
              "    .dataframe thead th {\n",
              "        text-align: right;\n",
              "    }\n",
              "</style>\n",
              "<table border=\"1\" class=\"dataframe\">\n",
              "  <thead>\n",
              "    <tr style=\"text-align: right;\">\n",
              "      <th></th>\n",
              "      <th>mean</th>\n",
              "      <th>variance</th>\n",
              "    </tr>\n",
              "    <tr>\n",
              "      <th>hotelName</th>\n",
              "      <th></th>\n",
              "      <th></th>\n",
              "    </tr>\n",
              "  </thead>\n",
              "  <tbody>\n",
              "    <tr>\n",
              "      <th>Wild Rose Inn</th>\n",
              "      <td>0.940159</td>\n",
              "      <td>0.007207</td>\n",
              "    </tr>\n",
              "    <tr>\n",
              "      <th>Hampton Inn &amp;amp; Suites by Hilton Moncton</th>\n",
              "      <td>0.877746</td>\n",
              "      <td>0.069074</td>\n",
              "    </tr>\n",
              "    <tr>\n",
              "      <th>Residence Inn by Marriott Moncton</th>\n",
              "      <td>0.873703</td>\n",
              "      <td>0.069271</td>\n",
              "    </tr>\n",
              "    <tr>\n",
              "      <th>Chateau Moncton Trademark Collection by Wyndham</th>\n",
              "      <td>0.852117</td>\n",
              "      <td>0.095723</td>\n",
              "    </tr>\n",
              "    <tr>\n",
              "      <th>Delta Hotels by Marriott Beausejour</th>\n",
              "      <td>0.827642</td>\n",
              "      <td>0.087139</td>\n",
              "    </tr>\n",
              "    <tr>\n",
              "      <th>Amsterdam Inn &amp;amp; Suites Moncton</th>\n",
              "      <td>0.816495</td>\n",
              "      <td>0.148852</td>\n",
              "    </tr>\n",
              "    <tr>\n",
              "      <th>Fairfield Inn &amp;amp; Suites by Marriott Moncton</th>\n",
              "      <td>0.814950</td>\n",
              "      <td>0.115773</td>\n",
              "    </tr>\n",
              "    <tr>\n",
              "      <th>Four Points by Sheraton Moncton</th>\n",
              "      <td>0.803104</td>\n",
              "      <td>0.159516</td>\n",
              "    </tr>\n",
              "    <tr>\n",
              "      <th>V Hotel and Suites</th>\n",
              "      <td>0.790096</td>\n",
              "      <td>0.138331</td>\n",
              "    </tr>\n",
              "    <tr>\n",
              "      <th>Hotel Casino New Brunswick</th>\n",
              "      <td>0.784327</td>\n",
              "      <td>0.160356</td>\n",
              "    </tr>\n",
              "    <tr>\n",
              "      <th>Crowne Plaza Moncton Downtown</th>\n",
              "      <td>0.774815</td>\n",
              "      <td>0.181898</td>\n",
              "    </tr>\n",
              "    <tr>\n",
              "      <th>Rodd Moncton Hotel</th>\n",
              "      <td>0.772581</td>\n",
              "      <td>0.168954</td>\n",
              "    </tr>\n",
              "    <tr>\n",
              "      <th>Midtown Motel &amp;amp; Suites</th>\n",
              "      <td>0.770074</td>\n",
              "      <td>0.207774</td>\n",
              "    </tr>\n",
              "    <tr>\n",
              "      <th>Comfort Inn East</th>\n",
              "      <td>0.712707</td>\n",
              "      <td>0.194863</td>\n",
              "    </tr>\n",
              "    <tr>\n",
              "      <th>Best Western Plus Moncton</th>\n",
              "      <td>0.696138</td>\n",
              "      <td>0.253526</td>\n",
              "    </tr>\n",
              "    <tr>\n",
              "      <th>Days Inn &amp;amp; Suites by Wyndham Moncton</th>\n",
              "      <td>0.669666</td>\n",
              "      <td>0.225890</td>\n",
              "    </tr>\n",
              "    <tr>\n",
              "      <th>Travelodge Suites Moncton</th>\n",
              "      <td>0.479580</td>\n",
              "      <td>0.336062</td>\n",
              "    </tr>\n",
              "    <tr>\n",
              "      <th>Howard Johnson by Wyndham Moncton</th>\n",
              "      <td>0.344578</td>\n",
              "      <td>0.497309</td>\n",
              "    </tr>\n",
              "  </tbody>\n",
              "</table>\n",
              "</div>"
            ],
            "text/plain": [
              "                                                    mean  variance\n",
              "hotelName                                                         \n",
              "Wild Rose Inn                                   0.940159 0.007207 \n",
              "Hampton Inn &amp; Suites by Hilton Moncton      0.877746 0.069074 \n",
              "Residence Inn by Marriott Moncton               0.873703 0.069271 \n",
              "Chateau Moncton Trademark Collection by Wyndham 0.852117 0.095723 \n",
              "Delta Hotels by Marriott Beausejour             0.827642 0.087139 \n",
              "Amsterdam Inn &amp; Suites Moncton              0.816495 0.148852 \n",
              "Fairfield Inn &amp; Suites by Marriott Moncton  0.814950 0.115773 \n",
              "Four Points by Sheraton Moncton                 0.803104 0.159516 \n",
              "V Hotel and Suites                              0.790096 0.138331 \n",
              "Hotel Casino New Brunswick                      0.784327 0.160356 \n",
              "Crowne Plaza Moncton Downtown                   0.774815 0.181898 \n",
              "Rodd Moncton Hotel                              0.772581 0.168954 \n",
              "Midtown Motel &amp; Suites                      0.770074 0.207774 \n",
              "Comfort Inn East                                0.712707 0.194863 \n",
              "Best Western Plus Moncton                       0.696138 0.253526 \n",
              "Days Inn &amp; Suites by Wyndham Moncton        0.669666 0.225890 \n",
              "Travelodge Suites Moncton                       0.479580 0.336062 \n",
              "Howard Johnson by Wyndham Moncton               0.344578 0.497309 "
            ]
          },
          "metadata": {
            "tags": []
          },
          "execution_count": 79
        }
      ]
    },
    {
      "cell_type": "markdown",
      "metadata": {
        "id": "wUsqWQOiuXF8",
        "colab_type": "text"
      },
      "source": [
        "The boxplots and the mena and variance are equally informative.\n",
        "* For ***ground truth rating***\n",
        " * Because the difference between the top ranking hotels is very little, the difference of the boxplots for the top five hotels is barely noticeable. The medium for the top 5 hotels are similar. The ground truth rating data for ***Hampton Inn &amp; Suites by Hilton Moncton*** is the most dense around the medium. Other four hotels have similar distribution. \n",
        " *  Mean and variance can tell mroe nuances. Although the mean for the five hotels is similar, ***Hampton Inn &amp; Suites by Hilton Moncton*** ranks the first and has the least variance. ***Fairfield Inn &amp; Suites by Marriott Moncton*** has the most variance amoung the five hotels.\n",
        "* For ***vader***,\n",
        " * The medium for the 5 top ranking hotels is again not very noticeable; however, we can tell the first hotel's vader score is the least scattered whereas the fifth hotel's vade score is the most scattered. \n",
        " * We can easily tell that the first hotel has the greatest mean. The variance of the forth hotel is greater than that of the fifth hotel. "
      ]
    },
    {
      "cell_type": "markdown",
      "metadata": {
        "id": "7aoYTjVB2IEO",
        "colab_type": "text"
      },
      "source": [
        "###(c) Scatterplots and heatmaps\n",
        "####(a) Show both a scatterplot and heatmap of ground truth score (star rating) versus Vader sentiment score. Each review is a point on the scatterplot."
      ]
    },
    {
      "cell_type": "code",
      "metadata": {
        "id": "Zu08elwYo78L",
        "colab_type": "code",
        "outputId": "b21e64c0-6620-4e6b-a44e-e653b163518e",
        "colab": {
          "base_uri": "https://localhost:8080/",
          "height": 296
        }
      },
      "source": [
        "y = finaldf['ratingScore'].values\n",
        "x = finaldf['vader'].values\n",
        "plt.plot(x, y,\"o\")\n",
        "plt.ylabel('Rating')\n",
        "plt.xlabel('Vader Score')"
      ],
      "execution_count": 0,
      "outputs": [
        {
          "output_type": "execute_result",
          "data": {
            "text/plain": [
              "Text(0.5, 0, 'Vader Score')"
            ]
          },
          "metadata": {
            "tags": []
          },
          "execution_count": 97
        },
        {
          "output_type": "display_data",
          "data": {
            "image/png": "[encoded data removed]",
            "text/plain": [
              "<Figure size 432x288 with 1 Axes>"
            ]
          },
          "metadata": {
            "tags": []
          }
        }
      ]
    },
    {
      "cell_type": "code",
      "metadata": {
        "id": "JACRFEsq2d5d",
        "colab_type": "code",
        "colab": {}
      },
      "source": [
        "from scipy.stats.kde import gaussian_kde\n",
        "\n",
        "k = gaussian_kde(np.vstack([x, y]))\n",
        "xi, yi = np.mgrid[x.min():x.max():x.size**0.5*1j,y.min():y.max():y.size**0.5*1j]\n",
        "zi = k(np.vstack([xi.flatten(), yi.flatten()]))"
      ],
      "execution_count": 0,
      "outputs": []
    },
    {
      "cell_type": "code",
      "metadata": {
        "id": "Xrxp9FeX3jBj",
        "colab_type": "code",
        "outputId": "78a20efb-1c95-4c04-8968-de21315b7008",
        "colab": {
          "base_uri": "https://localhost:8080/",
          "height": 281
        }
      },
      "source": [
        "cmap = sns.cubehelix_palette(light=1, as_cmap=True)\n",
        "fig = plt.figure(figsize=(6,8))\n",
        "ax1 = fig.add_subplot(211)\n",
        "# ax2 = fig.add_subplot(212)\n",
        "\n",
        "ax1.pcolormesh(xi, yi, np.log10(zi.reshape(xi.shape)), cmap=cmap)\n",
        "# ax2.contourf(xi, yi, np.log10(zi.reshape(xi.shape)), cmap=cmap)\n",
        "\n",
        "ax1.set_xlim(x.min(), x.max())\n",
        "ax1.set_ylim(y.min(), y.max())\n",
        "# ax2.set_xlim(x.min(), x.max())\n",
        "# ax2.set_ylim(y.min(), y.max())\n",
        "\n",
        "ax1.set_xlabel('Vader Score')\n",
        "ax1.set_ylabel('Rating')\n",
        "\n",
        "# ax2.set_xlabel('Vader Score')\n",
        "# ax2.set_ylabel('Rating')"
      ],
      "execution_count": 0,
      "outputs": [
        {
          "output_type": "execute_result",
          "data": {
            "text/plain": [
              "Text(0, 0.5, 'Rating')"
            ]
          },
          "metadata": {
            "tags": []
          },
          "execution_count": 99
        },
        {
          "output_type": "display_data",
          "data": {
            "image/png": "[encoded data removed]",
            "text/plain": [
              "<Figure size 432x576 with 1 Axes>"
            ]
          },
          "metadata": {
            "tags": []
          }
        }
      ]
    },
    {
      "cell_type": "markdown",
      "metadata": {
        "id": "K1pIi09D5ZDx",
        "colab_type": "text"
      },
      "source": [
        "* There are a lot of positive ground truth ratings with positive vader. Those data points gather around the top right corner. \n",
        "* 3 score rating is neutral in terms of vader. The data points vary acorss the realm of vader. \n",
        "* Reviews for low ratings like 1 and 2 are more polarized. Those reviews are either extremely positive or extremely negative. \n",
        "* 1 score rating tends to have negative reviews.\n",
        "\n",
        "####(b) Show two scatterplots and two heatmaps of the length of reviews versus each of ground truth score and Vader sentiment score."
      ]
    },
    {
      "cell_type": "code",
      "metadata": {
        "id": "AU9myhuu9E_m",
        "colab_type": "code",
        "colab": {}
      },
      "source": [
        "lst=[]\n",
        "for r in finaldf['reviewCol'].iteritems():\n",
        "    lst.append(len(r[1].split()))\n",
        "finaldf['Length'] = lst"
      ],
      "execution_count": 0,
      "outputs": []
    },
    {
      "cell_type": "code",
      "metadata": {
        "id": "f2vULB_X3yi3",
        "colab_type": "code",
        "outputId": "750d9c7b-1247-41d6-88ee-3d7dc6cb6bd4",
        "colab": {
          "base_uri": "https://localhost:8080/",
          "height": 296
        }
      },
      "source": [
        "y = finaldf['ratingScore'].values\n",
        "x = finaldf['Length'].values\n",
        "plt.plot(x, y,\"o\")\n",
        "plt.ylabel('Rating Score')\n",
        "plt.xlabel('Review Length')"
      ],
      "execution_count": 120,
      "outputs": [
        {
          "output_type": "execute_result",
          "data": {
            "text/plain": [
              "Text(0.5, 0, 'Review Length')"
            ]
          },
          "metadata": {
            "tags": []
          },
          "execution_count": 120
        },
        {
          "output_type": "display_data",
          "data": {
            "image/png": "[encoded data removed]",
            "text/plain": [
              "<Figure size 432x288 with 1 Axes>"
            ]
          },
          "metadata": {
            "tags": []
          }
        }
      ]
    },
    {
      "cell_type": "code",
      "metadata": {
        "id": "kkIq2p26-5kZ",
        "colab_type": "code",
        "outputId": "2ad08b20-51b7-49a0-e2fc-4570f93d5a25",
        "colab": {
          "base_uri": "https://localhost:8080/",
          "height": 281
        }
      },
      "source": [
        "k = gaussian_kde(np.vstack([x, y]))\n",
        "xi, yi = np.mgrid[x.min():x.max():x.size**0.5*1j,y.min():y.max():y.size**0.5*1j]\n",
        "zi = k(np.vstack([xi.flatten(), yi.flatten()]))\n",
        "#plot\n",
        "cmap = sns.cubehelix_palette(light=1, as_cmap=True)\n",
        "fig = plt.figure(figsize=(6,8))\n",
        "ax1 = fig.add_subplot(211)\n",
        "ax1.pcolormesh(xi, yi, np.log10(zi.reshape(xi.shape)), cmap=cmap)\n",
        "\n",
        "ax1.set_xlim(x.min(), x.max())\n",
        "ax1.set_ylim(y.min(), y.max())\n",
        "\n",
        "ax1.set_xlabel('Review Length')\n",
        "ax1.set_ylabel('Rating Socre')"
      ],
      "execution_count": 121,
      "outputs": [
        {
          "output_type": "execute_result",
          "data": {
            "text/plain": [
              "Text(0, 0.5, 'Rating Socre')"
            ]
          },
          "metadata": {
            "tags": []
          },
          "execution_count": 121
        },
        {
          "output_type": "display_data",
          "data": {
            "image/png": "[encoded data removed]",
            "text/plain": [
              "<Figure size 432x576 with 1 Axes>"
            ]
          },
          "metadata": {
            "tags": []
          }
        }
      ]
    },
    {
      "cell_type": "code",
      "metadata": {
        "id": "3Y4aEH3GBE5z",
        "colab_type": "code",
        "colab": {
          "base_uri": "https://localhost:8080/",
          "height": 296
        },
        "outputId": "c615170f-2345-440b-d335-f645510b3d92"
      },
      "source": [
        "y = finaldf['vader'].values\n",
        "x = finaldf['Length'].values\n",
        "plt.plot(x, y,\"o\")\n",
        "plt.ylabel('Vader')\n",
        "plt.xlabel('Review Length')"
      ],
      "execution_count": 122,
      "outputs": [
        {
          "output_type": "execute_result",
          "data": {
            "text/plain": [
              "Text(0.5, 0, 'Review Length')"
            ]
          },
          "metadata": {
            "tags": []
          },
          "execution_count": 122
        },
        {
          "output_type": "display_data",
          "data": {
            "image/png": "[encoded data removed]",
            "text/plain": [
              "<Figure size 432x288 with 1 Axes>"
            ]
          },
          "metadata": {
            "tags": []
          }
        }
      ]
    },
    {
      "cell_type": "code",
      "metadata": {
        "id": "fob8sC4DBvYe",
        "colab_type": "code",
        "colab": {
          "base_uri": "https://localhost:8080/",
          "height": 277
        },
        "outputId": "99f54f5c-1ea1-4c85-8d01-c6f08ee620c6"
      },
      "source": [
        "k = gaussian_kde(np.vstack([x, y]))\n",
        "xi, yi = np.mgrid[x.min():x.max():x.size**0.5*1j,y.min():y.max():y.size**0.5*1j]\n",
        "zi = k(np.vstack([xi.flatten(), yi.flatten()]))\n",
        "#plot\n",
        "cmap = sns.cubehelix_palette(light=1, as_cmap=True)\n",
        "fig = plt.figure(figsize=(6,8))\n",
        "ax1 = fig.add_subplot(211)\n",
        "ax1.pcolormesh(xi, yi, np.log10(zi.reshape(xi.shape)), cmap=cmap)\n",
        "\n",
        "ax1.set_xlim(x.min(), x.max())\n",
        "ax1.set_ylim(y.min(), y.max())\n",
        "\n",
        "ax1.set_xlabel('Review Length')\n",
        "ax1.set_ylabel('Vader')"
      ],
      "execution_count": 123,
      "outputs": [
        {
          "output_type": "execute_result",
          "data": {
            "text/plain": [
              "Text(0, 0.5, 'Vader')"
            ]
          },
          "metadata": {
            "tags": []
          },
          "execution_count": 123
        },
        {
          "output_type": "display_data",
          "data": {
            "image/png": "[encoded data removed]",
            "text/plain": [
              "<Figure size 432x576 with 1 Axes>"
            ]
          },
          "metadata": {
            "tags": []
          }
        }
      ]
    },
    {
      "cell_type": "markdown",
      "metadata": {
        "id": "JdxGmXt-CZVa",
        "colab_type": "text"
      },
      "source": [
        "* People's comments generally don't exceed 500 words, which is true for all values of vader. Both extremely high ratings and low ratings tend to have more outliers for review length, possibly because the customer was either too happy or too angry with the service. \n",
        "* Vader values in the middle tend to have shorter reviews. Values on the edge tend to have longer reviews. Vader value doesn't necessarily represent the truth. The outlier who rated 1 and wrote more than 2000 words of a story to complain received a high vader. There isn't much words in his review to describe his mood. "
      ]
    },
    {
      "cell_type": "markdown",
      "metadata": {
        "id": "hgQT0_B2E7KO",
        "colab_type": "text"
      },
      "source": [
        "####(c) Show two scatterplots of the number of reviews per hotel versus each of average ground truth score and average Vader sentiment score. In this case, each hotel is a single point on the scatterplot."
      ]
    },
    {
      "cell_type": "code",
      "metadata": {
        "id": "BL7rrKUnGKGi",
        "colab_type": "code",
        "colab": {}
      },
      "source": [
        "reviewNum = finaldf.groupby('hotelName').reviewCol.count()\n",
        "cDF = pd.concat([hotelRatingSore, reviewNum],axis=1,sort=False)"
      ],
      "execution_count": 0,
      "outputs": []
    },
    {
      "cell_type": "code",
      "metadata": {
        "id": "2KcLqeYEC5CJ",
        "colab_type": "code",
        "colab": {
          "base_uri": "https://localhost:8080/",
          "height": 296
        },
        "outputId": "c733a6a0-b650-41ab-94d2-c3221bc41f03"
      },
      "source": [
        "y = cDF['mean'].values\n",
        "x = cDF['reviewCol'].values\n",
        "plt.plot(x, y,\"o\")\n",
        "plt.ylabel('Avergae Rating Score')\n",
        "plt.xlabel('Number of Reviews')"
      ],
      "execution_count": 153,
      "outputs": [
        {
          "output_type": "execute_result",
          "data": {
            "text/plain": [
              "Text(0.5, 0, 'Number of Reviews')"
            ]
          },
          "metadata": {
            "tags": []
          },
          "execution_count": 153
        },
        {
          "output_type": "display_data",
          "data": {
            "image/png": "[encoded data removed]",
            "text/plain": [
              "<Figure size 432x288 with 1 Axes>"
            ]
          },
          "metadata": {
            "tags": []
          }
        }
      ]
    },
    {
      "cell_type": "code",
      "metadata": {
        "id": "bD2PqsYgH8wI",
        "colab_type": "code",
        "colab": {}
      },
      "source": [
        "reviewNum = finaldf.groupby('hotelName').reviewCol.count()\n",
        "cDF = pd.concat([hotelVader, reviewNum],axis=1,sort=False)"
      ],
      "execution_count": 0,
      "outputs": []
    },
    {
      "cell_type": "code",
      "metadata": {
        "id": "vjQxqMl9IKIv",
        "colab_type": "code",
        "colab": {
          "base_uri": "https://localhost:8080/",
          "height": 296
        },
        "outputId": "de77c8da-be5f-483e-c9af-275c76ede080"
      },
      "source": [
        "y = cDF['mean'].values\n",
        "x = cDF['reviewCol'].values\n",
        "plt.plot(x, y,\"o\")\n",
        "plt.ylabel('Avergae Rating Score')\n",
        "plt.xlabel('Number of Reviews')"
      ],
      "execution_count": 155,
      "outputs": [
        {
          "output_type": "execute_result",
          "data": {
            "text/plain": [
              "Text(0.5, 0, 'Number of Reviews')"
            ]
          },
          "metadata": {
            "tags": []
          },
          "execution_count": 155
        },
        {
          "output_type": "display_data",
          "data": {
            "image/png": "[encoded data removed]",
            "text/plain": [
              "<Figure size 432x288 with 1 Axes>"
            ]
          },
          "metadata": {
            "tags": []
          }
        }
      ]
    },
    {
      "cell_type": "markdown",
      "metadata": {
        "id": "ZxUAetfFIxK9",
        "colab_type": "text"
      },
      "source": [
        "Because I intentionally manipulated the data, the number of reviews are almost equal."
      ]
    },
    {
      "cell_type": "code",
      "metadata": {
        "id": "vvAjR4z7ILmi",
        "colab_type": "code",
        "colab": {}
      },
      "source": [
        ""
      ],
      "execution_count": 0,
      "outputs": []
    }
  ]
}